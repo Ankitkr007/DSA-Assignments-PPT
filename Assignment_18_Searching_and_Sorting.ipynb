{
  "nbformat": 4,
  "nbformat_minor": 0,
  "metadata": {
    "colab": {
      "provenance": []
    },
    "kernelspec": {
      "name": "python3",
      "display_name": "Python 3"
    },
    "language_info": {
      "name": "python"
    }
  },
  "cells": [
    {
      "cell_type": "code",
      "execution_count": null,
      "metadata": {
        "id": "xjpOqtvN7XwL"
      },
      "outputs": [],
      "source": []
    },
    {
      "cell_type": "markdown",
      "source": [
        "#Question 1:\n",
        "Merge Intervals**\n",
        "\n",
        "Given an array of `intervals` where `intervals[i] = [starti, endi]`, merge all overlapping intervals, and return *an array of the non-overlapping intervals that cover all the intervals in the input*.\n",
        "\n",
        "**Example 1:**\n",
        "\n",
        "```\n",
        "Input: intervals = [[1,3],[2,6],[8,10],[15,18]]\n",
        "Output: [[1,6],[8,10],[15,18]]\n",
        "Explanation: Since intervals [1,3] and [2,6] overlap, merge them into [1,6].\n",
        "\n",
        "```\n",
        "\n",
        "**Example 2:**\n",
        "\n",
        "```\n",
        "Input: intervals = [[1,4],[4,5]]\n",
        "Output: [[1,5]]\n",
        "Explanation: Intervals [1,4] and [4,5] are considered overlapping.\n",
        "\n",
        "```\n",
        "\n",
        "**Constraints:**\n",
        "\n",
        "- `1 <= intervals.length <= 10000`\n",
        "- `intervals[i].length == 2`\n",
        "- `0 <= starti <= endi <= 10000`\n",
        "</aside>"
      ],
      "metadata": {
        "id": "9TpFOLzA7Y48"
      }
    },
    {
      "cell_type": "code",
      "source": [
        "def merge(intervals):\n",
        "    if not intervals:\n",
        "        return []\n",
        "\n",
        "    intervals.sort(key=lambda x: x[0])\n",
        "    merged = [intervals[0]]\n",
        "\n",
        "    for interval in intervals[1:]:\n",
        "        if interval[0] <= merged[-1][1]:\n",
        "            merged[-1][1] = max(merged[-1][1], interval[1])\n",
        "        else:\n",
        "            merged.append(interval)\n",
        "\n",
        "    return merged\n"
      ],
      "metadata": {
        "id": "itiq_Dnk8D3B"
      },
      "execution_count": null,
      "outputs": []
    },
    {
      "cell_type": "code",
      "source": [
        "# Example 1\n",
        "intervals1 = [[1, 3], [2, 6], [8, 10], [15, 18]]\n",
        "print(merge(intervals1))\n",
        "\n",
        "# Example 2\n",
        "intervals2 = [[1, 4], [4, 5]]\n",
        "print(merge(intervals2))"
      ],
      "metadata": {
        "colab": {
          "base_uri": "https://localhost:8080/"
        },
        "id": "qog0gO9o8L_R",
        "outputId": "db726d86-5ba7-4240-8a08-2ee26a3f979f"
      },
      "execution_count": null,
      "outputs": [
        {
          "output_type": "stream",
          "name": "stdout",
          "text": [
            "[[1, 6], [8, 10], [15, 18]]\n",
            "[[1, 5]]\n"
          ]
        }
      ]
    },
    {
      "cell_type": "code",
      "source": [],
      "metadata": {
        "id": "9r1Kei5L8Pps"
      },
      "execution_count": null,
      "outputs": []
    },
    {
      "cell_type": "markdown",
      "source": [
        "#Question 2:\n",
        "Sort Colors\n",
        "\n",
        "Given an array `nums` with `n` objects colored red, white, or blue, sort them **[in-place](https://en.wikipedia.org/wiki/In-place_algorithm)** so that objects of the same color are adjacent, with the colors in the order red, white, and blue.\n",
        "\n",
        "We will use the integers `0`, `1`, and `2` to represent the color red, white, and blue, respectively.\n",
        "\n",
        "You must solve this problem without using the library's sort function.\n",
        "\n",
        "**Example 1:**\n",
        "\n",
        "```\n",
        "Input: nums = [2,0,2,1,1,0]\n",
        "Output: [0,0,1,1,2,2]\n",
        "\n",
        "```\n",
        "\n",
        "**Example 2:**\n",
        "\n",
        "```\n",
        "Input: nums = [2,0,1]\n",
        "Output: [0,1,2]\n",
        "\n",
        "```\n",
        "\n",
        "**Constraints:**\n",
        "\n",
        "- `n == nums.length`\n",
        "- `1 <= n <= 300`\n",
        "- `nums[i]` is either `0`, `1`, or `2`.\n",
        "</aside>"
      ],
      "metadata": {
        "id": "HgvN1TmZ8S6c"
      }
    },
    {
      "cell_type": "code",
      "source": [
        "def sortColors(nums):\n",
        "    low, mid, high = 0, 0, len(nums) - 1\n",
        "\n",
        "    while mid <= high:\n",
        "        if nums[mid] == 0:\n",
        "            nums[low], nums[mid] = nums[mid], nums[low]\n",
        "            low += 1\n",
        "            mid += 1\n",
        "        elif nums[mid] == 1:\n",
        "            mid += 1\n",
        "        else:  # nums[mid] == 2\n",
        "            nums[mid], nums[high] = nums[high], nums[mid]\n",
        "            high -= 1\n",
        "\n",
        "    return nums\n"
      ],
      "metadata": {
        "id": "MQdvZ4_w8kSe"
      },
      "execution_count": null,
      "outputs": []
    },
    {
      "cell_type": "code",
      "source": [
        "# Example 1\n",
        "nums1 = [2, 0, 2, 1, 1, 0]\n",
        "print(sortColors(nums1))\n",
        "\n",
        "# Example 2\n",
        "nums2 = [2, 0, 1]\n",
        "print(sortColors(nums2))\n"
      ],
      "metadata": {
        "colab": {
          "base_uri": "https://localhost:8080/"
        },
        "id": "SszPKPkX8rVf",
        "outputId": "e6ddde61-9b37-432f-f76b-406d53e67ee2"
      },
      "execution_count": null,
      "outputs": [
        {
          "output_type": "stream",
          "name": "stdout",
          "text": [
            "[0, 0, 1, 1, 2, 2]\n",
            "[0, 1, 2]\n"
          ]
        }
      ]
    },
    {
      "cell_type": "code",
      "source": [],
      "metadata": {
        "id": "iMuL9Zi88tD1"
      },
      "execution_count": null,
      "outputs": []
    },
    {
      "cell_type": "markdown",
      "source": [
        "#Question 3:\n",
        "First Bad Version Solution**\n",
        "\n",
        "You are a product manager and currently leading a team to develop a new product. Unfortunately, the latest version of your product fails the quality check. Since each version is developed based on the previous version, all the versions after a bad version are also bad.\n",
        "\n",
        "Suppose you have `n` versions `[1, 2, ..., n]` and you want to find out the first bad one, which causes all the following ones to be bad.\n",
        "\n",
        "You are given an API `bool isBadVersion(version)` which returns whether `version` is bad. Implement a function to find the first bad version. You should minimize the number of calls to the API.\n",
        "\n",
        "**Example 1:**\n",
        "\n",
        "```\n",
        "Input: n = 5, bad = 4\n",
        "Output: 4\n",
        "Explanation:\n",
        "call isBadVersion(3) -> false\n",
        "call isBadVersion(5) -> true\n",
        "call isBadVersion(4) -> true\n",
        "Then 4 is the first bad version.\n",
        "\n",
        "```\n",
        "\n",
        "**Example 2:**\n",
        "\n",
        "```\n",
        "Input: n = 1, bad = 1\n",
        "Output: 1\n",
        "\n",
        "```\n",
        "\n",
        "**Constraints:**\n",
        "\n",
        "- `1 <= bad <= n <= 2^31 - 1`\n",
        "</aside>"
      ],
      "metadata": {
        "id": "bclkVvtl8z5g"
      }
    },
    {
      "cell_type": "code",
      "source": [
        "def isBadVersion(version, bad):\n",
        "    return version >= bad\n",
        "\n",
        "def firstBadVersion(n, bad):\n",
        "    left, right = 1, n\n",
        "\n",
        "    while left < right:\n",
        "        mid = left + (right - left) // 2\n",
        "        if isBadVersion(mid, bad):\n",
        "            right = mid\n",
        "        else:\n",
        "            left = mid + 1\n",
        "\n",
        "    return left\n"
      ],
      "metadata": {
        "id": "y3Ol-x4_85bB"
      },
      "execution_count": null,
      "outputs": []
    },
    {
      "cell_type": "code",
      "source": [
        "# Example 1\n",
        "n1 = 5\n",
        "bad1 = 4\n",
        "print(firstBadVersion(n1, bad1))\n",
        "\n",
        "# Example 2\n",
        "n2 = 1\n",
        "bad2 = 1\n",
        "print(firstBadVersion(n2, bad2))"
      ],
      "metadata": {
        "colab": {
          "base_uri": "https://localhost:8080/"
        },
        "id": "GwKayBuE8_KV",
        "outputId": "ca9278cf-d2e1-4f99-8550-7bff2fea53e1"
      },
      "execution_count": null,
      "outputs": [
        {
          "output_type": "stream",
          "name": "stdout",
          "text": [
            "4\n",
            "1\n"
          ]
        }
      ]
    },
    {
      "cell_type": "code",
      "source": [],
      "metadata": {
        "id": "ouWH2w7M9BEW"
      },
      "execution_count": null,
      "outputs": []
    },
    {
      "cell_type": "markdown",
      "source": [
        "#Question 4:\n",
        "Maximum Gap\n",
        "\n",
        "Given an integer array `nums`, return *the maximum difference between two successive elements in its sorted form*. If the array contains less than two elements, return `0`.\n",
        "\n",
        "You must write an algorithm that runs in linear time and uses linear extra space.\n",
        "\n",
        "**Example 1:**\n",
        "\n",
        "```\n",
        "Input: nums = [3,6,9,1]\n",
        "Output: 3\n",
        "Explanation: The sorted form of the array is [1,3,6,9], either (3,6) or (6,9) has the maximum difference 3.\n",
        "\n",
        "```\n",
        "\n",
        "**Example 2:**\n",
        "\n",
        "```\n",
        "Input: nums = [10]\n",
        "Output: 0\n",
        "Explanation: The array contains less than 2 elements, therefore return 0.\n",
        "\n",
        "```\n",
        "\n",
        "**Constraints:**\n",
        "\n",
        "- `1 <= nums.length <= 10^5`\n",
        "- `0 <= nums[i] <= 10^9`\n",
        "</aside>"
      ],
      "metadata": {
        "id": "d3s9TKTh9_AC"
      }
    },
    {
      "cell_type": "code",
      "source": [
        "def maximumGap(nums):\n",
        "    if len(nums) < 2:\n",
        "        return 0\n",
        "\n",
        "    min_value = min(nums)\n",
        "    max_value = max(nums)\n",
        "\n",
        "    if max_value == min_value:\n",
        "        return 0\n",
        "\n",
        "    bucket_size = (max_value - min_value) // (len(nums) - 1)\n",
        "    if bucket_size == 0:\n",
        "        return max_value - min_value\n",
        "\n",
        "    num_buckets = (max_value - min_value) // bucket_size + 1\n",
        "    min_bucket = [float('inf')] * num_buckets\n",
        "    max_bucket = [float('-inf')] * num_buckets\n",
        "\n",
        "    for num in nums:\n",
        "        bucket_index = (num - min_value) // bucket_size\n",
        "        min_bucket[bucket_index] = min(min_bucket[bucket_index], num)\n",
        "        max_bucket[bucket_index] = max(max_bucket[bucket_index], num)\n",
        "\n",
        "    prev_max = min_value\n",
        "    max_gap = 0\n",
        "\n",
        "    for i in range(num_buckets):\n",
        "        if min_bucket[i] == float('inf'):\n",
        "            continue\n",
        "        max_gap = max(max_gap, min_bucket[i] - prev_max)\n",
        "        prev_max = max_bucket[i]\n",
        "\n",
        "    return max_gap\n"
      ],
      "metadata": {
        "id": "3WuLZJei-FVe"
      },
      "execution_count": null,
      "outputs": []
    },
    {
      "cell_type": "code",
      "source": [
        "# Example 1\n",
        "nums1 = [3, 6, 9, 1]\n",
        "print(maximumGap(nums1))\n",
        "\n",
        "# Example 2\n",
        "nums2 = [10]\n",
        "print(maximumGap(nums2))\n"
      ],
      "metadata": {
        "colab": {
          "base_uri": "https://localhost:8080/"
        },
        "id": "ePJItgzm-QF-",
        "outputId": "796babdb-8478-422e-c6f7-1eccf10efcbe"
      },
      "execution_count": null,
      "outputs": [
        {
          "output_type": "stream",
          "name": "stdout",
          "text": [
            "3\n",
            "0\n"
          ]
        }
      ]
    },
    {
      "cell_type": "code",
      "source": [],
      "metadata": {
        "id": "aBJ3wkXy-Xqc"
      },
      "execution_count": null,
      "outputs": []
    },
    {
      "cell_type": "markdown",
      "source": [
        "#Question 5:\n",
        "Contains Duplicate\n",
        "\n",
        "Given an integer array `nums`, return `true` if any value appears **at least twice** in the array, and return `false` if every element is distinct.\n",
        "\n",
        "**Example 1:**\n",
        "\n",
        "```\n",
        "Input: nums = [1,2,3,1]\n",
        "Output: true\n",
        "\n",
        "```\n",
        "\n",
        "**Example 2:**\n",
        "\n",
        "```\n",
        "Input: nums = [1,2,3,4]\n",
        "Output: false\n",
        "\n",
        "```\n",
        "\n",
        "**Example 3:**\n",
        "\n",
        "```\n",
        "Input: nums = [1,1,1,3,3,4,3,2,4,2]\n",
        "Output: true\n",
        "\n",
        "```\n",
        "\n",
        "**Constraints:**\n",
        "\n",
        "- `1 <= nums.length <= 10^5`\n",
        "- `109 <= nums[i] <= 10^9`\n",
        "\n",
        "</aside>"
      ],
      "metadata": {
        "id": "EJxkN6fw-ojF"
      }
    },
    {
      "cell_type": "code",
      "source": [
        "def containsDuplicate(nums):\n",
        "    num_set = set()\n",
        "    for num in nums:\n",
        "        if num in num_set:\n",
        "            return True\n",
        "        num_set.add(num)\n",
        "    return False\n"
      ],
      "metadata": {
        "id": "VOEx5dS6-tua"
      },
      "execution_count": null,
      "outputs": []
    },
    {
      "cell_type": "code",
      "source": [
        "# Example 1\n",
        "nums1 = [1, 2, 3, 1]\n",
        "print(containsDuplicate(nums1))\n",
        "\n",
        "# Example 2\n",
        "nums2 = [1, 2, 3, 4]\n",
        "print(containsDuplicate(nums2))\n",
        "\n",
        "# Example 3\n",
        "nums3 = [1, 1, 1, 3, 3, 4, 3, 2, 4, 2]\n",
        "print(containsDuplicate(nums3))\n"
      ],
      "metadata": {
        "colab": {
          "base_uri": "https://localhost:8080/"
        },
        "id": "VNPQGD4y-y2d",
        "outputId": "7af253c4-7e0d-431d-9c19-38ff02fee8de"
      },
      "execution_count": null,
      "outputs": [
        {
          "output_type": "stream",
          "name": "stdout",
          "text": [
            "True\n",
            "False\n",
            "True\n"
          ]
        }
      ]
    },
    {
      "cell_type": "code",
      "source": [],
      "metadata": {
        "id": "ufx-c9vz-0EV"
      },
      "execution_count": null,
      "outputs": []
    },
    {
      "cell_type": "markdown",
      "source": [
        "#Question 6:\n",
        "Minimum Number of Arrows to Burst Balloons**\n",
        "\n",
        "There are some spherical balloons taped onto a flat wall that represents the XY-plane. The balloons are represented as a 2D integer array `points` where `points[i] = [xstart, xend]` denotes a balloon whose **horizontal diameter** stretches between `xstart` and `xend`. You do not know the exact y-coordinates of the balloons.\n",
        "\n",
        "Arrows can be shot up **directly vertically** (in the positive y-direction) from different points along the x-axis. A balloon with `xstart` and `xend` is **burst** by an arrow shot at `x` if `xstart <= x <= xend`. There is **no limit** to the number of arrows that can be shot. A shot arrow keeps traveling up infinitely, bursting any balloons in its path.\n",
        "\n",
        "Given the array `points`, return *the **minimum** number of arrows that must be shot to burst all balloons*.\n",
        "\n",
        "**Example 1:**\n",
        "\n",
        "```\n",
        "Input: points = [[10,16],[2,8],[1,6],[7,12]]\n",
        "Output: 2\n",
        "Explanation: The balloons can be burst by 2 arrows:\n",
        "- Shoot an arrow at x = 6, bursting the balloons [2,8] and [1,6].\n",
        "- Shoot an arrow at x = 11, bursting the balloons [10,16] and [7,12].\n",
        "\n",
        "```\n",
        "\n",
        "**Example 2:**\n",
        "\n",
        "```\n",
        "Input: points = [[1,2],[3,4],[5,6],[7,8]]\n",
        "Output: 4\n",
        "Explanation: One arrow needs to be shot for each balloon for a total of 4 arrows.\n",
        "\n",
        "```\n",
        "\n",
        "**Example 3:**\n",
        "\n",
        "```\n",
        "Input: points = [[1,2],[2,3],[3,4],[4,5]]\n",
        "Output: 2\n",
        "Explanation: The balloons can be burst by 2 arrows:\n",
        "- Shoot an arrow at x = 2, bursting the balloons [1,2] and [2,3].\n",
        "- Shoot an arrow at x = 4, bursting the balloons [3,4] and [4,5].\n",
        "\n",
        "```\n",
        "\n",
        "**Constraints:**\n",
        "\n",
        "- `1 <= points.length <= 10^5`\n",
        "- `points[i].length == 2`\n",
        "- `231 <= xstart < xend <= 2^31 - 1`\n",
        "</aside>"
      ],
      "metadata": {
        "id": "BPL32H9r-3LO"
      }
    },
    {
      "cell_type": "code",
      "source": [
        "def findMinArrowShots(points):\n",
        "    if not points:\n",
        "        return 0\n",
        "\n",
        "    points.sort(key=lambda x: x[1])  # Sort by end points\n",
        "    arrows = 1\n",
        "    end = points[0][1]\n",
        "\n",
        "    for i in range(1, len(points)):\n",
        "        if points[i][0] > end:  # Balloon is not overlapping\n",
        "            arrows += 1\n",
        "            end = points[i][1]\n",
        "\n",
        "    return arrows\n"
      ],
      "metadata": {
        "id": "Eq50MlcI-8X1"
      },
      "execution_count": null,
      "outputs": []
    },
    {
      "cell_type": "code",
      "source": [
        "# Example 1\n",
        "points1 = [[10, 16], [2, 8], [1, 6], [7, 12]]\n",
        "print(findMinArrowShots(points1))\n",
        "\n",
        "# Example 2\n",
        "points2 = [[1, 2], [3, 4], [5, 6], [7, 8]]\n",
        "print(findMinArrowShots(points2))\n",
        "\n",
        "# Example 3\n",
        "points3 = [[1, 2], [2, 3], [3, 4], [4, 5]]\n",
        "print(findMinArrowShots(points3))\n"
      ],
      "metadata": {
        "colab": {
          "base_uri": "https://localhost:8080/"
        },
        "id": "HOfyX_LP_B2a",
        "outputId": "87e22f1b-4c18-4101-a29f-89aaf8332891"
      },
      "execution_count": null,
      "outputs": [
        {
          "output_type": "stream",
          "name": "stdout",
          "text": [
            "2\n",
            "4\n",
            "2\n"
          ]
        }
      ]
    },
    {
      "cell_type": "code",
      "source": [],
      "metadata": {
        "id": "_4STlw6D_DIs"
      },
      "execution_count": null,
      "outputs": []
    },
    {
      "cell_type": "markdown",
      "source": [
        "#Question 7:\n",
        "Longest Increasing Subsequence**\n",
        "\n",
        "Given an integer array `nums`, return *the length of the longest **strictly increasing***\n",
        "\n",
        "***subsequence***\n",
        "\n",
        ".\n",
        "\n",
        "**Example 1:**\n",
        "\n",
        "```\n",
        "Input: nums = [10,9,2,5,3,7,101,18]\n",
        "Output: 4\n",
        "Explanation: The longest increasing subsequence is [2,3,7,101], therefore the length is 4.\n",
        "\n",
        "```\n",
        "\n",
        "**Example 2:**\n",
        "\n",
        "```\n",
        "Input: nums = [0,1,0,3,2,3]\n",
        "Output: 4\n",
        "\n",
        "```\n",
        "\n",
        "**Example 3:**\n",
        "\n",
        "```\n",
        "Input: nums = [7,7,7,7,7,7,7]\n",
        "Output: 1\n",
        "\n",
        "```\n",
        "\n",
        "**Constraints:**\n",
        "\n",
        "- `1 <= nums.length <= 2500`\n",
        "- `-10^4 <= nums[i] <= 10^4`\n",
        "</aside>"
      ],
      "metadata": {
        "id": "QrIxU2qE_F6m"
      }
    },
    {
      "cell_type": "code",
      "source": [
        "def lengthOfLIS(nums):\n",
        "    n = len(nums)\n",
        "    if n == 0:\n",
        "        return 0\n",
        "\n",
        "    dp = [1] * n  # Initialize dp array\n",
        "\n",
        "    for i in range(1, n):\n",
        "        for j in range(i):\n",
        "            if nums[i] > nums[j]:\n",
        "                dp[i] = max(dp[i], dp[j] + 1)\n",
        "\n",
        "    return max(dp)\n",
        "\n"
      ],
      "metadata": {
        "id": "VUXfHJpR_KeB"
      },
      "execution_count": null,
      "outputs": []
    },
    {
      "cell_type": "code",
      "source": [
        "# Example 1\n",
        "nums1 = [10, 9, 2, 5, 3, 7, 101, 18]\n",
        "print(lengthOfLIS(nums1))\n",
        "\n",
        "# Example 2\n",
        "nums2 = [0, 1, 0, 3, 2, 3]\n",
        "print(lengthOfLIS(nums2))\n",
        "\n",
        "# Example 3\n",
        "nums3 = [7, 7, 7, 7, 7, 7, 7]\n",
        "print(lengthOfLIS(nums3))"
      ],
      "metadata": {
        "colab": {
          "base_uri": "https://localhost:8080/"
        },
        "id": "uEZhPmOj_Qn9",
        "outputId": "f56311a9-9880-41f0-a85d-5de05f79c385"
      },
      "execution_count": null,
      "outputs": [
        {
          "output_type": "stream",
          "name": "stdout",
          "text": [
            "4\n",
            "4\n",
            "1\n"
          ]
        }
      ]
    },
    {
      "cell_type": "code",
      "source": [],
      "metadata": {
        "id": "sEEGKbQ3_R2U"
      },
      "execution_count": null,
      "outputs": []
    },
    {
      "cell_type": "markdown",
      "source": [
        "#Quesrion 8:\n",
        "132 Pattern\n",
        "\n",
        "Given an array of `n` integers `nums`, a **132 pattern** is a subsequence of three integers `nums[i]`, `nums[j]` and `nums[k]` such that `i < j < k` and `nums[i] < nums[k] < nums[j]`.\n",
        "\n",
        "Return `true` *if there is a **132 pattern** in* `nums`*, otherwise, return* `false`*.*\n",
        "\n",
        "**Example 1:**\n",
        "\n",
        "```\n",
        "Input: nums = [1,2,3,4]\n",
        "Output: false\n",
        "Explanation: There is no 132 pattern in the sequence.\n",
        "\n",
        "```\n",
        "\n",
        "**Example 2:**\n",
        "\n",
        "```\n",
        "Input: nums = [3,1,4,2]\n",
        "Output: true\n",
        "Explanation: There is a 132 pattern in the sequence: [1, 4, 2].\n",
        "\n",
        "```\n",
        "\n",
        "**Example 3:**\n",
        "\n",
        "```\n",
        "Input: nums = [-1,3,2,0]\n",
        "Output: true\n",
        "Explanation: There are three 132 patterns in the sequence: [-1, 3, 2], [-1, 3, 0] and [-1, 2, 0].\n",
        "\n",
        "```\n",
        "\n",
        "**Constraints:**\n",
        "\n",
        "- `n == nums.length`\n",
        "- `1 <= n <= 2 * 10^5`\n",
        "- `-10^9 <= nums[i] <= 10^9`\n",
        "</aside>"
      ],
      "metadata": {
        "id": "3teBqisd_WGT"
      }
    },
    {
      "cell_type": "code",
      "source": [
        "def find132pattern(nums):\n",
        "    stack = []\n",
        "    second = float('-inf')  # Initialize 'second' to negative infinity\n",
        "\n",
        "    for i in range(len(nums)-1, -1, -1):\n",
        "        if nums[i] < second:\n",
        "            return True\n",
        "        while stack and nums[i] > stack[-1]:\n",
        "            second = stack.pop()\n",
        "        stack.append(nums[i])\n",
        "\n",
        "    return False\n"
      ],
      "metadata": {
        "id": "rNKS8VFi_cFD"
      },
      "execution_count": null,
      "outputs": []
    },
    {
      "cell_type": "code",
      "source": [
        "# Example 1\n",
        "nums1 = [1, 2, 3, 4]\n",
        "print(find132pattern(nums1))\n",
        "\n",
        "# Example 2\n",
        "nums2 = [3, 1, 4, 2]\n",
        "print(find132pattern(nums2))\n",
        "\n",
        "# Example 3\n",
        "nums3 = [-1, 3, 2, 0]\n",
        "print(find132pattern(nums3))"
      ],
      "metadata": {
        "colab": {
          "base_uri": "https://localhost:8080/"
        },
        "id": "cioWJ3nv_jRd",
        "outputId": "4008f995-3f10-4b0b-fa1c-dbb3cb8fa9b3"
      },
      "execution_count": null,
      "outputs": [
        {
          "output_type": "stream",
          "name": "stdout",
          "text": [
            "False\n",
            "True\n",
            "True\n"
          ]
        }
      ]
    },
    {
      "cell_type": "code",
      "source": [],
      "metadata": {
        "id": "iPRCx1Ga_kdy"
      },
      "execution_count": null,
      "outputs": []
    },
    {
      "cell_type": "code",
      "source": [
        "\n"
      ],
      "metadata": {
        "id": "3lv53HD3B1VC"
      },
      "execution_count": null,
      "outputs": []
    },
    {
      "cell_type": "code",
      "source": [
        "# Example 1\n",
        "arr1 = [1, 9, 8, 4, 0, 0, 2, 7, 0, 6, 0]\n",
        "result1 = move_zeroes_to_end(arr1)\n",
        "print(result1)\n",
        "\n",
        "# Example 2\n",
        "arr2 = [1, 2, 0, 4, 3, 0, 5, 0]\n",
        "result2 = move_zeroes_to_end(arr2)\n",
        "print(result2)\n",
        "\n",
        "# Example 3\n",
        "arr3 = [1, 2, 0, 0, 0, 3, 6]\n",
        "result3 = move_zeroes_to_end(arr3)\n",
        "print(result3)\n"
      ],
      "metadata": {
        "colab": {
          "base_uri": "https://localhost:8080/"
        },
        "id": "C_QcBgpDB-wQ",
        "outputId": "d2409b4e-1fb1-44b4-b16f-8637914b854b"
      },
      "execution_count": null,
      "outputs": [
        {
          "output_type": "stream",
          "name": "stdout",
          "text": [
            "[1, 9, 8, 4, 2, 7, 6, 0, 0, 0, 0]\n",
            "[1, 2, 4, 3, 5, 0, 0, 0]\n",
            "[1, 2, 3, 6, 0, 0, 0]\n"
          ]
        }
      ]
    },
    {
      "cell_type": "code",
      "source": [],
      "metadata": {
        "id": "-vrFM-ZwCAUZ"
      },
      "execution_count": null,
      "outputs": []
    },
    {
      "cell_type": "markdown",
      "source": [],
      "metadata": {
        "id": "-Bds9v7wCBtP"
      }
    }
  ]
}
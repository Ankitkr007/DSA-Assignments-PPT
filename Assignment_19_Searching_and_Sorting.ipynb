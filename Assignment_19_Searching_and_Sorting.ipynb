{
  "nbformat": 4,
  "nbformat_minor": 0,
  "metadata": {
    "colab": {
      "provenance": []
    },
    "kernelspec": {
      "name": "python3",
      "display_name": "Python 3"
    },
    "language_info": {
      "name": "python"
    }
  },
  "cells": [
    {
      "cell_type": "code",
      "execution_count": null,
      "metadata": {
        "id": "apXoHncl_qU0"
      },
      "outputs": [],
      "source": []
    },
    {
      "cell_type": "markdown",
      "source": [
        "#Question 1:\n",
        "Merge k Sorted Lists\n",
        "\n",
        "You are given an array of `k` linked-lists `lists`, each linked-list is sorted in ascending order.\n",
        "\n",
        "*Merge all the linked-lists into one sorted linked-list and return it.*\n",
        "\n",
        "**Example 1:**\n",
        "\n",
        "```\n",
        "Input: lists = [[1,4,5],[1,3,4],[2,6]]\n",
        "Output: [1,1,2,3,4,4,5,6]\n",
        "Explanation: The linked-lists are:\n",
        "[\n",
        "  1->4->5,\n",
        "  1->3->4,\n",
        "  2->6\n",
        "]\n",
        "merging them into one sorted list:\n",
        "1->1->2->3->4->4->5->6\n",
        "\n",
        "```\n",
        "\n",
        "**Example 2:**\n",
        "\n",
        "```\n",
        "Input: lists = []\n",
        "Output: []\n",
        "\n",
        "```\n",
        "\n",
        "**Example 3:**\n",
        "\n",
        "```\n",
        "Input: lists = [[]]\n",
        "Output: []\n",
        "\n",
        "```\n",
        "\n",
        "**Constraints:**\n",
        "\n",
        "- `k == lists.length`\n",
        "- `0 <= k <= 10000`\n",
        "- `0 <= lists[i].length <= 500`\n",
        "- `-10000 <= lists[i][j] <= 10000`\n",
        "- `lists[i]` is sorted in **ascending order**.\n",
        "- The sum of `lists[i].length` will not exceed `10000`.\n",
        "</aside>"
      ],
      "metadata": {
        "id": "SyJRnq36_xI5"
      }
    },
    {
      "cell_type": "code",
      "source": [
        "import heapq\n",
        "\n",
        "class ListNode:\n",
        "    def __init__(self, val=0, next=None):\n",
        "        self.val = val\n",
        "        self.next = next\n",
        "\n",
        "def mergeKLists(lists):\n",
        "    heap = []\n",
        "    for i in range(len(lists)):\n",
        "        if lists[i]:\n",
        "            heapq.heappush(heap, (lists[i].val, i))\n",
        "            lists[i] = lists[i].next\n",
        "\n",
        "    dummy = ListNode(0)\n",
        "    curr = dummy\n",
        "\n",
        "    while heap:\n",
        "        val, i = heapq.heappop(heap)\n",
        "        curr.next = ListNode(val)\n",
        "        curr = curr.next\n",
        "\n",
        "        if lists[i]:\n",
        "            heapq.heappush(heap, (lists[i].val, i))\n",
        "            lists[i] = lists[i].next\n",
        "\n",
        "    return dummy.next\n"
      ],
      "metadata": {
        "id": "dfccTAky_2h4"
      },
      "execution_count": null,
      "outputs": []
    },
    {
      "cell_type": "code",
      "source": [
        "# Example 1\n",
        "lists1 = [\n",
        "    ListNode(1, ListNode(4, ListNode(5))),\n",
        "    ListNode(1, ListNode(3, ListNode(4))),\n",
        "    ListNode(2, ListNode(6))\n",
        "]\n",
        "result1 = mergeKLists(lists1)\n",
        "while result1:\n",
        "    print(result1.val, end=' ')\n",
        "    result1 = result1.next\n",
        "print()\n",
        "\n",
        "# Example 2\n",
        "lists2 = []\n",
        "result2 = mergeKLists(lists2)\n",
        "while result2:\n",
        "    print(result2.val, end=' ')\n",
        "    result2 = result2.next\n",
        "print()\n",
        "\n",
        "# Example 3\n",
        "lists3 = [[]]\n",
        "result3 = mergeKLists(lists3)\n",
        "while result3:\n",
        "    print(result3.val, end=' ')\n",
        "    result3 = result3.next\n",
        "print()\n"
      ],
      "metadata": {
        "colab": {
          "base_uri": "https://localhost:8080/"
        },
        "id": "oFEnR3SzAGQr",
        "outputId": "54ca0631-4d23-4fd4-c0c7-b1a137b6d15c"
      },
      "execution_count": null,
      "outputs": [
        {
          "output_type": "stream",
          "name": "stdout",
          "text": [
            "1 1 2 3 4 4 5 6 \n",
            "\n",
            "\n"
          ]
        }
      ]
    },
    {
      "cell_type": "code",
      "source": [],
      "metadata": {
        "id": "Eas8bDvjAJtC"
      },
      "execution_count": null,
      "outputs": []
    },
    {
      "cell_type": "markdown",
      "source": [
        "#Question 2:\n",
        "Count of Smaller Numbers After Self\n",
        "\n",
        "Given an integer array `nums`, return *an integer array* `counts` *where* `counts[i]` *is the number of smaller elements to the right of* `nums[i]`.\n",
        "\n",
        "**Example 1:**\n",
        "\n",
        "```\n",
        "Input: nums = [5,2,6,1]\n",
        "Output: [2,1,1,0]\n",
        "Explanation:\n",
        "To the right of 5 there are2 smaller elements (2 and 1).\n",
        "To the right of 2 there is only1 smaller element (1).\n",
        "To the right of 6 there is1 smaller element (1).\n",
        "To the right of 1 there is0 smaller element.\n",
        "\n",
        "```\n",
        "\n",
        "**Example 2:**\n",
        "\n",
        "```\n",
        "Input: nums = [-1]\n",
        "Output: [0]\n",
        "\n",
        "```\n",
        "\n",
        "**Example 3:**\n",
        "\n",
        "```\n",
        "Input: nums = [-1,-1]\n",
        "Output: [0,0]\n",
        "\n",
        "```\n",
        "\n",
        "**Constraints:**\n",
        "\n",
        "- `1 <= nums.length <= 100000`\n",
        "- `-10000 <= nums[i] <= 10000`\n",
        "</aside>"
      ],
      "metadata": {
        "id": "9fmJngRLANo9"
      }
    },
    {
      "cell_type": "code",
      "source": [
        "def countSmaller(nums):\n",
        "    def mergeSort(arr, count):\n",
        "        if len(arr) <= 1:\n",
        "            return arr\n",
        "\n",
        "        mid = len(arr) // 2\n",
        "        left = mergeSort(arr[:mid], count)\n",
        "        right = mergeSort(arr[mid:], count)\n",
        "\n",
        "        merged = []\n",
        "        i, j = 0, 0\n",
        "        while i < len(left) and j < len(right):\n",
        "            if left[i][0] > right[j][0]:\n",
        "                merged.append(right[j])\n",
        "                count[left[i][1]] += len(right) - j\n",
        "                j += 1\n",
        "            else:\n",
        "                merged.append(left[i])\n",
        "                i += 1\n",
        "\n",
        "        while i < len(left):\n",
        "            merged.append(left[i])\n",
        "            i += 1\n",
        "\n",
        "        while j < len(right):\n",
        "            merged.append(right[j])\n",
        "            j += 1\n",
        "\n",
        "        return merged\n",
        "\n",
        "    n = len(nums)\n",
        "    count = [0] * n\n",
        "    indexedNums = [(nums[i], i) for i in range(n)]\n",
        "    mergeSort(indexedNums, count)\n",
        "    return count\n"
      ],
      "metadata": {
        "id": "n6j6ABsXATPG"
      },
      "execution_count": null,
      "outputs": []
    },
    {
      "cell_type": "code",
      "source": [
        "# Example 1\n",
        "nums1 = [5, 2, 6, 1]\n",
        "print(countSmaller(nums1))\n",
        "\n",
        "# Example 2\n",
        "nums2 = [-1]\n",
        "print(countSmaller(nums2))\n",
        "\n",
        "# Example 3\n",
        "nums3 = [-1, -1]\n",
        "print(countSmaller(nums3))"
      ],
      "metadata": {
        "colab": {
          "base_uri": "https://localhost:8080/"
        },
        "id": "bSmuSq2dAxxd",
        "outputId": "525d7b45-c18e-41d1-cc05-f702cbffed47"
      },
      "execution_count": null,
      "outputs": [
        {
          "output_type": "stream",
          "name": "stdout",
          "text": [
            "[1, 2, 1, 0]\n",
            "[0]\n",
            "[0, 0]\n"
          ]
        }
      ]
    },
    {
      "cell_type": "code",
      "source": [],
      "metadata": {
        "id": "MwNmfJN4A6Zo"
      },
      "execution_count": null,
      "outputs": []
    },
    {
      "cell_type": "markdown",
      "source": [
        "#Question 3:\n",
        "Sort an Array\n",
        "\n",
        "Given an array of integers `nums`, sort the array in ascending order and return it.\n",
        "\n",
        "You must solve the problem **without using any built-in** functions in `O(nlog(n))` time complexity and with the smallest space complexity possible.\n",
        "\n",
        "**Example 1:**\n",
        "\n",
        "```\n",
        "Input: nums = [5,2,3,1]\n",
        "Output: [1,2,3,5]\n",
        "Explanation: After sorting the array, the positions of some numbers are not changed (for example, 2 and 3), while the positions of other numbers are changed (for example, 1 and 5).\n",
        "\n",
        "```\n",
        "\n",
        "**Example 2:**\n",
        "\n",
        "```\n",
        "Input: nums = [5,1,1,2,0,0]\n",
        "Output: [0,0,1,1,2,5]\n",
        "Explanation: Note that the values of nums are not necessairly unique.\n",
        "\n",
        "```\n",
        "\n",
        "**Constraints:**\n",
        "\n",
        "- `1 <= nums.length <= 5 * 10000`\n",
        "- `-5 * 104 <= nums[i] <= 5 * 10000`\n",
        "</aside>"
      ],
      "metadata": {
        "id": "9sj36o1BBErW"
      }
    },
    {
      "cell_type": "code",
      "source": [
        "def sortArray(nums):\n",
        "    def mergeSort(arr):\n",
        "        if len(arr) <= 1:\n",
        "            return arr\n",
        "\n",
        "        mid = len(arr) // 2\n",
        "        left = mergeSort(arr[:mid])\n",
        "        right = mergeSort(arr[mid:])\n",
        "\n",
        "        return merge(left, right)\n",
        "\n",
        "    def merge(left, right):\n",
        "        merged = []\n",
        "        i, j = 0, 0\n",
        "\n",
        "        while i < len(left) and j < len(right):\n",
        "            if left[i] <= right[j]:\n",
        "                merged.append(left[i])\n",
        "                i += 1\n",
        "            else:\n",
        "                merged.append(right[j])\n",
        "                j += 1\n",
        "\n",
        "        while i < len(left):\n",
        "            merged.append(left[i])\n",
        "            i += 1\n",
        "\n",
        "        while j < len(right):\n",
        "            merged.append(right[j])\n",
        "            j += 1\n",
        "\n",
        "        return merged\n",
        "\n",
        "    return mergeSort(nums)\n"
      ],
      "metadata": {
        "id": "JRuVgJzpBIn6"
      },
      "execution_count": null,
      "outputs": []
    },
    {
      "cell_type": "code",
      "source": [
        "# Example 1\n",
        "nums1 = [5, 2, 3, 1]\n",
        "print(sortArray(nums1))\n",
        "\n",
        "# Example 2\n",
        "nums2 = [5, 1, 1, 2, 0, 0]\n",
        "print(sortArray(nums2))"
      ],
      "metadata": {
        "colab": {
          "base_uri": "https://localhost:8080/"
        },
        "id": "8UhitlXTBX57",
        "outputId": "1639948f-9767-4eb8-a8e0-4596f480357c"
      },
      "execution_count": null,
      "outputs": [
        {
          "output_type": "stream",
          "name": "stdout",
          "text": [
            "[1, 2, 3, 5]\n",
            "[0, 0, 1, 1, 2, 5]\n"
          ]
        }
      ]
    },
    {
      "cell_type": "code",
      "source": [],
      "metadata": {
        "id": "mrXMP0jyBaC3"
      },
      "execution_count": null,
      "outputs": []
    },
    {
      "cell_type": "markdown",
      "source": [
        "#Question 4:\n",
        "Move all zeroes to end of array\n",
        "\n",
        "Given an array of random numbers, Push all the zero’s of a given array to the end of the array. For example, if the given arrays is {1, 9, 8, 4, 0, 0, 2, 7, 0, 6, 0}, it should be changed to {1, 9, 8, 4, 2, 7, 6, 0, 0, 0, 0}. The order of all other elements should be same. Expected time complexity is O(n) and extra space is O(1).\n",
        "\n",
        "**Example:**\n",
        "Input :  arr[] = {1, 2, 0, 4, 3, 0, 5, 0};\n",
        "Output : arr[] = {1, 2, 4, 3, 5, 0, 0, 0};\n",
        "\n",
        "Input : arr[]  = {1, 2, 0, 0, 0, 3, 6};\n",
        "Output : arr[] = {1, 2, 3, 6, 0, 0, 0};\n",
        "</aside>"
      ],
      "metadata": {
        "id": "ggyc50eQCHS5"
      }
    },
    {
      "cell_type": "code",
      "source": [
        "def move_zeroes_to_end(arr):\n",
        "    n = len(arr)\n",
        "    count = 0  # Count of non-zero elements\n",
        "\n",
        "    # Traverse the array and move non-zero elements to the front\n",
        "    for i in range(n):\n",
        "        if arr[i] != 0:\n",
        "            arr[count] = arr[i]\n",
        "            count += 1\n",
        "\n",
        "    # Fill the remaining positions with zeroes\n",
        "    while count < n:\n",
        "        arr[count] = 0\n",
        "        count += 1\n",
        "\n",
        "    return arr"
      ],
      "metadata": {
        "id": "gxVSOEyyCL5m"
      },
      "execution_count": null,
      "outputs": []
    },
    {
      "cell_type": "code",
      "source": [
        "# Example 1\n",
        "arr1 = [1, 9, 8, 4, 0, 0, 2, 7, 0, 6, 0]\n",
        "result1 = move_zeroes_to_end(arr1)\n",
        "print(result1)\n",
        "\n",
        "# Example 2\n",
        "arr2 = [1, 2, 0, 4, 3, 0, 5, 0]\n",
        "result2 = move_zeroes_to_end(arr2)\n",
        "print(result2)\n",
        "\n",
        "# Example 3\n",
        "arr3 = [1, 2, 0, 0, 0, 3, 6]\n",
        "result3 = move_zeroes_to_end(arr3)\n",
        "print(result3)\n"
      ],
      "metadata": {
        "colab": {
          "base_uri": "https://localhost:8080/"
        },
        "id": "hDsaREpaCQU4",
        "outputId": "3592d33d-56ff-4de9-9a1e-253ede4f84fe"
      },
      "execution_count": null,
      "outputs": [
        {
          "output_type": "stream",
          "name": "stdout",
          "text": [
            "[1, 9, 8, 4, 2, 7, 6, 0, 0, 0, 0]\n",
            "[1, 2, 4, 3, 5, 0, 0, 0]\n",
            "[1, 2, 3, 6, 0, 0, 0]\n"
          ]
        }
      ]
    },
    {
      "cell_type": "code",
      "source": [],
      "metadata": {
        "id": "OCz1K-OrCViZ"
      },
      "execution_count": null,
      "outputs": []
    },
    {
      "cell_type": "markdown",
      "source": [
        "#Question 5:\n",
        "Rearrange array in alternating positive & negative items with O(1) extra space**\n",
        "\n",
        "Given an **array of positive** and **negative numbers**, arrange them in an **alternate** fashion such that every positive number is followed by a negative and vice-versa maintaining the **order of appearance**. The number of positive and negative numbers need not be equal. If there are more positive numbers they appear at the end of the array. If there are more negative numbers, they too appear at the end of the array.\n",
        "\n",
        "**Examples:**\n",
        "\n",
        "> Input:  arr[] = {1, 2, 3, -4, -1, 4}\n",
        "Output: arr[] = {-4, 1, -1, 2, 3, 4}\n",
        "\n",
        "Input:  arr[] = {-5, -2, 5, 2, 4, 7, 1, 8, 0, -8}\n",
        "Output: arr[] = {-5, 5, -2, 2, -8, 4, 7, 1, 8, 0}\n",
        ">\n",
        "</aside>"
      ],
      "metadata": {
        "id": "P5sL5Au7CdMu"
      }
    },
    {
      "cell_type": "code",
      "source": [
        "def rearrange_alternating(arr):\n",
        "    n = len(arr)\n",
        "    i = 0  # Pointer for positive numbers\n",
        "    j = 0  # Pointer for negative numbers\n",
        "\n",
        "    # Find the correct position for the first positive number\n",
        "    while i < n and arr[i] < 0:\n",
        "        i += 1\n",
        "\n",
        "    # Rearrange the array by swapping positive and negative numbers\n",
        "    while i < n and j < n:\n",
        "        # Find the next negative number\n",
        "        while i < n and arr[i] >= 0:\n",
        "            i += 1\n",
        "\n",
        "        # Find the next positive number\n",
        "        while j < n and arr[j] < 0:\n",
        "            j += 1\n",
        "\n",
        "        # Swap the positive and negative numbers\n",
        "        if i < n and j < n:\n",
        "            arr[i], arr[j] = arr[j], arr[i]\n",
        "\n",
        "    return arr\n"
      ],
      "metadata": {
        "id": "LkRbSHqUCk5F"
      },
      "execution_count": null,
      "outputs": []
    },
    {
      "cell_type": "code",
      "source": [
        "# Example 1\n",
        "arr1 = [1, 2, 3, -4, -1, 4]\n",
        "result1 = rearrange_alternating(arr1)\n",
        "print(result1)\n",
        "\n",
        "# Example 2\n",
        "arr2 = [-5, -2, 5, 2, 4, 7, 1, 8, 0, -8]\n",
        "result2 = rearrange_alternating(arr2)\n",
        "print(result2)\n"
      ],
      "metadata": {
        "colab": {
          "base_uri": "https://localhost:8080/"
        },
        "id": "i2I89Qv3CwmJ",
        "outputId": "f10a268e-d9ef-4db2-ded1-e904c7e97df9"
      },
      "execution_count": null,
      "outputs": [
        {
          "output_type": "stream",
          "name": "stdout",
          "text": [
            "[-4, -1, 3, 1, 2, 4]\n",
            "[-5, -2, -8, 2, 4, 7, 1, 8, 0, 5]\n"
          ]
        }
      ]
    },
    {
      "cell_type": "code",
      "source": [],
      "metadata": {
        "id": "ZQM7JzzjCx7b"
      },
      "execution_count": null,
      "outputs": []
    },
    {
      "cell_type": "markdown",
      "source": [
        "#Question 6:\n",
        "Merge two sorted arrays**\n",
        "\n",
        "Given two sorted arrays, the task is to merge them in a sorted manner.\n",
        "\n",
        "**Examples:**\n",
        "\n",
        "> Input: arr1[] = { 1, 3, 4, 5}, arr2[] = {2, 4, 6, 8}\n",
        "Output: arr3[] = {1, 2, 3, 4, 4, 5, 6, 8}\n",
        "\n",
        "Input: arr1[] = { 5, 8, 9}, arr2[] = {4, 7, 8}\n",
        "Output: arr3[] = {4, 5, 7, 8, 8, 9}\n",
        ">\n",
        "</aside>"
      ],
      "metadata": {
        "id": "VgsW39XnC6z2"
      }
    },
    {
      "cell_type": "code",
      "source": [
        "def merge_sorted_arrays(arr1, arr2):\n",
        "    n1 = len(arr1)\n",
        "    n2 = len(arr2)\n",
        "    i = 0  # Pointer for arr1\n",
        "    j = 0  # Pointer for arr2\n",
        "    merged = []  # Merged array\n",
        "\n",
        "    # Merge the two arrays in sorted order\n",
        "    while i < n1 and j < n2:\n",
        "        if arr1[i] <= arr2[j]:\n",
        "            merged.append(arr1[i])\n",
        "            i += 1\n",
        "        else:\n",
        "            merged.append(arr2[j])\n",
        "            j += 1\n",
        "\n",
        "    # Append the remaining elements of arr1, if any\n",
        "    while i < n1:\n",
        "        merged.append(arr1[i])\n",
        "        i += 1\n",
        "\n",
        "    # Append the remaining elements of arr2, if any\n",
        "    while j < n2:\n",
        "        merged.append(arr2[j])\n",
        "        j += 1\n",
        "\n",
        "    return merged\n"
      ],
      "metadata": {
        "id": "nd-n1k5_C-QU"
      },
      "execution_count": null,
      "outputs": []
    },
    {
      "cell_type": "code",
      "source": [
        "# Example 1\n",
        "arr1 = [1, 3, 4, 5]\n",
        "arr2 = [2, 4, 6, 8]\n",
        "result1 = merge_sorted_arrays(arr1, arr2)\n",
        "print(result1)\n",
        "\n",
        "# Example 2\n",
        "arr3 = [5, 8, 9]\n",
        "arr4 = [4, 7, 8]\n",
        "result2 = merge_sorted_arrays(arr3, arr4)\n",
        "print(result2)\n"
      ],
      "metadata": {
        "colab": {
          "base_uri": "https://localhost:8080/"
        },
        "id": "2WfvsgIeDA1k",
        "outputId": "c1cb53c4-b13b-44cc-aefe-08732cf59d17"
      },
      "execution_count": null,
      "outputs": [
        {
          "output_type": "stream",
          "name": "stdout",
          "text": [
            "[1, 2, 3, 4, 4, 5, 6, 8]\n",
            "[4, 5, 7, 8, 8, 9]\n"
          ]
        }
      ]
    },
    {
      "cell_type": "code",
      "source": [],
      "metadata": {
        "id": "HNxlQC1UDCqb"
      },
      "execution_count": null,
      "outputs": []
    },
    {
      "cell_type": "markdown",
      "source": [
        "<aside>\n",
        "💡 7. **Intersection of Two Arrays**\n",
        "\n",
        "Given two integer arrays `nums1` and `nums2`, return *an array of their intersection*. Each element in the result must be **unique** and you may return the result in **any order**.\n",
        "\n",
        "**Example 1:**\n",
        "\n",
        "```\n",
        "Input: nums1 = [1,2,2,1], nums2 = [2,2]\n",
        "Output: [2]\n",
        "\n",
        "```\n",
        "\n",
        "**Example 2:**\n",
        "\n",
        "```\n",
        "Input: nums1 = [4,9,5], nums2 = [9,4,9,8,4]\n",
        "Output: [9,4]\n",
        "Explanation: [4,9] is also accepted.\n",
        "\n",
        "```\n",
        "\n",
        "**Constraints:**\n",
        "\n",
        "- `1 <= nums1.length, nums2.length <= 1000`\n",
        "- `0 <= nums1[i], nums2[i] <= 1000`\n",
        "</aside>"
      ],
      "metadata": {
        "id": "otprhbj0DJl0"
      }
    },
    {
      "cell_type": "code",
      "source": [
        "def intersection(nums1, nums2):\n",
        "    set1 = set(nums1)\n",
        "    set2 = set(nums2)\n",
        "    return list(set1.intersection(set2))\n"
      ],
      "metadata": {
        "id": "mItWaugEDKdx"
      },
      "execution_count": null,
      "outputs": []
    },
    {
      "cell_type": "code",
      "source": [
        "# Example 1\n",
        "nums1 = [1, 2, 2, 1]\n",
        "nums2 = [2, 2]\n",
        "result1 = intersection(nums1, nums2)\n",
        "print(result1)\n",
        "\n",
        "# Example 2\n",
        "nums3 = [4, 9, 5]\n",
        "nums4 = [9, 4, 9, 8, 4]\n",
        "result2 = intersection(nums3, nums4)\n",
        "print(result2)\n"
      ],
      "metadata": {
        "colab": {
          "base_uri": "https://localhost:8080/"
        },
        "id": "B_c0PDagDMg9",
        "outputId": "00e741a3-cb4d-47aa-f303-423d73cd19c1"
      },
      "execution_count": null,
      "outputs": [
        {
          "output_type": "stream",
          "name": "stdout",
          "text": [
            "[2]\n",
            "[9, 4]\n"
          ]
        }
      ]
    },
    {
      "cell_type": "code",
      "source": [],
      "metadata": {
        "id": "47wH7HPzDNuK"
      },
      "execution_count": null,
      "outputs": []
    },
    {
      "cell_type": "markdown",
      "source": [
        "<aside>\n",
        "💡 8. **Intersection of Two Arrays II**\n",
        "\n",
        "Given two integer arrays `nums1` and `nums2`, return *an array of their intersection*. Each element in the result must appear as many times as it shows in both arrays and you may return the result in **any order**.\n",
        "\n",
        "**Example 1:**\n",
        "\n",
        "```\n",
        "Input: nums1 = [1,2,2,1], nums2 = [2,2]\n",
        "Output: [2,2]\n",
        "\n",
        "```\n",
        "\n",
        "**Example 2:**\n",
        "\n",
        "```\n",
        "Input: nums1 = [4,9,5], nums2 = [9,4,9,8,4]\n",
        "Output: [4,9]\n",
        "Explanation: [9,4] is also accepted.\n",
        "\n",
        "```\n",
        "\n",
        "**Constraints:**\n",
        "\n",
        "- `1 <= nums1.length, nums2.length <= 1000`\n",
        "- `0 <= nums1[i], nums2[i] <= 1000`\n",
        "</aside>"
      ],
      "metadata": {
        "id": "ydhVne3zDZEQ"
      }
    },
    {
      "cell_type": "code",
      "source": [
        "def intersect(nums1, nums2):\n",
        "    freq1 = {}  # Dictionary to store frequency of elements in nums1\n",
        "\n",
        "    # Count the frequency of elements in nums1\n",
        "    for num in nums1:\n",
        "        freq1[num] = freq1.get(num, 0) + 1\n",
        "\n",
        "    intersection = []\n",
        "\n",
        "    # Find the intersection and decrement frequencies accordingly\n",
        "    for num in nums2:\n",
        "        if num in freq1 and freq1[num] > 0:\n",
        "            intersection.append(num)\n",
        "            freq1[num] -= 1\n",
        "\n",
        "    return intersection\n"
      ],
      "metadata": {
        "id": "u6CKl62DDaC6"
      },
      "execution_count": null,
      "outputs": []
    },
    {
      "cell_type": "code",
      "source": [
        "# Example 1\n",
        "nums1 = [1, 2, 2, 1]\n",
        "nums2 = [2, 2]\n",
        "result1 = intersect(nums1, nums2)\n",
        "print(result1)\n",
        "\n",
        "# Example 2\n",
        "nums3 = [4, 9, 5]\n",
        "nums4 = [9, 4, 9, 8, 4]\n",
        "result2 = intersect(nums3, nums4)\n",
        "print(result2)\n"
      ],
      "metadata": {
        "colab": {
          "base_uri": "https://localhost:8080/"
        },
        "id": "EcMLSYXIDvYA",
        "outputId": "4b09c74f-9407-428a-8dea-6d90214f6d04"
      },
      "execution_count": null,
      "outputs": [
        {
          "output_type": "stream",
          "name": "stdout",
          "text": [
            "[2, 2]\n",
            "[9, 4]\n"
          ]
        }
      ]
    },
    {
      "cell_type": "code",
      "source": [],
      "metadata": {
        "id": "PqWzI5gEDyBy"
      },
      "execution_count": null,
      "outputs": []
    }
  ]
}
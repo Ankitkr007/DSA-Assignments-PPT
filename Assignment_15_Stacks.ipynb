{
  "nbformat": 4,
  "nbformat_minor": 0,
  "metadata": {
    "colab": {
      "provenance": []
    },
    "kernelspec": {
      "name": "python3",
      "display_name": "Python 3"
    },
    "language_info": {
      "name": "python"
    }
  },
  "cells": [
    {
      "cell_type": "code",
      "execution_count": null,
      "metadata": {
        "id": "DBbu6j_H1BHR"
      },
      "outputs": [],
      "source": []
    },
    {
      "cell_type": "markdown",
      "source": [
        "#Question 1**\n",
        "\n",
        "Given an array **arr[ ]** of size **N** having elements, the task is to find the next greater element for each element of the array in order of their appearance in the array.Next greater element of an element in the array is the nearest element on the right which is greater than the current element.If there does not exist next greater of current element, then next greater element for current element is -1. For example, next greater of the last element is always -1.\n",
        "\n",
        "**Example 1:**\n",
        "\n",
        "Input:\n",
        "N = 4, arr[] = [1 3 2 4]\n",
        "Output:\n",
        "3 4 4 -1\n",
        "Explanation:\n",
        "In the array, the next larger element\n",
        "to 1 is 3 , 3 is 4 , 2 is 4 and for 4 ?\n",
        "since it doesn't exist, it is -1.\n"
      ],
      "metadata": {
        "id": "hWuJ9T3a1Mr7"
      }
    },
    {
      "cell_type": "code",
      "source": [
        "def nextGreaterElement(arr):\n",
        "    stack = []\n",
        "    result = []\n",
        "\n",
        "    for i in range(len(arr) - 1, -1, -1):\n",
        "        while stack and stack[-1] <= arr[i]:\n",
        "            stack.pop()\n",
        "\n",
        "        if stack:\n",
        "            result.append(stack[-1])\n",
        "        else:\n",
        "            result.append(-1)\n",
        "\n",
        "        stack.append(arr[i])\n",
        "\n",
        "    result.reverse()\n",
        "    return result\n"
      ],
      "metadata": {
        "id": "FuxkfXzw1OBz"
      },
      "execution_count": 1,
      "outputs": []
    },
    {
      "cell_type": "code",
      "source": [
        "arr = [1, 3, 2, 4]\n",
        "result = nextGreaterElement(arr)\n",
        "print(result)\n"
      ],
      "metadata": {
        "colab": {
          "base_uri": "https://localhost:8080/"
        },
        "id": "KENPYOnY1Pci",
        "outputId": "d219f5dc-b55c-4570-e824-ec29c7a134d9"
      },
      "execution_count": 2,
      "outputs": [
        {
          "output_type": "stream",
          "name": "stdout",
          "text": [
            "[3, 4, 4, -1]\n"
          ]
        }
      ]
    },
    {
      "cell_type": "markdown",
      "source": [
        "#Question 2**\n",
        "\n",
        "Given an array **a** of integers of length **n**, find the nearest smaller number for every element such that the smaller element is on left side.If no small element present on the left print -1.\n",
        "\n",
        "**Example 1:**\n",
        "\n",
        "Input: n = 3\n",
        "a = {1, 6, 2}\n",
        "Output: -1 1 1\n",
        "Explaination: There is no number at the\n",
        "left of 1. Smaller number than 6 and 2 is 1."
      ],
      "metadata": {
        "id": "DFCxKlvC1RmR"
      }
    },
    {
      "cell_type": "code",
      "source": [
        "def nearestSmallerElement(arr):\n",
        "    stack = []\n",
        "    result = []\n",
        "\n",
        "    for i in range(len(arr)):\n",
        "        while stack and stack[-1] >= arr[i]:\n",
        "            stack.pop()\n",
        "\n",
        "        if stack:\n",
        "            result.append(stack[-1])\n",
        "        else:\n",
        "            result.append(-1)\n",
        "\n",
        "        stack.append(arr[i])\n",
        "\n",
        "    return result\n"
      ],
      "metadata": {
        "id": "9dm-jvQq1Q1F"
      },
      "execution_count": 3,
      "outputs": []
    },
    {
      "cell_type": "code",
      "source": [
        "arr = [1, 6, 2]\n",
        "result = nearestSmallerElement(arr)\n",
        "print(result)\n"
      ],
      "metadata": {
        "colab": {
          "base_uri": "https://localhost:8080/"
        },
        "id": "Ko-4EoCZ1a3H",
        "outputId": "6aa8dfd5-b07a-4e0f-b2d3-9e33a5008ea0"
      },
      "execution_count": 4,
      "outputs": [
        {
          "output_type": "stream",
          "name": "stdout",
          "text": [
            "[-1, 1, 1]\n"
          ]
        }
      ]
    },
    {
      "cell_type": "code",
      "source": [],
      "metadata": {
        "id": "jyNM5qMF1coM"
      },
      "execution_count": null,
      "outputs": []
    },
    {
      "cell_type": "markdown",
      "source": [
        "#Question 3**\n",
        "\n",
        "Implement a Stack using two queues **q1** and **q2**.\n",
        "\n",
        "**Example 1:**\n",
        "\n",
        "Input:\n",
        "push(2)\n",
        "push(3)\n",
        "pop()\n",
        "push(4)\n",
        "pop()\n",
        "Output:3 4\n",
        "Explanation:\n",
        "push(2) the stack will be {2}\n",
        "push(3) the stack will be {2 3}\n",
        "pop()   poped element will be 3 the\n",
        "        stack will be {2}\n",
        "push(4) the stack will be {2 4}\n",
        "pop()   poped element will be 4\n"
      ],
      "metadata": {
        "id": "KZsjuOfv1ji0"
      }
    },
    {
      "cell_type": "code",
      "source": [
        "class Stack:\n",
        "    def __init__(self):\n",
        "        self.q1 = []\n",
        "        self.q2 = []\n",
        "\n",
        "    def push(self, x):\n",
        "        self.q1.append(x)\n",
        "\n",
        "    def pop(self):\n",
        "        if not self.q1:\n",
        "            return None\n",
        "\n",
        "        # Move elements from q1 to q2, except for the last element\n",
        "        while len(self.q1) > 1:\n",
        "            self.q2.append(self.q1.pop(0))\n",
        "\n",
        "        # Remove and return the last element from q1\n",
        "        popped = self.q1.pop(0)\n",
        "\n",
        "        # Swap the names of q1 and q2\n",
        "        self.q1, self.q2 = self.q2, self.q1\n",
        "\n",
        "        return popped\n"
      ],
      "metadata": {
        "id": "fbFuCxKA1ktM"
      },
      "execution_count": 5,
      "outputs": []
    },
    {
      "cell_type": "markdown",
      "source": [],
      "metadata": {
        "id": "v84NPQPf1vqq"
      }
    },
    {
      "cell_type": "code",
      "source": [
        "stack = Stack()\n",
        "stack.push(2)\n",
        "stack.push(3)\n",
        "print(stack.pop())  # Output: 3\n",
        "stack.push(4)\n",
        "print(stack.pop())  # Output: 4\n"
      ],
      "metadata": {
        "colab": {
          "base_uri": "https://localhost:8080/"
        },
        "id": "rKnP5aV91mR4",
        "outputId": "12b83a84-d540-4b5f-9cbf-5172e77fc246"
      },
      "execution_count": 6,
      "outputs": [
        {
          "output_type": "stream",
          "name": "stdout",
          "text": [
            "3\n",
            "4\n"
          ]
        }
      ]
    },
    {
      "cell_type": "markdown",
      "source": [
        "#*Question 4**\n",
        "\n",
        "You are given a stack **St**. You have to reverse the stack using recursion.\n",
        "\n",
        "**Example 1:**\n",
        "\n",
        "Input:St = {4,3,9,6}\n",
        "Output:{6,9,3,4}"
      ],
      "metadata": {
        "id": "BylG4OgV1wqY"
      }
    },
    {
      "cell_type": "code",
      "source": [
        "def reverseStack(stack):\n",
        "    if len(stack) <= 1:\n",
        "        return\n",
        "\n",
        "    # Remove the top element from the stack\n",
        "    top = stack.pop()\n",
        "\n",
        "    # Reverse the remaining stack\n",
        "    reverseStack(stack)\n",
        "\n",
        "    # Insert the top element at the bottom of the reversed stack\n",
        "    insertAtBottom(stack, top)\n",
        "\n",
        "\n",
        "def insertAtBottom(stack, item):\n",
        "    if len(stack) == 0:\n",
        "        stack.append(item)\n",
        "    else:\n",
        "        top = stack.pop()\n",
        "        insertAtBottom(stack, item)\n",
        "        stack.append(top)\n"
      ],
      "metadata": {
        "id": "wFpUAWj71oBc"
      },
      "execution_count": 7,
      "outputs": []
    },
    {
      "cell_type": "code",
      "source": [
        "stack = [4, 3, 9, 6]\n",
        "reverseStack(stack)\n",
        "print(stack)  # Output: [6, 9, 3, 4]\n"
      ],
      "metadata": {
        "colab": {
          "base_uri": "https://localhost:8080/"
        },
        "id": "XwKRysmx1y5H",
        "outputId": "7c7d3552-247f-4cfa-a35b-664afa05e490"
      },
      "execution_count": 8,
      "outputs": [
        {
          "output_type": "stream",
          "name": "stdout",
          "text": [
            "[6, 9, 3, 4]\n"
          ]
        }
      ]
    },
    {
      "cell_type": "markdown",
      "source": [
        "#Question 5**\n",
        "\n",
        "You are given a string **S**, the task is to reverse the string using stack.\n",
        "\n",
        "**Example 1:**\n",
        "\n",
        "Input: S=\"GeeksforGeeks\"\n",
        "Output: skeeGrofskeeG"
      ],
      "metadata": {
        "id": "7WlYHaEP1-W5"
      }
    },
    {
      "cell_type": "code",
      "source": [
        "def reverseString(S):\n",
        "    stack = []\n",
        "    reversed_string = \"\"\n",
        "\n",
        "    # Push each character onto the stack\n",
        "    for char in S:\n",
        "        stack.append(char)\n",
        "\n",
        "    # Pop each character from the stack and append it to the reversed string\n",
        "    while stack:\n",
        "        reversed_string += stack.pop()\n",
        "\n",
        "    return reversed_string\n"
      ],
      "metadata": {
        "id": "VNwD9tZ210KQ"
      },
      "execution_count": 9,
      "outputs": []
    },
    {
      "cell_type": "code",
      "source": [
        "S = \"GeeksforGeeks\"\n",
        "reversed_str = reverseString(S)\n",
        "print(reversed_str)  # Output: skeeGrofskeeG\n"
      ],
      "metadata": {
        "colab": {
          "base_uri": "https://localhost:8080/"
        },
        "id": "xWR8E-LT2BB6",
        "outputId": "773fbd6b-be17-40ef-f2f2-435336ea4b53"
      },
      "execution_count": 10,
      "outputs": [
        {
          "output_type": "stream",
          "name": "stdout",
          "text": [
            "skeeGrofskeeG\n"
          ]
        }
      ]
    },
    {
      "cell_type": "markdown",
      "source": [
        "#Question 6**\n",
        "\n",
        "Given string **S** representing a postfix expression, the task is to evaluate the expression and find the final value. Operators will only include the basic arithmetic operators like ***, /, + and -**.\n",
        "\n",
        "**Example 1:**\n",
        "\n",
        "Input: S = \"231*+9-\"\n",
        "Output: -4\n",
        "Explanation:\n",
        "After solving the given expression,\n",
        "we have -4 as result.\n"
      ],
      "metadata": {
        "id": "nOQlsRoV2JPa"
      }
    },
    {
      "cell_type": "code",
      "source": [
        "def evaluatePostfixExpression(S):\n",
        "    stack = []\n",
        "\n",
        "    for char in S:\n",
        "        if char.isdigit():\n",
        "            stack.append(int(char))\n",
        "        else:\n",
        "            operand2 = stack.pop()\n",
        "            operand1 = stack.pop()\n",
        "\n",
        "            if char == '+':\n",
        "                result = operand1 + operand2\n",
        "            elif char == '-':\n",
        "                result = operand1 - operand2\n",
        "            elif char == '*':\n",
        "                result = operand1 * operand2\n",
        "            elif char == '/':\n",
        "                result = operand1 / operand2\n",
        "\n",
        "            stack.append(result)\n",
        "\n",
        "    return stack.pop()\n"
      ],
      "metadata": {
        "id": "ll8ScMAN2CwA"
      },
      "execution_count": 11,
      "outputs": []
    },
    {
      "cell_type": "code",
      "source": [
        "S = \"231*+9-\"\n",
        "result = evaluatePostfixExpression(S)\n",
        "print(result)  # Output: -4\n"
      ],
      "metadata": {
        "colab": {
          "base_uri": "https://localhost:8080/"
        },
        "id": "_h4mKo232MY8",
        "outputId": "296864dc-d7d4-4953-868f-75e9d55fac1c"
      },
      "execution_count": 12,
      "outputs": [
        {
          "output_type": "stream",
          "name": "stdout",
          "text": [
            "-4\n"
          ]
        }
      ]
    },
    {
      "cell_type": "markdown",
      "source": [
        "#Question 7**\n",
        "\n",
        "Design a stack that supports push, pop, top, and retrieving the minimum element in constant time.\n",
        "\n",
        "Implement the `MinStack` class:\n",
        "\n",
        "- `MinStack()` initializes the stack object.\n",
        "- `void push(int val)` pushes the element `val` onto the stack.\n",
        "- `void pop()` removes the element on the top of the stack.\n",
        "- `int top()` gets the top element of the stack.\n",
        "- `int getMin()` retrieves the minimum element in the stack.\n",
        "\n",
        "You must implement a solution with `O(1)` time complexity for each function.\n",
        "\n",
        "**Example 1:**\n",
        "\n",
        "Input\n",
        "[\"MinStack\",\"push\",\"push\",\"push\",\"getMin\",\"pop\",\"top\",\"getMin\"]\n",
        "[[],[-2],[0],[-3],[],[],[],[]]\n",
        "\n",
        "Output\n",
        "[null,null,null,null,-3,null,0,-2]\n",
        "\n",
        "Explanation\n",
        "MinStack minStack = new MinStack();\n",
        "minStack.push(-2);\n",
        "minStack.push(0);\n",
        "minStack.push(-3);\n",
        "minStack.getMin(); // return -3\n",
        "minStack.pop();\n",
        "minStack.top();    // return 0\n",
        "minStack.getMin(); // return -2"
      ],
      "metadata": {
        "id": "fdnuFog-2eVQ"
      }
    },
    {
      "cell_type": "code",
      "source": [
        "class MinStack:\n",
        "    def __init__(self):\n",
        "        self.stack = []\n",
        "        self.min_stack = []\n",
        "\n",
        "    def push(self, val):\n",
        "        self.stack.append(val)\n",
        "        if not self.min_stack or val <= self.min_stack[-1]:\n",
        "            self.min_stack.append(val)\n",
        "\n",
        "    def pop(self):\n",
        "        if self.stack:\n",
        "            popped = self.stack.pop()\n",
        "            if popped == self.min_stack[-1]:\n",
        "                self.min_stack.pop()\n",
        "\n",
        "    def top(self):\n",
        "        if self.stack:\n",
        "            return self.stack[-1]\n",
        "        return None\n",
        "\n",
        "    def getMin(self):\n",
        "        if self.min_stack:\n",
        "            return self.min_stack[-1]\n",
        "        return None\n"
      ],
      "metadata": {
        "id": "bEKr6Kco2OB_"
      },
      "execution_count": 13,
      "outputs": []
    },
    {
      "cell_type": "code",
      "source": [
        "minStack = MinStack()\n",
        "minStack.push(-2)\n",
        "minStack.push(0)\n",
        "minStack.push(-3)\n",
        "minStack.getMin()  # Output: -3\n",
        "minStack.pop()\n",
        "minStack.top()     # Output: 0\n",
        "minStack.getMin()  # Output: -2\n"
      ],
      "metadata": {
        "colab": {
          "base_uri": "https://localhost:8080/"
        },
        "id": "yDa1azND2jcY",
        "outputId": "76aa8598-06a9-463c-9731-da875eda9526"
      },
      "execution_count": 14,
      "outputs": [
        {
          "output_type": "execute_result",
          "data": {
            "text/plain": [
              "-2"
            ]
          },
          "metadata": {},
          "execution_count": 14
        }
      ]
    },
    {
      "cell_type": "markdown",
      "source": [
        "#Question 8**\n",
        "\n",
        "Given `n` non-negative integers representing an elevation map where the width of each bar is `1`, compute how much water it can trap after raining.\n",
        "\n",
        "**Example 1:**\n",
        "Input: height = [0,1,0,2,1,0,1,3,2,1,2,1]\n",
        "Output: 6\n",
        "Explanation: The above elevation map (black section) is represented by array [0,1,0,2,1,0,1,3,2,1,2,1]. In this case, 6 units of rain water (blue section) are being trapped.\n"
      ],
      "metadata": {
        "id": "0XoFge3A2rZU"
      }
    },
    {
      "cell_type": "code",
      "source": [
        "def trapWater(height):\n",
        "    if not height:\n",
        "        return 0\n",
        "\n",
        "    left = 0\n",
        "    right = len(height) - 1\n",
        "    left_max = 0\n",
        "    right_max = 0\n",
        "    water = 0\n",
        "\n",
        "    while left < right:\n",
        "        if height[left] < height[right]:\n",
        "            if height[left] >= left_max:\n",
        "                left_max = height[left]\n",
        "            else:\n",
        "                water += left_max - height[left]\n",
        "            left += 1\n",
        "        else:\n",
        "            if height[right] >= right_max:\n",
        "                right_max = height[right]\n",
        "            else:\n",
        "                water += right_max - height[right]\n",
        "            right -= 1\n",
        "\n",
        "    return water\n"
      ],
      "metadata": {
        "id": "JJSbJYyD2krm"
      },
      "execution_count": 15,
      "outputs": []
    },
    {
      "cell_type": "code",
      "source": [
        "height = [0, 1, 0, 2, 1, 0, 1, 3, 2, 1, 2, 1]\n",
        "print(trapWater(height))  # Output: 6\n"
      ],
      "metadata": {
        "colab": {
          "base_uri": "https://localhost:8080/"
        },
        "id": "m_0CPvpK2uZf",
        "outputId": "7f3f221c-0058-4efc-a771-5007b03d0445"
      },
      "execution_count": 16,
      "outputs": [
        {
          "output_type": "stream",
          "name": "stdout",
          "text": [
            "6\n"
          ]
        }
      ]
    },
    {
      "cell_type": "code",
      "source": [],
      "metadata": {
        "id": "Y1ta5JPY2vdn"
      },
      "execution_count": null,
      "outputs": []
    }
  ]
}
{
  "nbformat": 4,
  "nbformat_minor": 0,
  "metadata": {
    "colab": {
      "provenance": []
    },
    "kernelspec": {
      "name": "python3",
      "display_name": "Python 3"
    },
    "language_info": {
      "name": "python"
    }
  },
  "cells": [
    {
      "cell_type": "code",
      "execution_count": null,
      "metadata": {
        "id": "D4PleKlGh4vl"
      },
      "outputs": [],
      "source": []
    },
    {
      "cell_type": "markdown",
      "source": [
        "#Question 1\n",
        "\n",
        "Given an integer `n`, return *`true` if it is a power of three. Otherwise, return `false`*.\n",
        "\n",
        "An integer `n` is a power of three, if there exists an integer `x` such that `n == 3x`.\n",
        "\n",
        "**Example 1:**\n",
        "\n",
        "```\n",
        "Input: n = 27\n",
        "Output: true\n",
        "Explanation: 27 = 33\n",
        "```\n",
        "\n",
        "**Example 2:**\n",
        "\n",
        "```\n",
        "Input: n = 0\n",
        "Output: false\n",
        "Explanation: There is no x where 3x = 0.\n",
        "\n",
        "```\n",
        "\n",
        "**Example 3:**\n",
        "Input: n = -1\n",
        "Output: false\n",
        "Explanation: There is no x where 3x = (-1).\n",
        "'''"
      ],
      "metadata": {
        "id": "1AH-Ck7WuZDY"
      }
    },
    {
      "cell_type": "code",
      "source": [
        "def isPowerOfThree(n):\n",
        "    if n <= 0:\n",
        "        return False\n",
        "    x = 1\n",
        "    while x < n:\n",
        "        x *= 3\n",
        "    return x == n\n"
      ],
      "metadata": {
        "id": "coxlaAlMvf6t"
      },
      "execution_count": 2,
      "outputs": []
    },
    {
      "cell_type": "code",
      "source": [
        "print(isPowerOfThree(27))\n",
        "print(isPowerOfThree(0))\n",
        "print(isPowerOfThree(-1))\n"
      ],
      "metadata": {
        "colab": {
          "base_uri": "https://localhost:8080/"
        },
        "id": "w4Vem_2avgVL",
        "outputId": "bb6b0aca-9901-41f0-af2a-85a040439275"
      },
      "execution_count": 3,
      "outputs": [
        {
          "output_type": "stream",
          "name": "stdout",
          "text": [
            "True\n",
            "False\n",
            "False\n"
          ]
        }
      ]
    },
    {
      "cell_type": "code",
      "source": [],
      "metadata": {
        "id": "63adiIkFvn4C"
      },
      "execution_count": null,
      "outputs": []
    },
    {
      "cell_type": "markdown",
      "source": [
        "#Question 2\n",
        "\n",
        "You have a list `arr` of all integers in the range `[1, n]` sorted in a strictly increasing order. Apply the following algorithm on `arr`:\n",
        "\n",
        "- Starting from left to right, remove the first number and every other number afterward until you reach the end of the list.\n",
        "- Repeat the previous step again, but this time from right to left, remove the rightmost number and every other number from the remaining numbers.\n",
        "- Keep repeating the steps again, alternating left to right and right to left, until a single number remains.\n",
        "\n",
        "Given the integer `n`, return *the last number that remains in* `arr`.\n",
        "\n",
        "**Example 1:**\n",
        "\n",
        "```\n",
        "Input: n = 9\n",
        "Output: 6\n",
        "Explanation:\n",
        "arr = [1, 2,3, 4,5, 6,7, 8,9]\n",
        "arr = [2,4, 6,8]\n",
        "arr = [2, 6]\n",
        "arr = [6]\n",
        "\n",
        "```\n",
        "\n",
        "**Example 2:**\n",
        "Input: n = 1\n",
        "Output: 1\n",
        "</aside>"
      ],
      "metadata": {
        "id": "O46uJtyxvzxO"
      }
    },
    {
      "cell_type": "code",
      "source": [
        "def lastRemaining(n):\n",
        "    left_to_right = True\n",
        "    remaining = n\n",
        "    step = 1\n",
        "    head = 1\n",
        "    while remaining > 1:\n",
        "        if left_to_right or remaining % 2 == 1:\n",
        "            head += step\n",
        "        remaining //= 2\n",
        "        step *= 2\n",
        "        left_to_right = not left_to_right\n",
        "    return head\n"
      ],
      "metadata": {
        "id": "7XYHVlBzv4qn"
      },
      "execution_count": null,
      "outputs": []
    },
    {
      "cell_type": "code",
      "source": [
        "print(lastRemaining(9))\n",
        "print(lastRemaining(1))\n"
      ],
      "metadata": {
        "colab": {
          "base_uri": "https://localhost:8080/"
        },
        "id": "6dYrETG4wHi_",
        "outputId": "ad79b343-df7a-41bf-ff09-e1ec2b596761"
      },
      "execution_count": null,
      "outputs": [
        {
          "output_type": "stream",
          "name": "stdout",
          "text": [
            "6\n",
            "1\n"
          ]
        }
      ]
    },
    {
      "cell_type": "code",
      "source": [],
      "metadata": {
        "id": "AhzdA7mKwJjK"
      },
      "execution_count": null,
      "outputs": []
    },
    {
      "cell_type": "markdown",
      "source": [
        "#Question 3\n",
        "\n",
        "****Given a set represented as a string, write a recursive code to print all subsets of it. The subsets can be printed in any order.\n",
        "\n",
        "**Example 1:**\n",
        "\n",
        "Input :  set = “abc”\n",
        "\n",
        "Output : { “”, “a”, “b”, “c”, “ab”, “ac”, “bc”, “abc”}\n",
        "\n",
        "**Example 2:**\n",
        "\n",
        "Input : set = “abcd”\n",
        "\n",
        "Output : { “”, “a” ,”ab” ,”abc” ,”abcd”, “abd” ,”ac” ,”acd”, “ad” ,”b”, “bc” ,”bcd” ,”bd” ,”c” ,”cd” ,”d” }\n",
        "\n",
        "</aside>"
      ],
      "metadata": {
        "id": "ZwVqGiIywOn9"
      }
    },
    {
      "cell_type": "code",
      "source": [
        "def subsets(set_str):\n",
        "    subsets = []\n",
        "\n",
        "    def generateSubsets(set_str, current_subset, index):\n",
        "        if index == len(set_str):\n",
        "            subsets.append(current_subset)\n",
        "            return\n",
        "\n",
        "        generateSubsets(set_str, current_subset, index + 1)\n",
        "        generateSubsets(set_str, current_subset + set_str[index], index + 1)\n",
        "\n",
        "    generateSubsets(set_str, '', 0)\n",
        "    return subsets\n"
      ],
      "metadata": {
        "id": "50z1wfMZwSO6"
      },
      "execution_count": null,
      "outputs": []
    },
    {
      "cell_type": "code",
      "source": [
        "print(subsets(\"abc\"))\n",
        "print(subsets(\"abcd\"))"
      ],
      "metadata": {
        "colab": {
          "base_uri": "https://localhost:8080/"
        },
        "id": "ZBCZav_8wlDy",
        "outputId": "06c27e2f-a22b-4127-c27d-7dd6b74d8f84"
      },
      "execution_count": null,
      "outputs": [
        {
          "output_type": "stream",
          "name": "stdout",
          "text": [
            "['', 'c', 'b', 'bc', 'a', 'ac', 'ab', 'abc']\n",
            "['', 'd', 'c', 'cd', 'b', 'bd', 'bc', 'bcd', 'a', 'ad', 'ac', 'acd', 'ab', 'abd', 'abc', 'abcd']\n"
          ]
        }
      ]
    },
    {
      "cell_type": "code",
      "source": [],
      "metadata": {
        "id": "YsdkVAUTwnQJ"
      },
      "execution_count": null,
      "outputs": []
    },
    {
      "cell_type": "markdown",
      "source": [
        "#Question 4\n",
        "\n",
        "Given a string calculate length of the string using recursion.\n",
        "\n",
        "**Examples:**\n",
        "Input : str = \"abcd\"\n",
        "Output :4\n",
        "\n",
        "Input : str = \"GEEKSFORGEEKS\"\n",
        "Output :13\n",
        "</aside>"
      ],
      "metadata": {
        "id": "r4yCyp5eww_Y"
      }
    },
    {
      "cell_type": "code",
      "source": [
        "def calculateLength(str, index):\n",
        "    if index == len(str):\n",
        "        return 0\n",
        "    else:\n",
        "        return 1 + calculateLength(str, index + 1)\n",
        "\n",
        "# Test the function\n",
        "str1 = \"abcd\"\n",
        "str2 = \"GEEKSFORGEEKS\"\n",
        "\n",
        "print(calculateLength(str1, 0))\n",
        "print(calculateLength(str2, 0))\n"
      ],
      "metadata": {
        "colab": {
          "base_uri": "https://localhost:8080/"
        },
        "id": "eAm6jb9Kw2mA",
        "outputId": "013cedab-4e3b-4a1c-9d9e-d5cad54444a3"
      },
      "execution_count": null,
      "outputs": [
        {
          "output_type": "stream",
          "name": "stdout",
          "text": [
            "4\n",
            "13\n"
          ]
        }
      ]
    },
    {
      "cell_type": "code",
      "source": [],
      "metadata": {
        "id": "wJKDjZ82xPtC"
      },
      "execution_count": null,
      "outputs": []
    },
    {
      "cell_type": "markdown",
      "source": [
        "#Question 5\n",
        "\n",
        "We are given a string S, we need to find count of all contiguous substrings starting and ending with same character.\n",
        "\n",
        "**Examples :**\n",
        "Input  : S = \"abcab\"\n",
        "Output : 7\n",
        "There are 15 substrings of \"abcab\"\n",
        "a, ab, abc, abca, abcab, b, bc, bca\n",
        "bcab, c, ca, cab, a, ab, b\n",
        "Out of the above substrings, there\n",
        "are 7 substrings : a, abca, b, bcab,\n",
        "c, a and b.\n",
        "\n",
        "Input  : S = \"aba\"\n",
        "Output : 4\n",
        "The substrings are a, b, a and aba\n",
        "</aside>"
      ],
      "metadata": {
        "id": "bRmqUZALxS00"
      }
    },
    {
      "cell_type": "code",
      "source": [
        "def countContiguousSubstrings(S):\n",
        "    count = 0\n",
        "    for i in range(len(S)):\n",
        "        for j in range(i, len(S)):\n",
        "            if S[i] == S[j]:\n",
        "                count += 1\n",
        "    return count\n",
        "\n",
        "# Test the function\n",
        "S1 = \"abcab\"\n",
        "S2 = \"aba\"\n",
        "\n",
        "print(countContiguousSubstrings(S1))\n",
        "print(countContiguousSubstrings(S2))\n"
      ],
      "metadata": {
        "colab": {
          "base_uri": "https://localhost:8080/"
        },
        "id": "Tf37av4vxciM",
        "outputId": "d249d973-d3f7-4827-bd32-f903691f46a9"
      },
      "execution_count": null,
      "outputs": [
        {
          "output_type": "stream",
          "name": "stdout",
          "text": [
            "7\n",
            "4\n"
          ]
        }
      ]
    },
    {
      "cell_type": "code",
      "source": [],
      "metadata": {
        "id": "qEsKAGosxma8"
      },
      "execution_count": null,
      "outputs": []
    },
    {
      "cell_type": "markdown",
      "source": [
        "#Question 6\n",
        "\n",
        "The [tower of Hanoi](https://en.wikipedia.org/wiki/Tower_of_Hanoi) is a famous puzzle where we have three rods and **N** disks. The objective of the puzzle is to move the entire stack to another rod. You are given the number of discs **N**. Initially, these discs are in the rod 1. You need to print all the steps of discs movement so that all the discs reach the 3rd rod. Also, you need to find the total moves.**Note:** The discs are arranged such that the **top disc is numbered 1** and the **bottom-most disc is numbered N**. Also, all the discs have **different sizes** and a bigger disc **cannot** be put on the top of a smaller disc. Refer the provided link to get a better clarity about the puzzle.\n",
        "\n",
        "**Example 1:**\n",
        "Input:\n",
        "N = 2\n",
        "Output:\n",
        "move disk 1 from rod 1 to rod 2\n",
        "move disk 2 from rod 1 to rod 3\n",
        "move disk 1 from rod 2 to rod 3\n",
        "3\n",
        "Explanation:For N=2 , steps will be\n",
        "as follows in the example and total\n",
        "3 steps will be taken.\n",
        "\n",
        "Example 2:\n",
        "Input:\n",
        "N = 3\n",
        "Output:\n",
        "move disk 1 from rod 1 to rod 3\n",
        "move disk 2 from rod 1 to rod 2\n",
        "move disk 1 from rod 3 to rod 2\n",
        "move disk 3 from rod 1 to rod 3\n",
        "move disk 1 from rod 2 to rod 1\n",
        "move disk 2 from rod 2 to rod 3\n",
        "move disk 1 from rod 1 to rod 3\n",
        "7\n",
        "Explanation:For N=3 , steps will be\n",
        "as follows in the example and total\n",
        "7 steps will be taken.\n",
        "</aside>"
      ],
      "metadata": {
        "id": "XS3o8fHoxv0w"
      }
    },
    {
      "cell_type": "code",
      "source": [
        "def towerOfHanoi(n, source, destination, auxiliary):\n",
        "    if n == 1:\n",
        "        print(\"move disk\", n, \"from rod\", source, \"to rod\", destination)\n",
        "        return 1\n",
        "\n",
        "    moves = 0\n",
        "\n",
        "    moves += towerOfHanoi(n - 1, source, auxiliary, destination)\n",
        "    print(\"move disk\", n, \"from rod\", source, \"to rod\", destination)\n",
        "    moves += 1\n",
        "    moves += towerOfHanoi(n - 1, auxiliary, destination, source)\n",
        "\n",
        "    return moves\n",
        "\n",
        "# Test the function\n",
        "N = 2\n",
        "moves = towerOfHanoi(N, 1, 3, 2)\n",
        "print(moves)\n",
        "\n",
        "N = 3\n",
        "moves = towerOfHanoi(N, 1, 3, 2)\n",
        "print(moves)\n"
      ],
      "metadata": {
        "colab": {
          "base_uri": "https://localhost:8080/"
        },
        "id": "lx9-pBMmx9jC",
        "outputId": "c28fe32f-7553-40ff-ec81-5a8011a0de16"
      },
      "execution_count": null,
      "outputs": [
        {
          "output_type": "stream",
          "name": "stdout",
          "text": [
            "move disk 1 from rod 1 to rod 2\n",
            "move disk 2 from rod 1 to rod 3\n",
            "move disk 1 from rod 2 to rod 3\n",
            "3\n",
            "move disk 1 from rod 1 to rod 3\n",
            "move disk 2 from rod 1 to rod 2\n",
            "move disk 1 from rod 3 to rod 2\n",
            "move disk 3 from rod 1 to rod 3\n",
            "move disk 1 from rod 2 to rod 1\n",
            "move disk 2 from rod 2 to rod 3\n",
            "move disk 1 from rod 1 to rod 3\n",
            "7\n"
          ]
        }
      ]
    },
    {
      "cell_type": "code",
      "source": [],
      "metadata": {
        "id": "hpVJp7wWyPIo"
      },
      "execution_count": null,
      "outputs": []
    },
    {
      "cell_type": "markdown",
      "source": [
        "#Question 7\n",
        "\n",
        "Given a string **str**, the task is to print all the permutations of **str**. A **permutation** is an arrangement of all or part of a set of objects, with regard to the order of the arrangement. For instance, the words ‘bat’ and ‘tab’ represents two distinct permutation (or arrangements) of a similar three letter word.\n",
        "\n",
        "**Examples:**\n",
        "\n",
        "> Input: str = “cd”\n",
        ">\n",
        ">\n",
        "> **Output:** cd dc\n",
        ">\n",
        "> **Input:** str = “abb”\n",
        ">\n",
        "> **Output:** abb abb bab bba bab bba\n",
        ">\n",
        "</aside>"
      ],
      "metadata": {
        "id": "SiqbQgh-yVI1"
      }
    },
    {
      "cell_type": "code",
      "source": [
        "def permute(str, l, r):\n",
        "    if l == r:\n",
        "        print(str)\n",
        "        return\n",
        "\n",
        "    for i in range(l, r + 1):\n",
        "        str_list = list(str)\n",
        "        str_list[l], str_list[i] = str_list[i], str_list[l]\n",
        "        permute(\"\".join(str_list), l + 1, r)\n",
        "        str_list[l], str_list[i] = str_list[i], str_list[l]  # Backtracking\n",
        "\n",
        "# Test the function\n",
        "str = \"cd\"\n",
        "permute(str, 0, len(str) - 1)\n",
        "\n",
        "str = \"abb\"\n",
        "permute(str, 0, len(str) - 1)\n"
      ],
      "metadata": {
        "colab": {
          "base_uri": "https://localhost:8080/"
        },
        "id": "Rb1RMqQzyarb",
        "outputId": "db61e792-3379-4225-b235-23bfd25690a7"
      },
      "execution_count": null,
      "outputs": [
        {
          "output_type": "stream",
          "name": "stdout",
          "text": [
            "cd\n",
            "dc\n",
            "abb\n",
            "abb\n",
            "bab\n",
            "bba\n",
            "bba\n",
            "bab\n"
          ]
        }
      ]
    },
    {
      "cell_type": "code",
      "source": [],
      "metadata": {
        "id": "J7Mou4_uygOt"
      },
      "execution_count": null,
      "outputs": []
    },
    {
      "cell_type": "markdown",
      "source": [
        "#Question 8**\n",
        "\n",
        "Given a string, count total number of consonants in it. A consonant is an English alphabet character that is not vowel (a, e, i, o and u). Examples of constants are b, c, d, f, and g.\n",
        "\n",
        "**Examples :**\n",
        "Input : abc de\n",
        "Output : 3\n",
        "There are three consonants b, c and d.\n",
        "\n",
        "Input : geeksforgeeks portal\n",
        "Output : 12\n",
        "</aside>"
      ],
      "metadata": {
        "id": "p4RMnicjztqv"
      }
    },
    {
      "cell_type": "code",
      "source": [
        "def count_consonants(string):\n",
        "    consonants = 0\n",
        "    vowels = ['a', 'e', 'i', 'o', 'u']\n",
        "    for char in string:\n",
        "        if char.isalpha() and char.lower() not in vowels:\n",
        "            consonants += 1\n",
        "    return consonants\n",
        "\n",
        "# Example usage\n",
        "string = \"abc de\"\n",
        "consonant_count = count_consonants(string)\n",
        "print(consonant_count)\n",
        "\n",
        "# Example usage\n",
        "string = \"geeksforgeeks portal\"\n",
        "consonant_count = count_consonants(string)\n",
        "print(consonant_count)\n"
      ],
      "metadata": {
        "colab": {
          "base_uri": "https://localhost:8080/"
        },
        "id": "UzGnHb3Yz1My",
        "outputId": "8688d299-dd06-4053-a282-a3c10f5b596f"
      },
      "execution_count": null,
      "outputs": [
        {
          "output_type": "stream",
          "name": "stdout",
          "text": [
            "3\n",
            "12\n"
          ]
        }
      ]
    },
    {
      "cell_type": "code",
      "source": [],
      "metadata": {
        "id": "KjslfKcuz9Ot"
      },
      "execution_count": null,
      "outputs": []
    }
  ]
}
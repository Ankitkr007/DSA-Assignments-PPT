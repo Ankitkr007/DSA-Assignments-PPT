{
  "nbformat": 4,
  "nbformat_minor": 0,
  "metadata": {
    "colab": {
      "provenance": []
    },
    "kernelspec": {
      "name": "python3",
      "display_name": "Python 3"
    },
    "language_info": {
      "name": "python"
    }
  },
  "cells": [
    {
      "cell_type": "code",
      "execution_count": null,
      "metadata": {
        "id": "tDVrTv04orvI"
      },
      "outputs": [],
      "source": []
    },
    {
      "cell_type": "markdown",
      "source": [
        "#Question 1**\n",
        "\n",
        "Given a singly linked list, delete **middle** of the linked list. For example, if given linked list is 1->2->**3**->4->5 then linked list should be modified to 1->2->4->5.If there are **even** nodes, then there would be **two middle** nodes, we need to delete the second middle element. For example, if given linked list is 1->2->3->4->5->6 then it should be modified to 1->2->3->5->6.If the input linked list is NULL or has 1 node, then it should return NULL\n",
        "\n",
        "**Example 1:**\n",
        "\n",
        "Input:\n",
        "LinkedList: 1->2->3->4->5\n",
        "Output:1 2 4 5\n",
        "Example 2:\n",
        "Input:\n",
        "LinkedList: 2->4->6->7->5->1\n",
        "Output:2 4 6 5 1"
      ],
      "metadata": {
        "id": "gvNYiENao1U5"
      }
    },
    {
      "cell_type": "code",
      "source": [
        "class ListNode:\n",
        "    def __init__(self, val=0, next=None):\n",
        "        self.val = val\n",
        "        self.next = next\n",
        "\n",
        "def deleteMiddleNode(head):\n",
        "    if head is None or head.next is None:\n",
        "        return head\n",
        "\n",
        "    slow = head\n",
        "    fast = head\n",
        "    prev = None\n",
        "\n",
        "    while fast is not None and fast.next is not None:\n",
        "        fast = fast.next.next\n",
        "        prev = slow\n",
        "        slow = slow.next\n",
        "\n",
        "    prev.next = slow.next\n",
        "\n",
        "    return head\n"
      ],
      "metadata": {
        "id": "vTL9B1XYo2yC"
      },
      "execution_count": 1,
      "outputs": []
    },
    {
      "cell_type": "code",
      "source": [
        "# Example 1\n",
        "head = ListNode(1)\n",
        "head.next = ListNode(2)\n",
        "head.next.next = ListNode(3)\n",
        "head.next.next.next = ListNode(4)\n",
        "head.next.next.next.next = ListNode(5)\n",
        "\n",
        "result = deleteMiddleNode(head)\n",
        "\n",
        "# Print the resulting linked list\n",
        "while result is not None:\n",
        "    print(result.val, end=\" \")\n",
        "    result = result.next\n",
        "print()\n",
        "\n",
        "# Example 2\n",
        "head = ListNode(2)\n",
        "head.next = ListNode(4)\n",
        "head.next.next = ListNode(6)\n",
        "head.next.next.next = ListNode(7)\n",
        "head.next.next.next.next = ListNode(5)\n",
        "head.next.next.next.next.next = ListNode(1)\n",
        "\n",
        "result = deleteMiddleNode(head)\n",
        "\n",
        "# Print the resulting linked list\n",
        "while result is not None:\n",
        "    print(result.val, end=\" \")\n",
        "    result = result.next\n",
        "print()\n"
      ],
      "metadata": {
        "colab": {
          "base_uri": "https://localhost:8080/"
        },
        "id": "MjmLZn4to7hq",
        "outputId": "e9c26a00-5024-4d43-db18-d8717099d7aa"
      },
      "execution_count": 2,
      "outputs": [
        {
          "output_type": "stream",
          "name": "stdout",
          "text": [
            "1 2 4 5 \n",
            "2 4 6 5 1 \n"
          ]
        }
      ]
    },
    {
      "cell_type": "markdown",
      "source": [
        "#Question 2**\n",
        "\n",
        "Given a linked list of **N** nodes. The task is to check if the linked list has a loop. Linked list can contain self loop.\n",
        "\n",
        "**Example 1:**\n",
        "Input:\n",
        "N = 3\n",
        "value[] = {1,3,4}\n",
        "x(position at which tail is connected) = 2\n",
        "Output:True\n",
        "Explanation:In above test case N = 3.\n",
        "The linked list with nodes N = 3 is\n",
        "given. Then value of x=2 is given which\n",
        "means last node is connected with xth\n",
        "node of linked list. Therefore, there\n",
        "exists a loop.\n",
        "\n",
        "Example 2:\n",
        "Input:\n",
        "N = 4\n",
        "value[] = {1,8,3,4}\n",
        "x = 0\n",
        "Output:False\n",
        "Explanation:For N = 4 ,x = 0 means\n",
        "then lastNode->next = NULL, then\n",
        "the Linked list does not contains\n",
        "any loop."
      ],
      "metadata": {
        "id": "ZyHDghV5pN9i"
      }
    },
    {
      "cell_type": "code",
      "source": [
        "class ListNode:\n",
        "    def __init__(self, val=0, next=None):\n",
        "        self.val = val\n",
        "        self.next = next\n",
        "\n",
        "def hasLoop(head):\n",
        "    if head is None or head.next is None:\n",
        "        return False\n",
        "\n",
        "    slow = head\n",
        "    fast = head.next\n",
        "\n",
        "    while fast is not None and fast.next is not None:\n",
        "        if slow == fast:\n",
        "            return True\n",
        "        slow = slow.next\n",
        "        fast = fast.next.next\n",
        "\n",
        "    return False\n"
      ],
      "metadata": {
        "id": "CHhr4zqEo9Xl"
      },
      "execution_count": 3,
      "outputs": []
    },
    {
      "cell_type": "code",
      "source": [
        "# Example 1\n",
        "head = ListNode(1)\n",
        "head.next = ListNode(3)\n",
        "head.next.next = ListNode(4)\n",
        "head.next.next.next = head.next\n",
        "\n",
        "result = hasLoop(head)\n",
        "print(result)  # True\n",
        "\n",
        "# Example 2\n",
        "head = ListNode(1)\n",
        "head.next = ListNode(8)\n",
        "head.next.next = ListNode(3)\n",
        "head.next.next.next = ListNode(4)\n",
        "\n",
        "result = hasLoop(head)\n",
        "print(result)  # False\n"
      ],
      "metadata": {
        "colab": {
          "base_uri": "https://localhost:8080/"
        },
        "id": "9Ep--r3YpRLK",
        "outputId": "819f6b5a-a32a-411c-afec-9aa107ee20d6"
      },
      "execution_count": 4,
      "outputs": [
        {
          "output_type": "stream",
          "name": "stdout",
          "text": [
            "True\n",
            "False\n"
          ]
        }
      ]
    },
    {
      "cell_type": "markdown",
      "source": [
        "#Question 3**\n",
        "\n",
        "Given a linked list consisting of **L** nodes and given a number **N**. The task is to find the **N**th node from the end of the linked list.\n",
        "\n",
        "Example 1:\n",
        "Input:\n",
        "N = 2\n",
        "LinkedList: 1->2->3->4->5->6->7->8->9\n",
        "Output:8\n",
        "Explanation:In the first example, there\n",
        "are 9 nodes in linked list and we need\n",
        "to find 2nd node from end. 2nd node\n",
        "from end is 8.\n",
        "\n",
        "Example 2:\n",
        "Input:\n",
        "N = 5\n",
        "LinkedList: 10->5->100->5\n",
        "Output:-1\n",
        "Explanation:In the second example, there\n",
        "are 4 nodes in the linked list and we\n",
        "need to find 5th from the end. Since 'n'\n",
        "is more than the number of nodes in the\n",
        "linked list, the output is -1."
      ],
      "metadata": {
        "id": "L_BFytn1pf3w"
      }
    },
    {
      "cell_type": "code",
      "source": [
        "class ListNode:\n",
        "    def __init__(self, val=0, next=None):\n",
        "        self.val = val\n",
        "        self.next = next\n",
        "\n",
        "def nthNodeFromEnd(head, n):\n",
        "    if head is None:\n",
        "        return -1\n",
        "\n",
        "    first = head\n",
        "    second = head\n",
        "\n",
        "    # Move the first pointer N nodes ahead\n",
        "    for _ in range(n):\n",
        "        if first is None:\n",
        "            return -1\n",
        "        first = first.next\n",
        "\n",
        "    # Move both pointers simultaneously\n",
        "    while first is not None:\n",
        "        first = first.next\n",
        "        second = second.next\n",
        "\n",
        "    return second.val\n"
      ],
      "metadata": {
        "id": "-cVUs27FphoQ"
      },
      "execution_count": 5,
      "outputs": []
    },
    {
      "cell_type": "code",
      "source": [
        "# Example 1\n",
        "head = ListNode(1)\n",
        "head.next = ListNode(2)\n",
        "head.next.next = ListNode(3)\n",
        "head.next.next.next = ListNode(4)\n",
        "head.next.next.next.next = ListNode(5)\n",
        "head.next.next.next.next.next = ListNode(6)\n",
        "head.next.next.next.next.next.next = ListNode(7)\n",
        "head.next.next.next.next.next.next.next = ListNode(8)\n",
        "head.next.next.next.next.next.next.next.next = ListNode(9)\n",
        "\n",
        "result = nthNodeFromEnd(head, 2)\n",
        "print(result)  # 8\n",
        "\n",
        "# Example 2\n",
        "head = ListNode(10)\n",
        "head.next = ListNode(5)\n",
        "head.next.next = ListNode(100)\n",
        "head.next.next.next = ListNode(5)\n",
        "\n",
        "result = nthNodeFromEnd(head, 5)\n",
        "print(result)  # -1\n"
      ],
      "metadata": {
        "colab": {
          "base_uri": "https://localhost:8080/"
        },
        "id": "YRuzAOVHpj-G",
        "outputId": "771198bc-3221-46ff-b1fa-aeca3d2530ab"
      },
      "execution_count": 6,
      "outputs": [
        {
          "output_type": "stream",
          "name": "stdout",
          "text": [
            "8\n",
            "-1\n"
          ]
        }
      ]
    },
    {
      "cell_type": "markdown",
      "source": [
        "#Question 4**\n",
        "\n",
        "Given a singly linked list of characters, write a function that returns true if the given list is a palindrome, else false.\n",
        "\n",
        "</aside>"
      ],
      "metadata": {
        "id": "OD-H3U2zqKVJ"
      }
    },
    {
      "cell_type": "code",
      "source": [],
      "metadata": {
        "id": "kJnwAIyopl8x"
      },
      "execution_count": null,
      "outputs": []
    },
    {
      "cell_type": "code",
      "source": [
        "class Node:\n",
        "    def __init__(self, data):\n",
        "\n",
        "        self.data = data\n",
        "        self.ptr = None\n",
        "def ispalindrome(head):\n",
        "\n",
        "\n",
        "    slow = head\n",
        "\n",
        "\n",
        "    stack = []\n",
        "\n",
        "    ispalin = True\n",
        "\n",
        "\n",
        "    while slow != None:\n",
        "        stack.append(slow.data)\n",
        "\n",
        "        # Move ahead\n",
        "        slow = slow.ptr\n",
        "\n",
        "\n",
        "    while head != None:\n",
        "        i = stack.pop()\n",
        "        if head.data == i:\n",
        "            ispalin = True\n",
        "        else:\n",
        "            ispalin = False\n",
        "            break\n",
        "\n",
        "        head = head.ptr\n",
        "\n",
        "    return ispalin\n",
        "\n",
        "one = Node(1)\n",
        "two = Node(2)\n",
        "three = Node(3)\n",
        "four = Node(4)\n",
        "five = Node(3)\n",
        "six = Node(2)\n",
        "seven = Node(1)\n",
        "\n",
        "one.ptr = two\n",
        "two.ptr = three\n",
        "three.ptr = four\n",
        "four.ptr = five\n",
        "five.ptr = six\n",
        "six.ptr = seven\n",
        "seven.ptr = None\n",
        "\n"
      ],
      "metadata": {
        "id": "agaZubFxp6vw"
      },
      "execution_count": 7,
      "outputs": []
    },
    {
      "cell_type": "code",
      "source": [
        "result = ispalindrome(one)\n",
        "\n",
        "print(\"isPalindrome:\", result)\n"
      ],
      "metadata": {
        "colab": {
          "base_uri": "https://localhost:8080/"
        },
        "id": "LdIvAdOmp8dY",
        "outputId": "ff0f467c-1f4d-4674-fd8b-ac398dad8840"
      },
      "execution_count": 8,
      "outputs": [
        {
          "output_type": "stream",
          "name": "stdout",
          "text": [
            "isPalindrome: True\n"
          ]
        }
      ]
    },
    {
      "cell_type": "markdown",
      "source": [
        "<aside>\n",
        "💡 **Question 5**\n",
        "\n",
        "Given a linked list of **N** nodes such that it may contain a loop.\n",
        "\n",
        "A loop here means that the last node of the link list is connected to the node at position X(1-based index). If the link list does not have any loop, X=0.\n",
        "\n",
        "Remove the loop from the linked list, if it is present, i.e. unlink the last node which is forming the loop.\n",
        "\n",
        "**Example 1:**\n",
        "\n",
        "Input:\n",
        "N = 3\n",
        "value[] = {1,3,4}\n",
        "X = 2\n",
        "Output:1\n",
        "Explanation:The link list looks like\n",
        "1 -> 3 -> 4\n",
        "     ^    |\n",
        "     |____|\n",
        "A loop is present. If you remove it\n",
        "successfully, the answer will be 1.\n",
        "Example 2:\n",
        "Input:\n",
        "N = 4\n",
        "value[] = {1,8,3,4}\n",
        "X = 0\n",
        "Output:1\n",
        "Explanation:The Linked list does not\n",
        "contains any loop.\n",
        "Example 3:\n",
        "Input:\n",
        "N = 4\n",
        "value[] = {1,2,3,4}\n",
        "X = 1\n",
        "Output:1\n",
        "Explanation:The link list looks like\n",
        "1 -> 2 -> 3 -> 4\n",
        "^              |\n",
        "|______________|\n",
        "A loop is present.\n",
        "If you remove it successfully,\n",
        "the answer will be 1.\n"
      ],
      "metadata": {
        "id": "3ORrIjZbqO5g"
      }
    },
    {
      "cell_type": "code",
      "source": [
        "class ListNode:\n",
        "    def __init__(self, val=0, next=None):\n",
        "        self.val = val\n",
        "        self.next = next\n",
        "\n",
        "def detectAndRemoveLoop(head):\n",
        "    if head is None or head.next is None:\n",
        "        return head\n",
        "\n",
        "    slow = head\n",
        "    fast = head\n",
        "\n",
        "    # Detect the loop\n",
        "    while fast is not None and fast.next is not None:\n",
        "        slow = slow.next\n",
        "        fast = fast.next.next\n",
        "\n",
        "        if slow == fast:\n",
        "            break\n",
        "\n",
        "    # No loop detected\n",
        "    if slow != fast:\n",
        "        return head\n",
        "\n",
        "    # Find the meeting point\n",
        "    slow = head\n",
        "    while slow.next != fast.next:\n",
        "        slow = slow.next\n",
        "        fast = fast.next\n",
        "\n",
        "    # Remove the loop\n",
        "    fast.next = None\n",
        "\n",
        "    return head\n"
      ],
      "metadata": {
        "id": "-B14wwXvqJPB"
      },
      "execution_count": 11,
      "outputs": []
    },
    {
      "cell_type": "code",
      "source": [
        "head = ListNode(1)\n",
        "head.next = ListNode(3)\n",
        "head.next.next = ListNode(4)\n",
        "head.next.next.next = head.next  # Creating a loop\n",
        "\n",
        "head = detectAndRemoveLoop(head)\n",
        "\n",
        "# Verify the modified linked list\n",
        "current = head\n",
        "while current is not None:\n",
        "    print(current.val, end=\" \")\n",
        "    current = current.next\n"
      ],
      "metadata": {
        "colab": {
          "base_uri": "https://localhost:8080/"
        },
        "id": "nwJnHoYFrjXQ",
        "outputId": "1c5bb242-c2f1-4411-f4cb-92331b2538b8"
      },
      "execution_count": 12,
      "outputs": [
        {
          "output_type": "stream",
          "name": "stdout",
          "text": [
            "1 3 4 "
          ]
        }
      ]
    },
    {
      "cell_type": "code",
      "source": [
        "\n"
      ],
      "metadata": {
        "id": "L00AnrNBrEMB"
      },
      "execution_count": null,
      "outputs": []
    },
    {
      "cell_type": "markdown",
      "source": [
        "#Question 6**\n",
        "\n",
        "Given a linked list and two integers M and N. Traverse the linked list such that you retain M nodes then delete next N nodes, continue the same till end of the linked list.\n",
        "\n",
        "Difficulty Level: Rookie\n",
        "\n",
        "Input:\n",
        "M = 2, N = 2\n",
        "Linked List: 1->2->3->4->5->6->7->8\n",
        "Output:\n",
        "Linked List: 1->2->5->6\n",
        "\n",
        "Input:\n",
        "M = 3, N = 2\n",
        "Linked List: 1->2->3->4->5->6->7->8->9->10\n",
        "Output:\n",
        "Linked List: 1->2->3->6->7->8\n",
        "\n",
        "Input:\n",
        "M = 1, N = 1\n",
        "Linked List: 1->2->3->4->5->6->7->8->9->10\n",
        "Output:\n",
        "Linked List: 1->3->5->7->9"
      ],
      "metadata": {
        "id": "d6tOsuFSvL15"
      }
    },
    {
      "cell_type": "code",
      "source": [
        "class ListNode:\n",
        "    def __init__(self, val=0, next=None):\n",
        "        self.val = val\n",
        "        self.next = next\n",
        "\n",
        "def traverseAndDelete(head, M, N):\n",
        "    if M == 0 or N == 0:\n",
        "        return head\n",
        "\n",
        "    current = head\n",
        "    prev = None\n",
        "\n",
        "    while current is not None:\n",
        "        # Skip M nodes\n",
        "        for _ in range(M):\n",
        "            if current is None:\n",
        "                return head\n",
        "            prev = current\n",
        "            current = current.next\n",
        "\n",
        "        # Delete N nodes\n",
        "        for _ in range(N):\n",
        "            if current is None:\n",
        "                break\n",
        "            current = current.next\n",
        "\n",
        "        # Update the previous node's next pointer\n",
        "        prev.next = current\n",
        "\n",
        "    return head\n"
      ],
      "metadata": {
        "id": "eyon5pAtvNNW"
      },
      "execution_count": 13,
      "outputs": []
    },
    {
      "cell_type": "code",
      "source": [
        "M = 2\n",
        "N = 2\n",
        "head = ListNode(1)\n",
        "head.next = ListNode(2)\n",
        "head.next.next = ListNode(3)\n",
        "head.next.next.next = ListNode(4)\n",
        "head.next.next.next.next = ListNode(5)\n",
        "head.next.next.next.next.next = ListNode(6)\n",
        "head.next.next.next.next.next.next = ListNode(7)\n",
        "head.next.next.next.next.next.next.next = ListNode(8)\n",
        "\n",
        "head = traverseAndDelete(head, M, N)\n"
      ],
      "metadata": {
        "id": "Nf1fp9cJvQuB"
      },
      "execution_count": 14,
      "outputs": []
    },
    {
      "cell_type": "code",
      "source": [
        "current = head\n",
        "while current is not None:\n",
        "    print(current.val, end=\" \")\n",
        "    current = current.next"
      ],
      "metadata": {
        "colab": {
          "base_uri": "https://localhost:8080/"
        },
        "id": "Z2nN8K-IvVZh",
        "outputId": "8766b967-1c4c-497d-f436-5ee544a588fc"
      },
      "execution_count": 15,
      "outputs": [
        {
          "output_type": "stream",
          "name": "stdout",
          "text": [
            "1 2 5 6 "
          ]
        }
      ]
    },
    {
      "cell_type": "markdown",
      "source": [
        "#Question 7**\n",
        "\n",
        "Given two linked lists, insert nodes of second list into first list at alternate positions of first list.\n",
        "For example, if first list is 5->7->17->13->11 and second is 12->10->2->4->6, the first list should become 5->12->7->10->17->2->13->4->11->6 and second list should become empty. The nodes of second list should only be inserted when there are positions available. For example, if the first list is 1->2->3 and second list is 4->5->6->7->8, then first list should become 1->4->2->5->3->6 and second list to 7->8.\n",
        "\n",
        "Use of extra space is not allowed (Not allowed to create additional nodes), i.e., insertion must be done in-place. Expected time complexity is O(n) where n is number of nodes in first list.\n",
        "\n"
      ],
      "metadata": {
        "id": "XoI7lWRWvghy"
      }
    },
    {
      "cell_type": "code",
      "source": [
        "def insertAtAlternatePositions(first, second):\n",
        "    if not second:\n",
        "        return first\n",
        "\n",
        "    curr1 = first\n",
        "    curr2 = second\n",
        "\n",
        "    while curr1 and curr2:\n",
        "        next1 = curr1.next\n",
        "        next2 = curr2.next\n",
        "\n",
        "        curr1.next = curr2\n",
        "        curr2.next = next1\n",
        "\n",
        "        curr1 = next1\n",
        "        curr2 = next2\n",
        "\n",
        "    return first\n"
      ],
      "metadata": {
        "id": "P6W3nxCSvXbH"
      },
      "execution_count": 22,
      "outputs": []
    },
    {
      "cell_type": "code",
      "source": [
        "first = ListNode(5)\n",
        "first.next = ListNode(7)\n",
        "first.next.next = ListNode(17)\n",
        "first.next.next.next = ListNode(13)\n",
        "first.next.next.next.next = ListNode(11)\n",
        "\n",
        "second = ListNode(12)\n",
        "second.next = ListNode(10)\n",
        "second.next.next = ListNode(2)\n",
        "second.next.next.next = ListNode(4)\n",
        "second.next.next.next.next = ListNode(6)\n",
        "\n",
        "first = insertAtAlternatePositions(first, second)\n",
        "\n",
        "# Verify the modified first list\n",
        "curr = first\n",
        "while curr:\n",
        "    print(curr.val, end=\" \")\n",
        "    curr = curr.next\n"
      ],
      "metadata": {
        "colab": {
          "base_uri": "https://localhost:8080/"
        },
        "id": "jr3gNUTjvkJ-",
        "outputId": "78724eac-d8e7-4b78-fb8c-6172db65d239"
      },
      "execution_count": 23,
      "outputs": [
        {
          "output_type": "stream",
          "name": "stdout",
          "text": [
            "5 12 7 10 17 2 13 4 11 6 "
          ]
        }
      ]
    },
    {
      "cell_type": "code",
      "source": [],
      "metadata": {
        "id": "afG6dgQfvq05"
      },
      "execution_count": null,
      "outputs": []
    },
    {
      "cell_type": "markdown",
      "source": [
        "#Question 8**\n",
        "\n",
        "Given a singly linked list, find if the linked list is [circular](https://www.geeksforgeeks.org/circular-linked-list/amp/) or not.\n",
        "\n",
        "> A linked list is called circular if it is not NULL-terminated and all nodes are connected in the form of a cycle. Below is an example of a circular linked list.\n",
        ">\n",
        "</aside>"
      ],
      "metadata": {
        "id": "juAM3MbXwWA8"
      }
    },
    {
      "cell_type": "code",
      "source": [
        "class Node:\n",
        "\n",
        "    # Function to initialise the node object\n",
        "    def __init__(self, data):\n",
        "        self.data = data  # Assign data\n",
        "        self.next = None  # Initialize next as null\n",
        "\n",
        "\n",
        "\n",
        "class LinkedList:\n",
        "\n",
        "\n",
        "    def __init__(self):\n",
        "        self.head = None\n",
        "\n",
        "\n",
        "def Circular(head):\n",
        "    if head == None:\n",
        "        return True\n",
        "\n",
        "    node = head.next\n",
        "    i = 0\n",
        "    while((node is not None) and (node is not head)):\n",
        "        i = i + 1\n",
        "        node = node.next\n",
        "\n",
        "    return(node == head)\n",
        "\n",
        "\n",
        "#test\n",
        "\n",
        "if __name__ == '__main__':\n",
        "    llist = LinkedList()\n",
        "    llist.head = Node(1)\n",
        "    second = Node(2)\n",
        "    third = Node(3)\n",
        "    fourth = Node(4)\n",
        "\n",
        "    llist.head.next = second\n",
        "    second.next = third\n",
        "    third.next = fourth\n",
        "\n",
        "    if (Circular(llist.head)):\n",
        "        print('Yes')\n",
        "    else:\n",
        "        print('No')\n",
        "\n",
        "    fourth.next = llist.head\n",
        "\n",
        "    if (Circular(llist.head)):\n",
        "        print('Yes')\n",
        "    else:\n",
        "        print('No')\n",
        ""
      ],
      "metadata": {
        "colab": {
          "base_uri": "https://localhost:8080/"
        },
        "id": "PMLoh9TlwWOr",
        "outputId": "109751d0-ab93-420b-d545-1480b01a5dde"
      },
      "execution_count": 25,
      "outputs": [
        {
          "output_type": "stream",
          "name": "stdout",
          "text": [
            "No\n",
            "Yes\n"
          ]
        }
      ]
    },
    {
      "cell_type": "code",
      "source": [],
      "metadata": {
        "id": "9296sZ40wYMQ"
      },
      "execution_count": null,
      "outputs": []
    }
  ]
}
{
  "nbformat": 4,
  "nbformat_minor": 0,
  "metadata": {
    "colab": {
      "provenance": []
    },
    "kernelspec": {
      "name": "python3",
      "display_name": "Python 3"
    },
    "language_info": {
      "name": "python"
    }
  },
  "cells": [
    {
      "cell_type": "code",
      "execution_count": null,
      "metadata": {
        "id": "lZwvR7oQw1Tf"
      },
      "outputs": [],
      "source": []
    },
    {
      "cell_type": "markdown",
      "source": [
        "#Question 1**\n",
        "\n",
        "Given two linked list of the same size, the task is to create a new linked list using those linked lists. The condition is that the greater node among both linked list will be added to the new linked list.\n",
        "\n",
        "**Examples:**\n",
        "\n",
        "Input: list1 = 5->2->3->8\n",
        "list2 = 1->7->4->5\n",
        "Output: New list = 5->7->4->8\n",
        "\n",
        "Input:list1 = 2->8->9->3\n",
        "list2 = 5->3->6->4\n",
        "Output: New list = 5->8->9->4"
      ],
      "metadata": {
        "id": "W7A17FP_w8bV"
      }
    },
    {
      "cell_type": "code",
      "source": [
        "class ListNode:\n",
        "    def __init__(self, val=0, next=None):\n",
        "        self.val = val\n",
        "        self.next = next\n",
        "\n",
        "def createNewList(list1, list2):\n",
        "    if not list1 or not list2:\n",
        "        return None\n",
        "\n",
        "    new_list = None\n",
        "    tail = None\n",
        "\n",
        "    while list1 and list2:\n",
        "        if list1.val > list2.val:\n",
        "            greater_node = list1.val\n",
        "            list1 = list1.next\n",
        "        else:\n",
        "            greater_node = list2.val\n",
        "            list2 = list2.next\n",
        "\n",
        "        if not new_list:\n",
        "            new_list = ListNode(greater_node)\n",
        "            tail = new_list\n",
        "        else:\n",
        "            tail.next = ListNode(greater_node)\n",
        "            tail = tail.next\n",
        "\n",
        "    if list1:\n",
        "        tail.next = list1\n",
        "    elif list2:\n",
        "        tail.next = list2\n",
        "\n",
        "    return new_list\n"
      ],
      "metadata": {
        "id": "J9Fkm4V-w9qJ"
      },
      "execution_count": 1,
      "outputs": []
    },
    {
      "cell_type": "code",
      "source": [
        "# Create list1\n",
        "list1 = ListNode(5)\n",
        "list1.next = ListNode(2)\n",
        "list1.next.next = ListNode(3)\n",
        "list1.next.next.next = ListNode(8)\n",
        "\n",
        "# Create list2\n",
        "list2 = ListNode(1)\n",
        "list2.next = ListNode(7)\n",
        "list2.next.next = ListNode(4)\n",
        "list2.next.next.next = ListNode(5)\n",
        "\n",
        "# Create the new list\n",
        "new_list = createNewList(list1, list2)\n",
        "\n",
        "# Verify the new list\n",
        "curr = new_list\n",
        "while curr:\n",
        "    print(curr.val, end=\" \")\n",
        "    curr = curr.next\n"
      ],
      "metadata": {
        "colab": {
          "base_uri": "https://localhost:8080/"
        },
        "id": "f8sOL3uRw_n7",
        "outputId": "830b04cc-1275-4e51-84f5-2c86cff0a26b"
      },
      "execution_count": 2,
      "outputs": [
        {
          "output_type": "stream",
          "name": "stdout",
          "text": [
            "5 2 3 8 1 7 4 5 "
          ]
        }
      ]
    },
    {
      "cell_type": "markdown",
      "source": [
        "#Question 2**\n",
        "\n",
        "Write a function that takes a list sorted in non-decreasing order and deletes any duplicate nodes from the list. The list should only be traversed once.\n",
        "\n",
        "For example if the linked list is 11->11->11->21->43->43->60 then removeDuplicates() should convert the list to 11->21->43->60.\n",
        "\n",
        "**Example 1:**\n",
        "\n",
        "Input:\n",
        "LinkedList:\n",
        "11->11->11->21->43->43->60\n",
        "Output:\n",
        "11->21->43->60\n"
      ],
      "metadata": {
        "id": "MBV2PjNfxBYY"
      }
    },
    {
      "cell_type": "code",
      "source": [
        "class ListNode:\n",
        "    def __init__(self, val=0, next=None):\n",
        "        self.val = val\n",
        "        self.next = next\n",
        "\n",
        "def removeDuplicates(head):\n",
        "    if not head:\n",
        "        return head\n",
        "\n",
        "    current = head\n",
        "    while current.next:\n",
        "        if current.val == current.next.val:\n",
        "            current.next = current.next.next\n",
        "        else:\n",
        "            current = current.next\n",
        "\n",
        "    return head\n"
      ],
      "metadata": {
        "id": "TYZSbUu2xA-r"
      },
      "execution_count": 3,
      "outputs": []
    },
    {
      "cell_type": "code",
      "source": [
        "# Create the linked list\n",
        "head = ListNode(11)\n",
        "head.next = ListNode(11)\n",
        "head.next.next = ListNode(11)\n",
        "head.next.next.next = ListNode(21)\n",
        "head.next.next.next.next = ListNode(43)\n",
        "head.next.next.next.next.next = ListNode(43)\n",
        "head.next.next.next.next.next.next = ListNode(60)\n",
        "\n",
        "# Remove duplicates from the linked list\n",
        "head = removeDuplicates(head)\n",
        "\n",
        "# Verify the modified linked list\n",
        "current = head\n",
        "while current:\n",
        "    print(current.val, end=\" \")\n",
        "    current = current.next\n"
      ],
      "metadata": {
        "colab": {
          "base_uri": "https://localhost:8080/"
        },
        "id": "NuCDymqIxK4v",
        "outputId": "2c187a00-a526-4913-9470-3de40b1f4fed"
      },
      "execution_count": 4,
      "outputs": [
        {
          "output_type": "stream",
          "name": "stdout",
          "text": [
            "11 21 43 60 "
          ]
        }
      ]
    },
    {
      "cell_type": "markdown",
      "source": [
        "#Question 3**\n",
        "\n",
        "Given a linked list of size **N**. The task is to reverse every **k** nodes (where k is an input to the function) in the linked list. If the number of nodes is not a multiple of *k* then left-out nodes, in the end, should be considered as a group and must be reversed (See Example 2 for clarification).\n",
        "\n",
        "**Example 1:**\n",
        "\n",
        "Input:\n",
        "LinkedList: 1->2->2->4->5->6->7->8\n",
        "K = 4\n",
        "Output:4 2 2 1 8 7 6 5\n",
        "Explanation:\n",
        "The first 4 elements 1,2,2,4 are reversed first\n",
        "and then the next 4 elements 5,6,7,8. Hence, the\n",
        "resultant linked list is 4->2->2->1->8->7->6->5.\n"
      ],
      "metadata": {
        "id": "p0ZA6E4pxM9L"
      }
    },
    {
      "cell_type": "code",
      "source": [
        "class ListNode:\n",
        "    def __init__(self, val=0, next=None):\n",
        "        self.val = val\n",
        "        self.next = next\n",
        "\n",
        "def reverseKNodes(head, k):\n",
        "    if not head or k == 1:\n",
        "        return head\n",
        "\n",
        "    dummy = ListNode(0)\n",
        "    dummy.next = head\n",
        "    prev = dummy\n",
        "\n",
        "    while prev:\n",
        "        start = prev.next\n",
        "        end = prev\n",
        "        for _ in range(k):\n",
        "            end = end.next\n",
        "            if not end:\n",
        "                return dummy.next\n",
        "\n",
        "        prev.next = end\n",
        "        prev = start\n",
        "\n",
        "        while start != end:\n",
        "            temp = start.next\n",
        "            start.next = end.next\n",
        "            end.next = start\n",
        "            start = temp\n",
        "\n",
        "    return dummy.next\n"
      ],
      "metadata": {
        "id": "qiHM0CFTxMh4"
      },
      "execution_count": 5,
      "outputs": []
    },
    {
      "cell_type": "code",
      "source": [
        "# Create the linked list\n",
        "head = ListNode(1)\n",
        "head.next = ListNode(2)\n",
        "head.next.next = ListNode(2)\n",
        "head.next.next.next = ListNode(4)\n",
        "head.next.next.next.next = ListNode(5)\n",
        "head.next.next.next.next.next = ListNode(6)\n",
        "head.next.next.next.next.next.next = ListNode(7)\n",
        "head.next.next.next.next.next.next.next = ListNode(8)\n",
        "\n",
        "# Reverse every k nodes in the linked list\n",
        "k = 4\n",
        "head = reverseKNodes(head, k)\n",
        "\n",
        "# Verify the modified linked list\n",
        "current = head\n",
        "while current:\n",
        "    print(current.val, end=\" \")\n",
        "    current = current.next\n"
      ],
      "metadata": {
        "colab": {
          "base_uri": "https://localhost:8080/"
        },
        "id": "VIrWDCpgxUr_",
        "outputId": "225914e1-5f3a-4c01-f6c3-f53c6ff7eb45"
      },
      "execution_count": 6,
      "outputs": [
        {
          "output_type": "stream",
          "name": "stdout",
          "text": [
            "4 2 2 1 8 7 6 5 "
          ]
        }
      ]
    },
    {
      "cell_type": "code",
      "source": [],
      "metadata": {
        "id": "ygQMu4BQxZ95"
      },
      "execution_count": null,
      "outputs": []
    },
    {
      "cell_type": "markdown",
      "source": [
        "#Question 4**\n",
        "\n",
        "Given a linked list, write a function to reverse every alternate k nodes (where k is an input to the function) in an efficient way. Give the complexity of your algorithm.\n",
        "\n",
        "**Example:**\n",
        "\n",
        "Inputs:   1->2->3->4->5->6->7->8->9->NULL and k = 3\n",
        "Output:   3->2->1->4->5->6->9->8->7->NULL."
      ],
      "metadata": {
        "id": "8q7nhu9yxeww"
      }
    },
    {
      "cell_type": "code",
      "source": [
        "class ListNode:\n",
        "    def __init__(self, val=0, next=None):\n",
        "        self.val = val\n",
        "        self.next = next\n",
        "\n",
        "def reverseAlternateKNodes(head, k):\n",
        "    if not head or k <= 1:\n",
        "        return head\n",
        "\n",
        "    dummy = ListNode(0)\n",
        "    dummy.next = head\n",
        "    prev = dummy\n",
        "    current = head\n",
        "    is_reversed = False\n",
        "\n",
        "    while current:\n",
        "        count = 0\n",
        "        group_head = current\n",
        "        group_prev = prev\n",
        "\n",
        "        while current and count < k:\n",
        "            current = current.next\n",
        "            count += 1\n",
        "\n",
        "        if is_reversed:\n",
        "            group_prev.next = reverseList(group_head, count)\n",
        "        else:\n",
        "            group_prev.next = group_head\n",
        "\n",
        "        while group_head.next:\n",
        "            group_head = group_head.next\n",
        "\n",
        "        group_head.next = current\n",
        "        prev = group_head\n",
        "        is_reversed = not is_reversed\n",
        "\n",
        "    return dummy.next\n",
        "\n",
        "\n",
        "def reverseList(head, count):\n",
        "    prev = None\n",
        "    current = head\n",
        "\n",
        "    while count > 0:\n",
        "        next_node = current.next\n",
        "        current.next = prev\n",
        "        prev = current\n",
        "        current = next_node\n",
        "        count -= 1\n",
        "\n",
        "    return prev\n"
      ],
      "metadata": {
        "id": "HnDjWWKbxWaN"
      },
      "execution_count": 13,
      "outputs": []
    },
    {
      "cell_type": "code",
      "source": [
        "# Create the linked list\n",
        "head = ListNode(1)\n",
        "head.next = ListNode(2)\n",
        "head.next.next = ListNode(3)\n",
        "head.next.next.next = ListNode(4)\n",
        "head.next.next.next.next = ListNode(5)\n",
        "head.next.next.next.next.next = ListNode(6)\n",
        "head.next.next.next.next.next.next = ListNode(7)\n",
        "head.next.next.next.next.next.next.next = ListNode(8)\n",
        "head.next.next.next.next.next.next.next.next = ListNode(9)\n",
        "\n",
        "# Reverse every alternate k nodes in the linked list\n",
        "k = 3\n",
        "head = reverseAlternateKNodes(head, k)\n",
        "\n",
        "# Verify the modified linked list\n",
        "current = head\n",
        "while current:\n",
        "    print(current.val, end=\" \")\n",
        "    current = current.next\n"
      ],
      "metadata": {
        "colab": {
          "base_uri": "https://localhost:8080/",
          "height": 356
        },
        "id": "z8qVjK6wxiL-",
        "outputId": "b8926ea8-7e27-404d-9622-1da9b7fadc70"
      },
      "execution_count": 14,
      "outputs": [
        {
          "output_type": "error",
          "ename": "KeyboardInterrupt",
          "evalue": "ignored",
          "traceback": [
            "\u001b[0;31m---------------------------------------------------------------------------\u001b[0m",
            "\u001b[0;31mKeyboardInterrupt\u001b[0m                         Traceback (most recent call last)",
            "\u001b[0;32m<ipython-input-14-fb58b6f2d439>\u001b[0m in \u001b[0;36m<cell line: 14>\u001b[0;34m()\u001b[0m\n\u001b[1;32m     12\u001b[0m \u001b[0;31m# Reverse every alternate k nodes in the linked list\u001b[0m\u001b[0;34m\u001b[0m\u001b[0;34m\u001b[0m\u001b[0m\n\u001b[1;32m     13\u001b[0m \u001b[0mk\u001b[0m \u001b[0;34m=\u001b[0m \u001b[0;36m3\u001b[0m\u001b[0;34m\u001b[0m\u001b[0;34m\u001b[0m\u001b[0m\n\u001b[0;32m---> 14\u001b[0;31m \u001b[0mhead\u001b[0m \u001b[0;34m=\u001b[0m \u001b[0mreverseAlternateKNodes\u001b[0m\u001b[0;34m(\u001b[0m\u001b[0mhead\u001b[0m\u001b[0;34m,\u001b[0m \u001b[0mk\u001b[0m\u001b[0;34m)\u001b[0m\u001b[0;34m\u001b[0m\u001b[0;34m\u001b[0m\u001b[0m\n\u001b[0m\u001b[1;32m     15\u001b[0m \u001b[0;34m\u001b[0m\u001b[0m\n\u001b[1;32m     16\u001b[0m \u001b[0;31m# Verify the modified linked list\u001b[0m\u001b[0;34m\u001b[0m\u001b[0;34m\u001b[0m\u001b[0m\n",
            "\u001b[0;32m<ipython-input-13-e210bd14aad4>\u001b[0m in \u001b[0;36mreverseAlternateKNodes\u001b[0;34m(head, k)\u001b[0m\n\u001b[1;32m     28\u001b[0m             \u001b[0mgroup_prev\u001b[0m\u001b[0;34m.\u001b[0m\u001b[0mnext\u001b[0m \u001b[0;34m=\u001b[0m \u001b[0mgroup_head\u001b[0m\u001b[0;34m\u001b[0m\u001b[0;34m\u001b[0m\u001b[0m\n\u001b[1;32m     29\u001b[0m \u001b[0;34m\u001b[0m\u001b[0m\n\u001b[0;32m---> 30\u001b[0;31m         \u001b[0;32mwhile\u001b[0m \u001b[0mgroup_head\u001b[0m\u001b[0;34m.\u001b[0m\u001b[0mnext\u001b[0m\u001b[0;34m:\u001b[0m\u001b[0;34m\u001b[0m\u001b[0;34m\u001b[0m\u001b[0m\n\u001b[0m\u001b[1;32m     31\u001b[0m             \u001b[0mgroup_head\u001b[0m \u001b[0;34m=\u001b[0m \u001b[0mgroup_head\u001b[0m\u001b[0;34m.\u001b[0m\u001b[0mnext\u001b[0m\u001b[0;34m\u001b[0m\u001b[0;34m\u001b[0m\u001b[0m\n\u001b[1;32m     32\u001b[0m \u001b[0;34m\u001b[0m\u001b[0m\n",
            "\u001b[0;31mKeyboardInterrupt\u001b[0m: "
          ]
        }
      ]
    },
    {
      "cell_type": "markdown",
      "source": [
        "#Question 5**\n",
        "\n",
        "Given a linked list and a key to be deleted. Delete last occurrence of key from linked. The list may have duplicates.\n",
        "\n",
        "**Examples**:\n",
        "\n",
        "</aside><aside>\n",
        "💡 **Question 5**\n",
        "\n",
        "Given a linked list and a key to be deleted. Delete last occurrence of key from linked. The list may have duplicates.\n",
        "\n",
        "**Examples**:\n",
        "\n",
        "Input:   1->2->3->5->2->10, key = 2\n",
        "Output:  1->2->3->5->10"
      ],
      "metadata": {
        "id": "7puA-RTzyWGB"
      }
    },
    {
      "cell_type": "code",
      "source": [
        "class ListNode:\n",
        "    def __init__(self, val=0, next=None):\n",
        "        self.val = val\n",
        "        self.next = next\n",
        "\n",
        "def deleteLastOccurrence(head, key):\n",
        "    # Edge case: Empty list\n",
        "    if not head:\n",
        "        return None\n",
        "\n",
        "    # Initialize variables\n",
        "    last_occurrence = None\n",
        "    prev_last_occurrence = None\n",
        "    current = head\n",
        "    prev = None\n",
        "\n",
        "    # Traverse the linked list\n",
        "    while current:\n",
        "        if current.val == key:\n",
        "            last_occurrence = current\n",
        "            prev_last_occurrence = prev\n",
        "\n",
        "        prev = current\n",
        "        current = current.next\n",
        "\n",
        "    # If last occurrence found, delete the node\n",
        "    if last_occurrence:\n",
        "        if prev_last_occurrence:\n",
        "            prev_last_occurrence.next = last_occurrence.next\n",
        "        else:\n",
        "            head = last_occurrence.next\n",
        "\n",
        "    return head\n",
        "# Create the linked list\n",
        "head = ListNode(1)\n",
        "head.next = ListNode(2)\n",
        "head.next.next = ListNode(3)\n",
        "head.next.next.next = ListNode(5)\n",
        "head.next.next.next.next = ListNode(2)\n",
        "head.next.next.next.next.next = ListNode(10)\n",
        "\n",
        "# Delete last occurrence of key from the linked list\n",
        "key = 2\n",
        "head = deleteLastOccurrence(head, key)\n",
        "\n",
        "# Verify the modified linked list\n",
        "current = head\n",
        "while current:\n",
        "    print(current.val, end=\" \")\n",
        "    current = current.next\n"
      ],
      "metadata": {
        "colab": {
          "base_uri": "https://localhost:8080/"
        },
        "id": "ecwbJeoyyWpj",
        "outputId": "7ab0a89f-5a5b-4152-c78b-e6b8d4f8cb1d"
      },
      "execution_count": 15,
      "outputs": [
        {
          "output_type": "stream",
          "name": "stdout",
          "text": [
            "1 2 3 5 10 "
          ]
        }
      ]
    },
    {
      "cell_type": "markdown",
      "source": [
        "#Question 6**\n",
        "\n",
        "Given two sorted linked lists consisting of **N** and **M** nodes respectively. The task is to merge both of the lists (in place) and return the head of the merged list.\n",
        "\n",
        "**Examples:**\n",
        "\n",
        "Input: a: 5->10->15, b: 2->3->20\n",
        "\n",
        "Output: 2->3->5->10->15->20\n",
        "\n",
        "Input: a: 1->1, b: 2->4\n",
        "\n",
        "Output: 1->1->2->4\n",
        "\n",
        "</aside>"
      ],
      "metadata": {
        "id": "4vH1BZMyyigD"
      }
    },
    {
      "cell_type": "code",
      "source": [
        "class ListNode:\n",
        "    def __init__(self, val=0, next=None):\n",
        "        self.val = val\n",
        "        self.next = next\n",
        "\n",
        "def mergeTwoLists(a, b):\n",
        "    # Edge case: Empty lists\n",
        "    if not a:\n",
        "        return b\n",
        "    if not b:\n",
        "        return a\n",
        "\n",
        "    # Initialize the merged list with a dummy node\n",
        "    dummy = ListNode(0)\n",
        "    current = dummy\n",
        "\n",
        "    # Merge the two lists\n",
        "    while a and b:\n",
        "        if a.val <= b.val:\n",
        "            current.next = a\n",
        "            a = a.next\n",
        "        else:\n",
        "            current.next = b\n",
        "            b = b.next\n",
        "        current = current.next\n",
        "\n",
        "    # Append any remaining nodes from list a or b\n",
        "    if a:\n",
        "        current.next = a\n",
        "    if b:\n",
        "        current.next = b\n",
        "\n",
        "    return dummy.next\n"
      ],
      "metadata": {
        "id": "bMzpTrWYxj8t"
      },
      "execution_count": 16,
      "outputs": []
    },
    {
      "cell_type": "code",
      "source": [
        "# Create the first linked list\n",
        "a = ListNode(5)\n",
        "a.next = ListNode(10)\n",
        "a.next.next = ListNode(15)\n",
        "\n",
        "# Create the second linked list\n",
        "b = ListNode(2)\n",
        "b.next = ListNode(3)\n",
        "b.next.next = ListNode(20)\n",
        "\n",
        "# Merge the two lists\n",
        "merged = mergeTwoLists(a, b)\n",
        "\n",
        "# Verify the merged list\n",
        "current = merged\n",
        "while current:\n",
        "    print(current.val, end=\" \")\n",
        "    current = current.next\n"
      ],
      "metadata": {
        "colab": {
          "base_uri": "https://localhost:8080/"
        },
        "id": "CSSWwsztyocw",
        "outputId": "1d6496a3-ea69-4077-949b-9baa96a7e35c"
      },
      "execution_count": 17,
      "outputs": [
        {
          "output_type": "stream",
          "name": "stdout",
          "text": [
            "2 3 5 10 15 20 "
          ]
        }
      ]
    },
    {
      "cell_type": "markdown",
      "source": [
        "#Question 7**\n",
        "\n",
        "Given a **Doubly Linked List**, the task is to reverse the given Doubly Linked List.\n",
        "\n",
        "**Example:**Original Linked list 10 8 4 2\n",
        "Reversed Linked list 2 4 8 10\n",
        "</aside>"
      ],
      "metadata": {
        "id": "koyjEbCGytaC"
      }
    },
    {
      "cell_type": "code",
      "source": [
        "class ListNode:\n",
        "    def __init__(self, val=0, prev=None, next=None):\n",
        "        self.val = val\n",
        "        self.prev = prev\n",
        "        self.next = next\n",
        "\n",
        "def reverseLinkedList(head):\n",
        "    # Edge case: Empty list or single node\n",
        "    if not head or not head.next:\n",
        "        return head\n",
        "\n",
        "    # Initialize pointers\n",
        "    current = head\n",
        "    prev = None\n",
        "\n",
        "    # Traverse the list and update pointers\n",
        "    while current:\n",
        "        # Update next pointer\n",
        "        next_node = current.next\n",
        "        current.next = prev\n",
        "\n",
        "        # Update prev pointer\n",
        "        current.prev = next_node\n",
        "\n",
        "        # Move to the next node\n",
        "        prev = current\n",
        "        current = next_node\n",
        "\n",
        "    # Update the new head\n",
        "    new_head = prev\n",
        "\n",
        "    return new_head\n"
      ],
      "metadata": {
        "id": "MJ_WEyU3yqXe"
      },
      "execution_count": 24,
      "outputs": []
    },
    {
      "cell_type": "code",
      "source": [
        "# Create the original doubly linked list\n",
        "head = ListNode(10)\n",
        "node1 = ListNode(8)\n",
        "node2 = ListNode(4)\n",
        "node3 = ListNode(2)\n",
        "\n",
        "head.next = node1\n",
        "node1.prev = head\n",
        "node1.next = node2\n",
        "node2.prev = node1\n",
        "node2.next = node3\n",
        "node3.prev = node2\n",
        "\n",
        "# Reverse the doubly linked list\n",
        "reversed_head = reverseLinkedList(head)\n",
        "\n",
        "# Verify the reversed list\n",
        "current = reversed_head\n",
        "while current:\n",
        "    print(current.val, end=\" \")\n",
        "    current = current.next\n"
      ],
      "metadata": {
        "colab": {
          "base_uri": "https://localhost:8080/"
        },
        "id": "NajNEkAWy4Ir",
        "outputId": "16355728-bc54-417c-eafc-e66850756cf0"
      },
      "execution_count": 25,
      "outputs": [
        {
          "output_type": "stream",
          "name": "stdout",
          "text": [
            "2 4 8 10 "
          ]
        }
      ]
    },
    {
      "cell_type": "markdown",
      "source": [
        "#Question 8**\n",
        "\n",
        "Given a doubly linked list and a position. The task is to delete a node from given position in a doubly linked list.\n",
        "\n",
        "**Example 1:**\n",
        "\n",
        "Input:\n",
        "LinkedList = 1 <--> 3 <--> 4\n",
        "x = 3\n",
        "Output:1 3\n",
        "Explanation:After deleting the node at\n",
        "position 3 (position starts from 1),\n",
        "the linked list will be now as 1->3."
      ],
      "metadata": {
        "id": "psYysq190Fek"
      }
    },
    {
      "cell_type": "code",
      "source": [
        "class ListNode:\n",
        "    def __init__(self, val=0, prev=None, next=None):\n",
        "        self.val = val\n",
        "        self.prev = prev\n",
        "        self.next = next\n",
        "\n",
        "def deleteNode(head, position):\n",
        "    # Edge case: Empty list\n",
        "    if not head:\n",
        "        return None\n",
        "\n",
        "    # Edge case: Deleting the head node\n",
        "    if position == 1:\n",
        "        head = head.next\n",
        "        if head:\n",
        "            head.prev = None\n",
        "        return head\n",
        "\n",
        "    # Traverse to the node at the given position\n",
        "    current = head\n",
        "    for _ in range(position - 1):\n",
        "        if not current:\n",
        "            return head\n",
        "        current = current.next\n",
        "\n",
        "    # Edge case: Deleting the tail node\n",
        "    if not current.next:\n",
        "        current.prev.next = None\n",
        "        return head\n",
        "\n",
        "    # Update pointers to delete the node\n",
        "    current.prev.next = current.next\n",
        "    current.next.prev = current.prev\n",
        "\n",
        "    return head\n"
      ],
      "metadata": {
        "id": "5ur_18E8y5gV"
      },
      "execution_count": 26,
      "outputs": []
    },
    {
      "cell_type": "code",
      "source": [
        "# Create the original doubly linked list\n",
        "head = ListNode(1)\n",
        "node1 = ListNode(3)\n",
        "node2 = ListNode(4)\n",
        "\n",
        "head.next = node1\n",
        "node1.prev = head\n",
        "node1.next = node2\n",
        "node2.prev = node1\n",
        "\n",
        "# Delete a node from a specific position\n",
        "position = 3\n",
        "head = deleteNode(head, position)\n",
        "\n",
        "# Verify the modified list\n",
        "current = head\n",
        "while current:\n",
        "    print(current.val, end=\" \")\n",
        "    current = current.next\n"
      ],
      "metadata": {
        "colab": {
          "base_uri": "https://localhost:8080/"
        },
        "id": "BlWvJN9w0Spk",
        "outputId": "341a16dd-3fa2-4582-90e6-e09d8d9a7b09"
      },
      "execution_count": 27,
      "outputs": [
        {
          "output_type": "stream",
          "name": "stdout",
          "text": [
            "1 3 "
          ]
        }
      ]
    },
    {
      "cell_type": "code",
      "source": [],
      "metadata": {
        "id": "1Yw-1P1b0T8n"
      },
      "execution_count": null,
      "outputs": []
    }
  ]
}
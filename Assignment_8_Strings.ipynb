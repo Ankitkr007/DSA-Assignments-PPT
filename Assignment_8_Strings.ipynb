{
  "nbformat": 4,
  "nbformat_minor": 0,
  "metadata": {
    "colab": {
      "provenance": []
    },
    "kernelspec": {
      "name": "python3",
      "display_name": "Python 3"
    },
    "language_info": {
      "name": "python"
    }
  },
  "cells": [
    {
      "cell_type": "code",
      "execution_count": null,
      "metadata": {
        "id": "uHU2UxdoVJm-"
      },
      "outputs": [],
      "source": []
    },
    {
      "cell_type": "markdown",
      "source": [
        "#Question 1\n",
        "\n",
        "Given two strings s1 and s2, return *the lowest **ASCII** sum of deleted characters to make two strings equal*.\n",
        "\n",
        "**Example 1:**\n",
        "\n",
        "**Input:** s1 = \"sea\", s2 = \"eat\"\n",
        "\n",
        "**Output:** 231\n",
        "\n",
        "**Explanation:** Deleting \"s\" from \"sea\" adds the ASCII value of \"s\" (115) to the sum.\n",
        "\n",
        "Deleting \"t\" from \"eat\" adds 116 to the sum.\n",
        "\n",
        "At the end, both strings are equal, and 115 + 116 = 231 is the minimum sum possible to achieve this.\n"
      ],
      "metadata": {
        "id": "wOMBHYHzVZMy"
      }
    },
    {
      "cell_type": "code",
      "source": [
        "def minimumDeleteSum(s1, s2):\n",
        "    m, n = len(s1), len(s2)\n",
        "    dp = [[0] * (n + 1) for _ in range(m + 1)]\n",
        "\n",
        "    # Initialize the first row and first column\n",
        "    for i in range(1, m + 1):\n",
        "        dp[i][0] = dp[i - 1][0] + ord(s1[i - 1])\n",
        "    for j in range(1, n + 1):\n",
        "        dp[0][j] = dp[0][j - 1] + ord(s2[j - 1])\n",
        "\n",
        "    # Fill the dp array\n",
        "    for i in range(1, m + 1):\n",
        "        for j in range(1, n + 1):\n",
        "            if s1[i - 1] == s2[j - 1]:\n",
        "                dp[i][j] = dp[i - 1][j - 1]\n",
        "            else:\n",
        "                dp[i][j] = min(dp[i - 1][j] + ord(s1[i - 1]), dp[i][j - 1] + ord(s2[j - 1]), dp[i - 1][j - 1] + ord(s1[i - 1]) + ord(s2[j - 1]))\n",
        "\n",
        "    return dp[m][n]\n"
      ],
      "metadata": {
        "id": "AlGVX5kwVgme"
      },
      "execution_count": null,
      "outputs": []
    },
    {
      "cell_type": "code",
      "source": [
        "s1 = \"sea\"\n",
        "s2 = \"eat\"\n",
        "print(minimumDeleteSum(s1, s2))\n"
      ],
      "metadata": {
        "colab": {
          "base_uri": "https://localhost:8080/"
        },
        "id": "c0xk_yYkWhpp",
        "outputId": "8d0feeef-2d3b-465e-e4ed-aa280280f9d7"
      },
      "execution_count": null,
      "outputs": [
        {
          "output_type": "stream",
          "name": "stdout",
          "text": [
            "231\n"
          ]
        }
      ]
    },
    {
      "cell_type": "code",
      "source": [],
      "metadata": {
        "id": "PlL8_0b2Wnv4"
      },
      "execution_count": null,
      "outputs": []
    },
    {
      "cell_type": "markdown",
      "source": [
        "#Question 2\n",
        "\n",
        "Given a string s containing only three types of characters: '(', ')' and '*', return true *if* s *is **valid***.\n",
        "\n",
        "The following rules define a **valid** string:\n",
        "\n",
        "- Any left parenthesis '(' must have a corresponding right parenthesis ')'.\n",
        "- Any right parenthesis ')' must have a corresponding left parenthesis '('.\n",
        "- Left parenthesis '(' must go before the corresponding right parenthesis ')'.\n",
        "- '*' could be treated as a single right parenthesis ')' or a single left parenthesis '(' or an empty string \"\".\n",
        "\n",
        "**Example 1:**\n",
        "\n",
        "**Input:** s = \"()\"\n",
        "\n",
        "**Output:**\n",
        "\n",
        "true\n",
        "\n",
        "</aside>"
      ],
      "metadata": {
        "id": "OoS89XoCWsdh"
      }
    },
    {
      "cell_type": "code",
      "source": [
        "def checkValidString(s):\n",
        "    openStack = []\n",
        "    asteriskStack = []\n",
        "\n",
        "    for i, c in enumerate(s):\n",
        "        if c == '(':\n",
        "            openStack.append(i)\n",
        "        elif c == '*':\n",
        "            asteriskStack.append(i)\n",
        "        elif c == ')':\n",
        "            if openStack:\n",
        "                openStack.pop()\n",
        "            elif asteriskStack:\n",
        "                asteriskStack.pop()\n",
        "            else:\n",
        "                return False\n",
        "\n",
        "    while openStack and asteriskStack:\n",
        "        if openStack[-1] > asteriskStack[-1]:\n",
        "            return False\n",
        "        openStack.pop()\n",
        "        asteriskStack.pop()\n",
        "\n",
        "    return len(openStack) == 0\n"
      ],
      "metadata": {
        "id": "yDrilOnmWvSQ"
      },
      "execution_count": null,
      "outputs": []
    },
    {
      "cell_type": "code",
      "source": [
        "s = \"()\"\n",
        "print(checkValidString(s))\n"
      ],
      "metadata": {
        "colab": {
          "base_uri": "https://localhost:8080/"
        },
        "id": "VSgx5-lNW3m0",
        "outputId": "0b36b081-c2d0-4c90-8265-59a930f5dffa"
      },
      "execution_count": null,
      "outputs": [
        {
          "output_type": "stream",
          "name": "stdout",
          "text": [
            "True\n"
          ]
        }
      ]
    },
    {
      "cell_type": "code",
      "source": [],
      "metadata": {
        "id": "Dp-QqghtW559"
      },
      "execution_count": null,
      "outputs": []
    },
    {
      "cell_type": "markdown",
      "source": [
        "#Question 3\n",
        "\n",
        "Given two strings word1 and word2, return *the minimum number of **steps** required to make* word1 *and* word2 *the same*.\n",
        "\n",
        "In one **step**, you can delete exactly one character in either string.\n",
        "\n",
        "**Example 1:**\n",
        "\n",
        "**Input:** word1 = \"sea\", word2 = \"eat\"\n",
        "\n",
        "**Output:** 2\n",
        "\n",
        "**Explanation:** You need one step to make \"sea\" to \"ea\" and another step to make \"eat\" to \"ea\".\n",
        "\n",
        "</aside>"
      ],
      "metadata": {
        "id": "dJNtaPqnW72H"
      }
    },
    {
      "cell_type": "code",
      "source": [
        "def minDistance(word1, word2):\n",
        "    m, n = len(word1), len(word2)\n",
        "    dp = [[0] * (n + 1) for _ in range(m + 1)]\n",
        "\n",
        "    for i in range(1, m + 1):\n",
        "        for j in range(1, n + 1):\n",
        "            if word1[i - 1] == word2[j - 1]:\n",
        "                dp[i][j] = dp[i - 1][j - 1] + 1\n",
        "            else:\n",
        "                dp[i][j] = max(dp[i - 1][j], dp[i][j - 1])\n",
        "\n",
        "    return (m + n) - (2 * dp[m][n])\n"
      ],
      "metadata": {
        "id": "6ZmRVV9jXG_J"
      },
      "execution_count": null,
      "outputs": []
    },
    {
      "cell_type": "code",
      "source": [
        "word1 = \"sea\"\n",
        "word2 = \"eat\"\n",
        "print(minDistance(word1, word2))\n"
      ],
      "metadata": {
        "colab": {
          "base_uri": "https://localhost:8080/"
        },
        "id": "F8RliE1aXN-W",
        "outputId": "90847609-05f2-4bfe-cd4c-94a7f2b0689b"
      },
      "execution_count": null,
      "outputs": [
        {
          "output_type": "stream",
          "name": "stdout",
          "text": [
            "2\n"
          ]
        }
      ]
    },
    {
      "cell_type": "code",
      "source": [],
      "metadata": {
        "id": "xrb_cD1kXjDL"
      },
      "execution_count": null,
      "outputs": []
    },
    {
      "cell_type": "markdown",
      "source": [
        "#Question 4\n",
        "\n",
        "You need to construct a binary tree from a string consisting of parenthesis and integers.\n",
        "\n",
        "The whole input represents a binary tree. It contains an integer followed by zero, one or two pairs of parenthesis. The integer represents the root's value and a pair of parenthesis contains a child binary tree with the same structure.\n",
        "You always start to construct the **left** child node of the parent first if it exists.\n",
        "\n",
        "**Input:** s = \"4(2(3)(1))(6(5))\"\n",
        "\n",
        "**Output:** [4,2,6,3,1,5]"
      ],
      "metadata": {
        "id": "yFDUbYGcXkiq"
      }
    },
    {
      "cell_type": "code",
      "source": [
        "class TreeNode:\n",
        "    def __init__(self, val=0, left=None, right=None):\n",
        "        self.val = val\n",
        "        self.left = left\n",
        "        self.right = right\n",
        "\n",
        "def constructTree(s):\n",
        "    if not s:\n",
        "        return None\n",
        "\n",
        "    root_value = \"\"\n",
        "    i = 0\n",
        "    while i < len(s) and s[i] != '(':\n",
        "        root_value += s[i]\n",
        "        i += 1\n",
        "\n",
        "    root = TreeNode(int(root_value))\n",
        "\n",
        "    if i == len(s):\n",
        "        return root\n",
        "\n",
        "    left_start = i + 1\n",
        "    left_end = findMatchingClosingParenthesis(s, left_start)\n",
        "    root.left = constructTree(s[left_start:left_end])\n",
        "\n",
        "    right_start = left_end + 2\n",
        "    right_end = len(s) - 1 if s[-1] == ')' else len(s)\n",
        "    root.right = constructTree(s[right_start:right_end])\n",
        "\n",
        "    return root\n",
        "\n",
        "def findMatchingClosingParenthesis(s, opening_index):\n",
        "    stack = []\n",
        "    for i in range(opening_index, len(s)):\n",
        "        if s[i] == '(':\n",
        "            stack.append('(')\n",
        "        elif s[i] == ')':\n",
        "            if not stack:\n",
        "                return i\n",
        "            stack.pop()\n",
        "    return -1\n"
      ],
      "metadata": {
        "id": "Pje5nhw1XtA0"
      },
      "execution_count": null,
      "outputs": []
    },
    {
      "cell_type": "code",
      "source": [
        "s = \"4(2(3)(1))(6(5))\"\n",
        "tree = constructTree(s)\n"
      ],
      "metadata": {
        "id": "BtRvcTUFYbmy"
      },
      "execution_count": null,
      "outputs": []
    },
    {
      "cell_type": "code",
      "source": [
        "def inorderTraversal(node, level=0):\n",
        "    if node is None:\n",
        "        return\n",
        "\n",
        "    inorderTraversal(node.left, level + 1)\n",
        "    print(\"  \" * level + str(node.val))\n",
        "    inorderTraversal(node.right, level + 1)\n",
        "\n",
        "inorderTraversal(tree)\n",
        "\n"
      ],
      "metadata": {
        "colab": {
          "base_uri": "https://localhost:8080/"
        },
        "id": "7Sxpv2nzYf8n",
        "outputId": "3328ce49-817e-45be-8ca3-c9552246a852"
      },
      "execution_count": null,
      "outputs": [
        {
          "output_type": "stream",
          "name": "stdout",
          "text": [
            "    3\n",
            "  2\n",
            "    1\n",
            "4\n",
            "    5\n",
            "  6\n"
          ]
        }
      ]
    },
    {
      "cell_type": "markdown",
      "source": [],
      "metadata": {
        "id": "AE1bGlmiZcY6"
      }
    },
    {
      "cell_type": "code",
      "source": [],
      "metadata": {
        "id": "OvEXhc1FYrES"
      },
      "execution_count": null,
      "outputs": []
    },
    {
      "cell_type": "markdown",
      "source": [
        "#Question 5\n",
        "\n",
        "Given an array of characters chars, compress it using the following algorithm:\n",
        "\n",
        "Begin with an empty string s. For each group of **consecutive repeating characters** in chars:\n",
        "\n",
        "- If the group's length is 1, append the character to s.\n",
        "- Otherwise, append the character followed by the group's length.\n",
        "\n",
        "The compressed string s **should not be returned separately**, but instead, be stored **in the input character array chars**. Note that group lengths that are 10 or longer will be split into multiple characters in chars.\n",
        "\n",
        "After you are done **modifying the input array,** return *the new length of the array*.\n",
        "\n",
        "You must write an algorithm that uses only constant extra space.\n",
        "\n",
        "**Example 1:**\n",
        "\n",
        "**Input:** chars = [\"a\",\"a\",\"b\",\"b\",\"c\",\"c\",\"c\"]\n",
        "\n",
        "**Output:** Return 6, and the first 6 characters of the input array should be: [\"a\",\"2\",\"b\",\"2\",\"c\",\"3\"]\n",
        "\n",
        "**Explanation:**\n",
        "\n",
        "The groups are \"aa\", \"bb\", and \"ccc\". This compresses to \"a2b2c3\".\n",
        "\n",
        "</aside>"
      ],
      "metadata": {
        "id": "QlM3ySJQZ-sw"
      }
    },
    {
      "cell_type": "code",
      "source": [
        "def compress(chars):\n",
        "    write = 0\n",
        "    count = 1\n",
        "\n",
        "    for read in range(1, len(chars)):\n",
        "        if chars[read] == chars[read - 1]:\n",
        "            count += 1\n",
        "        else:\n",
        "            chars[write] = chars[read - 1]\n",
        "            write += 1\n",
        "\n",
        "            if count > 1:\n",
        "                count_str = str(count)\n",
        "                for digit in count_str:\n",
        "                    chars[write] = digit\n",
        "                    write += 1\n",
        "\n",
        "            count = 1\n",
        "\n",
        "    chars[write] = chars[-1]\n",
        "    write += 1\n",
        "\n",
        "    if count > 1:\n",
        "        count_str = str(count)\n",
        "        for digit in count_str:\n",
        "            chars[write] = digit\n",
        "            write += 1\n",
        "\n",
        "    return write\n"
      ],
      "metadata": {
        "id": "cXEJMgwzaBX6"
      },
      "execution_count": null,
      "outputs": []
    },
    {
      "cell_type": "code",
      "source": [
        "chars = [\"a\", \"a\", \"b\", \"b\", \"c\", \"c\", \"c\"]\n",
        "new_length = compress(chars)\n",
        "print(new_length)\n",
        "print(chars[:new_length])\n"
      ],
      "metadata": {
        "colab": {
          "base_uri": "https://localhost:8080/"
        },
        "id": "mDBiPH_kadoE",
        "outputId": "385b6977-ebe8-4e6c-d23e-bcce6ac48b05"
      },
      "execution_count": null,
      "outputs": [
        {
          "output_type": "stream",
          "name": "stdout",
          "text": [
            "6\n",
            "['a', '2', 'b', '2', 'c', '3']\n"
          ]
        }
      ]
    },
    {
      "cell_type": "code",
      "source": [],
      "metadata": {
        "id": "XENsCW7raf2J"
      },
      "execution_count": null,
      "outputs": []
    },
    {
      "cell_type": "markdown",
      "source": [
        "#Question 6\n",
        "\n",
        "Given two strings s and p, return *an array of all the start indices of* p*'s anagrams in* s. You may return the answer in **any order**.\n",
        "\n",
        "An **Anagram** is a word or phrase formed by rearranging the letters of a different word or phrase, typically using all the original letters exactly once.\n",
        "\n",
        "**Example 1:**\n",
        "\n",
        "**Input:** s = \"cbaebabacd\", p = \"abc\"\n",
        "\n",
        "**Output:** [0,6]\n",
        "\n",
        "**Explanation:**\n",
        "\n",
        "The substring with start index = 0 is \"cba\", which is an anagram of \"abc\".\n",
        "\n",
        "The substring with start index = 6 is \"bac\", which is an anagram of \"abc\".\n",
        "\n",
        "</aside>"
      ],
      "metadata": {
        "id": "okoRWHhlailA"
      }
    },
    {
      "cell_type": "code",
      "source": [
        "def findAnagrams(s, p):\n",
        "    result = []\n",
        "    target_freq = {}\n",
        "    window_freq = {}\n",
        "    match_count = 0\n",
        "\n",
        "    for char in p:\n",
        "        target_freq[char] = target_freq.get(char, 0) + 1\n",
        "\n",
        "    left = 0\n",
        "    right = 0\n",
        "\n",
        "    while right < len(s):\n",
        "        if s[right] in target_freq:\n",
        "            window_freq[s[right]] = window_freq.get(s[right], 0) + 1\n",
        "            if window_freq[s[right]] == target_freq[s[right]]:\n",
        "                match_count += 1\n",
        "\n",
        "        if right - left + 1 == len(p):\n",
        "            if match_count == len(target_freq):\n",
        "                result.append(left)\n",
        "\n",
        "            if s[left] in target_freq:\n",
        "                window_freq[s[left]] -= 1\n",
        "                if window_freq[s[left]] == target_freq[s[left]] - 1:\n",
        "                    match_count -= 1\n",
        "\n",
        "            left += 1\n",
        "\n",
        "        right += 1\n",
        "\n",
        "    return result\n"
      ],
      "metadata": {
        "id": "6BKRUdwIaoWl"
      },
      "execution_count": null,
      "outputs": []
    },
    {
      "cell_type": "code",
      "source": [
        "s = \"cbaebabacd\"\n",
        "p = \"abc\"\n",
        "indices = findAnagrams(s, p)\n",
        "print(indices)\n"
      ],
      "metadata": {
        "colab": {
          "base_uri": "https://localhost:8080/"
        },
        "id": "1kHT0VWYay9V",
        "outputId": "bccf3493-3d52-4898-9776-d8e4967f347b"
      },
      "execution_count": null,
      "outputs": [
        {
          "output_type": "stream",
          "name": "stdout",
          "text": [
            "[0, 6]\n"
          ]
        }
      ]
    },
    {
      "cell_type": "code",
      "source": [],
      "metadata": {
        "id": "NI9tab_ra06Y"
      },
      "execution_count": null,
      "outputs": []
    },
    {
      "cell_type": "markdown",
      "source": [
        "#Question 7\n",
        "\n",
        "Given an encoded string, return its decoded string.\n",
        "\n",
        "The encoding rule is: k[encoded_string], where the encoded_string inside the square brackets is being repeated exactly k times. Note that k is guaranteed to be a positive integer.\n",
        "\n",
        "You may assume that the input string is always valid; there are no extra white spaces, square brackets are well-formed, etc. Furthermore, you may assume that the original data does not contain any digits and that digits are only for those repeat numbers, k. For example, there will not be input like 3a or 2[4].\n",
        "\n",
        "The test cases are generated so that the length of the output will never exceed 105.\n",
        "\n",
        "**Example 1:**\n",
        "\n",
        "**Input:** s = \"3[a]2[bc]\"\n",
        "\n",
        "**Output:** \"aaabcbc\"\n",
        "\n",
        "</aside>"
      ],
      "metadata": {
        "id": "quimPQ2Ta2aF"
      }
    },
    {
      "cell_type": "code",
      "source": [
        "def decodeString(s):\n",
        "    stack = []\n",
        "    current_str = \"\"\n",
        "    count = 0\n",
        "\n",
        "    for c in s:\n",
        "        if c.isdigit():\n",
        "            count = count * 10 + int(c)\n",
        "        elif c == \"[\":\n",
        "            stack.append((current_str, count))\n",
        "            current_str = \"\"\n",
        "            count = 0\n",
        "        elif c == \"]\":\n",
        "            prev_str, prev_count = stack.pop()\n",
        "            current_str = prev_str + current_str * prev_count\n",
        "        else:\n",
        "            current_str += c\n",
        "\n",
        "    return current_str\n",
        "\n"
      ],
      "metadata": {
        "id": "GtlReopAa9bO"
      },
      "execution_count": null,
      "outputs": []
    },
    {
      "cell_type": "code",
      "source": [
        "s = \"3[a]2[bc]\"\n",
        "decoded_string = decodeString(s)\n",
        "print(decoded_string)"
      ],
      "metadata": {
        "colab": {
          "base_uri": "https://localhost:8080/"
        },
        "id": "dTfQkbFJbB1a",
        "outputId": "38e48b45-c91d-439c-c10a-328e169a5cf5"
      },
      "execution_count": null,
      "outputs": [
        {
          "output_type": "stream",
          "name": "stdout",
          "text": [
            "aaabcbc\n"
          ]
        }
      ]
    },
    {
      "cell_type": "code",
      "source": [],
      "metadata": {
        "id": "iDxOZMr4bEQR"
      },
      "execution_count": null,
      "outputs": []
    },
    {
      "cell_type": "markdown",
      "source": [
        "#Question 8\n",
        "\n",
        "Given two strings s and goal, return true *if you can swap two letters in* s *so the result is equal to* goal*, otherwise, return* false*.*\n",
        "\n",
        "Swapping letters is defined as taking two indices i and j (0-indexed) such that i != j and swapping the characters at s[i] and s[j].\n",
        "\n",
        "- For example, swapping at indices 0 and 2 in \"abcd\" results in \"cbad\".\n",
        "\n",
        "**Example 1:**\n",
        "\n",
        "**Input:** s = \"ab\", goal = \"ba\"\n",
        "\n",
        "**Output:** true\n",
        "\n",
        "**Explanation:** You can swap s[0] = 'a' and s[1] = 'b' to get \"ba\", which is equal to goal.\n",
        "\n",
        "</aside>"
      ],
      "metadata": {
        "id": "PSaicFFzdVwR"
      }
    },
    {
      "cell_type": "code",
      "source": [
        "def buddyStrings(s, goal):\n",
        "    if len(s) != len(goal):\n",
        "        return False\n",
        "\n",
        "    if s == goal:\n",
        "        # Check if there are at least two identical characters in s\n",
        "        seen = set()\n",
        "        for char in s:\n",
        "            if char in seen:\n",
        "                return True\n",
        "            seen.add(char)\n",
        "        return False\n",
        "\n",
        "    indices = []\n",
        "    for i in range(len(s)):\n",
        "        if s[i] != goal[i]:\n",
        "            indices.append(i)\n",
        "\n",
        "    return len(indices) == 2 and s[indices[0]] == goal[indices[1]] and s[indices[1]] == goal[indices[0]]\n",
        "\n"
      ],
      "metadata": {
        "id": "Q8jDKZhvdZ-6"
      },
      "execution_count": null,
      "outputs": []
    },
    {
      "cell_type": "code",
      "source": [
        "s = \"ab\"\n",
        "goal = \"ba\"\n",
        "print(buddyStrings(s, goal))\n"
      ],
      "metadata": {
        "colab": {
          "base_uri": "https://localhost:8080/"
        },
        "id": "tIl82-Jtdf0E",
        "outputId": "2cc434c0-51fc-44d0-b905-14352e2179c7"
      },
      "execution_count": null,
      "outputs": [
        {
          "output_type": "stream",
          "name": "stdout",
          "text": [
            "True\n"
          ]
        }
      ]
    },
    {
      "cell_type": "code",
      "source": [],
      "metadata": {
        "id": "eAdMAT2VdhXC"
      },
      "execution_count": null,
      "outputs": []
    }
  ]
}
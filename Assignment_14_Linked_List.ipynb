{
  "nbformat": 4,
  "nbformat_minor": 0,
  "metadata": {
    "colab": {
      "provenance": []
    },
    "kernelspec": {
      "name": "python3",
      "display_name": "Python 3"
    },
    "language_info": {
      "name": "python"
    }
  },
  "cells": [
    {
      "cell_type": "code",
      "execution_count": null,
      "metadata": {
        "id": "SB9k0TQT1FQ-"
      },
      "outputs": [],
      "source": []
    },
    {
      "cell_type": "markdown",
      "source": [
        "#Question 1\n",
        "\n",
        "Given a linked list of **N** nodes such that it may contain a loop.\n",
        "\n",
        "A loop here means that the last node of the link list is connected to the node at position X(1-based index). If the link list does not have any loop, X=0.\n",
        "\n",
        "Remove the loop from the linked list, if it is present, i.e. unlink the last node which is forming the loop.\n",
        "\n",
        "**Example 1:**\n",
        "\n",
        "```\n",
        "Input:\n",
        "N = 3\n",
        "value[] = {1,3,4}\n",
        "X = 2\n",
        "Output:1\n",
        "Explanation:The link list looks like\n",
        "1 -> 3 -> 4\n",
        "     ^    |\n",
        "     |____|\n",
        "A loop is present. If you remove it\n",
        "successfully, the answer will be 1.\n",
        "\n",
        "```\n",
        "\n",
        "**Example 2:**\n",
        "\n",
        "```\n",
        "Input:\n",
        "N = 4\n",
        "value[] = {1,8,3,4}\n",
        "X = 0\n",
        "Output:1\n",
        "Explanation:The Linked list does not\n",
        "contains any loop.\n",
        "```\n",
        "\n",
        "**Example 3:**\n",
        "Input:\n",
        "N = 4\n",
        "value[] = {1,2,3,4}\n",
        "X = 1\n",
        "Output:1\n",
        "Explanation:The link list looks like\n",
        "1 -> 2 -> 3 -> 4\n",
        "^              |\n",
        "|______________|\n",
        "A loop is present.\n",
        "If you remove it successfully,\n",
        "the answer will be 1.\n",
        "</aside>"
      ],
      "metadata": {
        "id": "NBzP9dcZ1KCm"
      }
    },
    {
      "cell_type": "code",
      "source": [
        "class ListNode:\n",
        "    def __init__(self, val):\n",
        "        self.val = val\n",
        "        self.next = None\n",
        "\n",
        "def detect_and_remove_loop(head):\n",
        "    slow = fast = head\n",
        "\n",
        "    # Detect the loop using Floyd's cycle-finding algorithm\n",
        "    while fast and fast.next:\n",
        "        slow = slow.next\n",
        "        fast = fast.next.next\n",
        "        if slow == fast:\n",
        "            break\n",
        "\n",
        "    # If no loop is found, return the original linked list\n",
        "    if slow != fast:\n",
        "        return head\n",
        "\n",
        "    # Move one pointer to the head of the linked list\n",
        "    slow = head\n",
        "\n",
        "    # Find the node where the loop starts\n",
        "    while slow.next != fast.next:\n",
        "        slow = slow.next\n",
        "        fast = fast.next\n",
        "\n",
        "    # Break the loop by setting the next pointer of the node to None\n",
        "    fast.next = None\n",
        "\n",
        "    return head\n",
        "\n",
        "# Create a linked list\n",
        "head = ListNode(1)\n",
        "node2 = ListNode(2)\n",
        "node3 = ListNode(3)\n",
        "node4 = ListNode(4)\n",
        "node5 = ListNode(5)\n",
        "\n",
        "head.next = node2\n",
        "node2.next = node3\n",
        "node3.next = node4\n",
        "node4.next = node5\n",
        "# Create a loop by connecting the last node to the second node\n",
        "node5.next = node2\n",
        "\n",
        "# Call the function to detect and remove the loop\n",
        "head = detect_and_remove_loop(head)\n",
        "\n",
        "# Print the modified linked list\n",
        "current = head\n",
        "while current:\n",
        "    print(current.val)\n",
        "    current = current.next\n"
      ],
      "metadata": {
        "colab": {
          "base_uri": "https://localhost:8080/"
        },
        "id": "kWwwcPOF1an_",
        "outputId": "dd149753-dcce-4925-a8d6-ed7cf2abc302"
      },
      "execution_count": null,
      "outputs": [
        {
          "output_type": "stream",
          "name": "stdout",
          "text": [
            "1\n",
            "2\n",
            "3\n",
            "4\n",
            "5\n"
          ]
        }
      ]
    },
    {
      "cell_type": "code",
      "source": [],
      "metadata": {
        "id": "3anZcv8D1q1m"
      },
      "execution_count": null,
      "outputs": []
    },
    {
      "cell_type": "markdown",
      "source": [
        "#Question 2\n",
        "\n",
        "A number **N** is represented in Linked List such that each digit corresponds to a node in linked list. You need to add 1 to it.\n",
        "\n",
        "**Example 1:**\n",
        "\n",
        "```\n",
        "Input:\n",
        "LinkedList: 4->5->6\n",
        "Output:457\n",
        "\n",
        "```\n",
        "\n",
        "**Example 2:**\n",
        "Input:\n",
        "LinkedList: 1->2->3\n",
        "Output:124\n",
        "</aside>"
      ],
      "metadata": {
        "id": "JOwJQZJl13rf"
      }
    },
    {
      "cell_type": "code",
      "source": [
        "class ListNode:\n",
        "    def __init__(self, val=0, next=None):\n",
        "        self.val = val\n",
        "        self.next = next\n",
        "\n",
        "\n",
        "def addOne(head):\n",
        "    dummy = ListNode(0)  # Dummy node to handle edge cases\n",
        "    dummy.next = head\n",
        "    last_not_nine = dummy  # Keeps track of the last node encountered with value less than 9\n",
        "\n",
        "    # Traverse the linked list from right to left\n",
        "    while head:\n",
        "        if head.val < 9:\n",
        "            last_not_nine = head\n",
        "        head = head.next\n",
        "\n",
        "    # Increment the value of the last_not_nine node and set subsequent nodes' values to 0\n",
        "    last_not_nine.val += 1\n",
        "    node = last_not_nine.next\n",
        "    while node:\n",
        "        node.val = 0\n",
        "        node = node.next\n",
        "\n",
        "    # If the first node has a value of 0, add a new node with value 1 at the beginning\n",
        "    if dummy.val == 0:\n",
        "        new_head = ListNode(1)\n",
        "        new_head.next = dummy.next\n",
        "        return new_head\n",
        "\n",
        "    return dummy.next\n",
        "\n",
        "\n",
        "# Create a linked list: 4->5->6\n",
        "head = ListNode(4)\n",
        "node2 = ListNode(5)\n",
        "node3 = ListNode(6)\n",
        "\n",
        "head.next = node2\n",
        "node2.next = node3\n",
        "\n",
        "# Call the function to add one to the linked list\n",
        "updated_head = addOne(head)\n",
        "\n",
        "# Print the updated linked list\n",
        "current = updated_head\n",
        "while current:\n",
        "    print(current.val, end=\"->\")\n",
        "    current = current.next\n",
        "\n"
      ],
      "metadata": {
        "colab": {
          "base_uri": "https://localhost:8080/"
        },
        "id": "1U0aWZn72BCA",
        "outputId": "3c860d80-1d47-43c8-b348-49bd73e26aa4"
      },
      "execution_count": null,
      "outputs": [
        {
          "output_type": "stream",
          "name": "stdout",
          "text": [
            "1->4->5->7->"
          ]
        }
      ]
    },
    {
      "cell_type": "code",
      "source": [],
      "metadata": {
        "id": "R0_S9sQb2JOW"
      },
      "execution_count": null,
      "outputs": []
    },
    {
      "cell_type": "markdown",
      "source": [
        "#Question 3\n",
        "\n",
        "Given a Linked List of size N, where every node represents a sub-linked-list and contains two pointers:(i) a **next** pointer to the next node,(ii) a **bottom** pointer to a linked list where this node is head.Each of the sub-linked-list is in sorted order.Flatten the Link List such that all the nodes appear in a single level while maintaining the sorted order. **Note:** The flattened list will be printed using the bottom pointer instead of next pointer.\n",
        "\n",
        "**Example 1:**\n",
        "Input:\n",
        "5 -> 10 -> 19 -> 28\n",
        "|     |     |     |\n",
        "7     20    22   35\n",
        "|           |     |\n",
        "8          50    40\n",
        "|                 |\n",
        "30               45\n",
        "Output: 5-> 7-> 8- > 10 -> 19-> 20->\n",
        "22-> 28-> 30-> 35-> 40-> 45-> 50.\n",
        "Explanation:\n",
        "The resultant linked lists has every\n",
        "node in a single level.(Note:| represents the bottom pointer.)\n",
        "\n",
        "**Example 2:**\n",
        "Input:\n",
        "5 -> 10 -> 19 -> 28\n",
        "|          |\n",
        "7          22\n",
        "|          |\n",
        "8          50\n",
        "|\n",
        "30\n",
        "Output: 5->7->8->10->19->22->28->30->50\n",
        "Explanation:\n",
        "The resultant linked lists has every\n",
        "node in a single level.\n",
        "\n",
        "(Note:| represents the bottom pointer.)\n",
        "</aside>"
      ],
      "metadata": {
        "id": "Xaj7GMpg2Sze"
      }
    },
    {
      "cell_type": "markdown",
      "source": [],
      "metadata": {
        "id": "DVe-retQ3QpF"
      }
    },
    {
      "cell_type": "code",
      "source": [
        "class ListNode:\n",
        "    def __init__(self, val=0, next=None, bottom=None):\n",
        "        self.val = val\n",
        "        self.next = next\n",
        "        self.bottom = bottom\n",
        "\n",
        "\n",
        "def mergeLists(head1, head2):\n",
        "    # Function to merge two sorted linked lists\n",
        "    dummy = ListNode()\n",
        "    last = dummy\n",
        "\n",
        "    while head1 and head2:\n",
        "        if head1.val < head2.val:\n",
        "            last.bottom = head1\n",
        "            head1 = head1.bottom\n",
        "        else:\n",
        "            last.bottom = head2\n",
        "            head2 = head2.bottom\n",
        "        last = last.bottom\n",
        "\n",
        "    if head1:\n",
        "        last.bottom = head1\n",
        "    else:\n",
        "        last.bottom = head2\n",
        "\n",
        "    return dummy.bottom\n",
        "\n",
        "\n",
        "def flattenLinkedList(head):\n",
        "    if not head or not head.next:\n",
        "        return head\n",
        "\n",
        "    # Recursively flatten the remaining linked lists\n",
        "    head.next = flattenLinkedList(head.next)\n",
        "\n",
        "    # Merge the current linked list with the flattened list\n",
        "    head = mergeLists(head, head.next)\n",
        "\n",
        "    return head\n",
        "\n",
        "\n",
        "def printLinkedList(head):\n",
        "    # Function to print the flattened linked list\n",
        "    current = head\n",
        "    while current:\n",
        "        print(current.val, end=\" \")\n",
        "        current = current.bottom\n",
        "\n",
        "\n",
        "# Create the linked list as described in the example\n",
        "head = ListNode(5)\n",
        "head.next = ListNode(10)\n",
        "head.next.next = ListNode(19)\n",
        "head.next.next.next = ListNode(28)\n",
        "\n",
        "head.bottom = ListNode(7)\n",
        "head.bottom.bottom = ListNode(8)\n",
        "head.next.bottom = ListNode(20)\n",
        "head.next.next.bottom = ListNode(22)\n",
        "head.next.next.next.bottom = ListNode(35)\n",
        "\n",
        "head.bottom.bottom.bottom = ListNode(30)\n",
        "head.next.next.bottom.bottom = ListNode(50)\n",
        "head.next.next.next.bottom = ListNode(40)\n",
        "head.next.next.next.bottom.bottom = ListNode(45)\n",
        "\n",
        "# Flatten the linked list\n",
        "flattened = flattenLinkedList(head)\n",
        "\n",
        "# Print the flattened linked list\n",
        "printLinkedList(flattened)\n"
      ],
      "metadata": {
        "colab": {
          "base_uri": "https://localhost:8080/"
        },
        "id": "R4ycqzJV2aPK",
        "outputId": "bf6b9482-7b59-47d3-be51-57dcb244bd8f"
      },
      "execution_count": null,
      "outputs": [
        {
          "output_type": "stream",
          "name": "stdout",
          "text": [
            "5 7 8 10 19 20 22 28 30 40 45 50 "
          ]
        }
      ]
    },
    {
      "cell_type": "code",
      "source": [],
      "metadata": {
        "id": "kZjc8tdy2iVE"
      },
      "execution_count": null,
      "outputs": []
    },
    {
      "cell_type": "markdown",
      "source": [
        "#Question 4\n",
        "\n",
        "You are given a special linked list with **N** nodes where each node has a next pointer pointing to its next node. You are also given **M** random pointers, where you will be given **M** number of pairs denoting two nodes **a** and **b**  **i.e. a->arb = b** (arb is pointer to random node)**.**\n",
        "\n",
        "Construct a copy of the given list. The copy should consist of exactly **N** new nodes, where each new node has its value set to the value of its corresponding original node. Both the next and random pointer of the new nodes should point to new nodes in the copied list such that the pointers in the original list and copied list represent the same list state. None of the pointers in the new list should point to nodes in the original list.\n",
        "\n",
        "For example, if there are two nodes **X** and **Y** in the original list, where **X.arb** **-->** **Y**, then for the corresponding two nodes **x** and **y** in the copied list, **x.arb --> y.**\n",
        "\n",
        "Return the head of the copied linked list.\n",
        "\n",
        "!https://contribute.geeksforgeeks.org/wp-content/uploads/clone.jpg\n",
        "\n",
        "**Note** :- The diagram isn't part of any example, it just depicts an example of how the linked list may look like.\n",
        "\n",
        "**Example 1:**\n",
        "Input:\n",
        "N = 4, M = 2\n",
        "value = {1,2,3,4}\n",
        "pairs = {{1,2},{2,4}}\n",
        "Output:1\n",
        "Explanation:In this test case, there\n",
        "are 4 nodes in linked list.  Among these\n",
        "4 nodes,  2 nodes have arbitrary pointer\n",
        "set, rest two nodes have arbitrary pointer\n",
        "as NULL. Second line tells us the value\n",
        "of four nodes. The third line gives the\n",
        "information about arbitrary pointers.\n",
        "The first node arbitrary pointer is set to\n",
        "node 2.  The second node arbitrary pointer\n",
        "is set to node 4.\n",
        "\n",
        "</aside>"
      ],
      "metadata": {
        "id": "b325fIHr3XIS"
      }
    },
    {
      "cell_type": "code",
      "source": [
        "class Node:\n",
        "    def __init__(self, data):\n",
        "        self.data = data\n",
        "        self.next = None\n",
        "        self.random = None\n",
        "\n",
        "\n",
        "def cloneLinkedList(head):\n",
        "    if not head:\n",
        "        return None\n",
        "\n",
        "    # Step 1: Create a new copy of each node and insert it next to the original node\n",
        "    current = head\n",
        "    while current:\n",
        "        new_node = Node(current.data)\n",
        "        new_node.next = current.next\n",
        "        current.next = new_node\n",
        "        current = new_node.next\n",
        "\n",
        "    # Step 2: Set the random pointers of the new nodes\n",
        "    current = head\n",
        "    while current:\n",
        "        if current.random:\n",
        "            current.next.random = current.random.next\n",
        "        current = current.next.next\n",
        "\n",
        "    # Step 3: Separate the original and copied linked lists\n",
        "    original = head\n",
        "    copied = head.next\n",
        "    copied_head = head.next\n",
        "    while original:\n",
        "        original.next = original.next.next\n",
        "        if copied.next:\n",
        "            copied.next = copied.next.next\n",
        "        original = original.next\n",
        "        copied = copied.next\n",
        "\n",
        "    # Step 4: Return the head of the copied list\n",
        "    return copied_head\n",
        "\n",
        "\n",
        "# Create the linked list as described in the example\n",
        "head = Node(1)\n",
        "head.next = Node(2)\n",
        "head.next.next = Node(3)\n",
        "head.next.next.next = Node(4)\n",
        "\n",
        "head.random = head.next\n",
        "head.next.random = head.next.next.next\n",
        "\n",
        "# Clone the linked list\n",
        "cloned_head = cloneLinkedList(head)\n",
        "\n",
        "# Print the cloned linked list\n",
        "current = cloned_head\n",
        "while current:\n",
        "    print(\"Data:\", current.data, end=\" \")\n",
        "    if current.random:\n",
        "        print(\"Random:\", current.random.data, end=\" \")\n",
        "    else:\n",
        "        print(\"Random: None\", end=\" \")\n",
        "    current = current.next\n",
        "    print()\n"
      ],
      "metadata": {
        "colab": {
          "base_uri": "https://localhost:8080/"
        },
        "id": "kER5vDpR3dqv",
        "outputId": "42892be0-9546-493b-aa8d-1b46cb91a1aa"
      },
      "execution_count": null,
      "outputs": [
        {
          "output_type": "stream",
          "name": "stdout",
          "text": [
            "Data: 1 Random: 2 \n",
            "Data: 2 Random: 4 \n",
            "Data: 3 Random: None \n",
            "Data: 4 Random: None \n"
          ]
        }
      ]
    },
    {
      "cell_type": "code",
      "source": [],
      "metadata": {
        "id": "2FMCQHHT3ld-"
      },
      "execution_count": null,
      "outputs": []
    },
    {
      "cell_type": "markdown",
      "source": [
        "#Question 5\n",
        "\n",
        "Given the `head` of a singly linked list, group all the nodes with odd indices together followed by the nodes with even indices, and return *the reordered list*.\n",
        "\n",
        "The **first** node is considered **odd**, and the **second** node is **even**, and so on.\n",
        "\n",
        "Note that the relative order inside both the even and odd groups should remain as it was in the input.\n",
        "\n",
        "You must solve the problem in `O(1)` extra space complexity and `O(n)` time complexity.\n",
        "\n",
        "**Example 1:**\n",
        "\n",
        "!https://assets.leetcode.com/uploads/2021/03/10/oddeven-linked-list.jpg\n",
        "\n",
        "```\n",
        "Input: head = [1,2,3,4,5]\n",
        "Output: [1,3,5,2,4]\n",
        "\n",
        "```\n",
        "\n",
        "**Example 2:**\n",
        "Input: head = [2,1,3,5,6,4,7]\n",
        "Output: [2,3,6,7,1,5,4]\n",
        "</aside>"
      ],
      "metadata": {
        "id": "PCjS0Wwl3sRI"
      }
    },
    {
      "cell_type": "code",
      "source": [
        "class ListNode:\n",
        "    def __init__(self, val=0, next=None):\n",
        "        self.val = val\n",
        "        self.next = next\n",
        "\n",
        "\n",
        "def oddEvenList(head):\n",
        "    if not head or not head.next:\n",
        "        return head\n",
        "\n",
        "    oddHead = head\n",
        "    evenHead = head.next\n",
        "    odd = oddHead\n",
        "    even = evenHead\n",
        "\n",
        "    while even and even.next:\n",
        "        odd.next = even.next\n",
        "        odd = odd.next\n",
        "        even.next = odd.next\n",
        "        even = even.next\n",
        "\n",
        "    odd.next = evenHead\n",
        "\n",
        "    return oddHead\n",
        "\n",
        "\n",
        "# Create the linked list as described in the example\n",
        "head = ListNode(1)\n",
        "head.next = ListNode(2)\n",
        "head.next.next = ListNode(3)\n",
        "head.next.next.next = ListNode(4)\n",
        "head.next.next.next.next = ListNode(5)\n",
        "\n",
        "# Reorder the linked list\n",
        "reordered_head = oddEvenList(head)\n",
        "\n",
        "# Print the reordered linked list\n",
        "current = reordered_head\n",
        "while current:\n",
        "    print(current.val, end=\" \")\n",
        "    current = current.next\n"
      ],
      "metadata": {
        "colab": {
          "base_uri": "https://localhost:8080/"
        },
        "id": "T0zmyoNx3zZx",
        "outputId": "87672847-630b-49d9-9044-6495875f1028"
      },
      "execution_count": null,
      "outputs": [
        {
          "output_type": "stream",
          "name": "stdout",
          "text": [
            "1 3 5 2 4 "
          ]
        }
      ]
    },
    {
      "cell_type": "code",
      "source": [],
      "metadata": {
        "id": "w9efH0qU35XB"
      },
      "execution_count": null,
      "outputs": []
    },
    {
      "cell_type": "markdown",
      "source": [
        "#Question 6\n",
        "\n",
        "Given a singly linked list of size **N**. The task is to **left-shift** the linked list by **k** nodes, where **k** is a given positive integer smaller than or equal to length of the linked list.\n",
        "\n",
        "**Example 1:**\n",
        "\n",
        "```\n",
        "Input:\n",
        "N = 5\n",
        "value[] = {2, 4, 7, 8, 9}\n",
        "k = 3\n",
        "Output:8 9 2 4 7\n",
        "Explanation:Rotate 1:4 -> 7 -> 8 -> 9 -> 2\n",
        "Rotate 2: 7 -> 8 -> 9 -> 2 -> 4\n",
        "Rotate 3: 8 -> 9 -> 2 -> 4 -> 7\n",
        "\n",
        "```\n",
        "\n",
        "**Example 2:**\n",
        "Input:\n",
        "N = 8\n",
        "value[] = {1, 2, 3, 4, 5, 6, 7, 8}\n",
        "k = 4\n",
        "Output:5 6 7 8 1 2 3 4\n",
        "</aside>"
      ],
      "metadata": {
        "id": "6i1fSugS3_l3"
      }
    },
    {
      "cell_type": "markdown",
      "source": [],
      "metadata": {
        "id": "wxSzjXBS4cmb"
      }
    },
    {
      "cell_type": "markdown",
      "source": [],
      "metadata": {
        "id": "yJ_RAzfX4dDa"
      }
    },
    {
      "cell_type": "code",
      "source": [
        "class ListNode:\n",
        "    def __init__(self, val=0, next=None):\n",
        "        self.val = val\n",
        "        self.next = next\n",
        "\n",
        "\n",
        "def leftShiftLinkedList(head, k):\n",
        "    if not head or k == 0:\n",
        "        return head\n",
        "\n",
        "    # Find the length of the linked list\n",
        "    len = 0\n",
        "    current = head\n",
        "    while current:\n",
        "        len += 1\n",
        "        current = current.next\n",
        "\n",
        "    # Normalize k\n",
        "    k = k % len\n",
        "\n",
        "    # No shifting needed\n",
        "    if k == 0:\n",
        "        return head\n",
        "\n",
        "    # Find the (len - k)th node\n",
        "    current = head\n",
        "    for _ in range(len - k - 1):\n",
        "        current = current.next\n",
        "\n",
        "    new_head = current.next\n",
        "    current.next = None\n",
        "\n",
        "    # Find the tail of the original list\n",
        "    tail = new_head\n",
        "    while tail.next:\n",
        "        tail = tail.next\n",
        "\n",
        "    # Connect the tail to the original head\n",
        "    tail.next = head\n",
        "\n",
        "    return new_head\n",
        "\n",
        "\n",
        "# Create the linked list as described in the example\n",
        "head = ListNode(2)\n",
        "head.next = ListNode(4)\n",
        "head.next.next = ListNode(7)\n",
        "head.next.next.next = ListNode(8)\n",
        "head.next.next.next.next = ListNode(9)\n",
        "\n",
        "# Perform left shift by k nodes\n",
        "k = 3\n",
        "shifted_head = leftShiftLinkedList(head, k)\n",
        "\n",
        "# Print the shifted linked list\n",
        "current = shifted_head\n",
        "while current:\n",
        "    print(current.val, end=\" \")\n",
        "    current = current.next\n"
      ],
      "metadata": {
        "colab": {
          "base_uri": "https://localhost:8080/"
        },
        "id": "HVoRHZuB4HLV",
        "outputId": "73fd00d6-87b5-42e4-ee28-3423d5396ff9"
      },
      "execution_count": null,
      "outputs": [
        {
          "output_type": "stream",
          "name": "stdout",
          "text": [
            "7 8 9 2 4 "
          ]
        }
      ]
    },
    {
      "cell_type": "markdown",
      "source": [],
      "metadata": {
        "id": "tRth1sMd4eT1"
      }
    },
    {
      "cell_type": "markdown",
      "source": [
        "#Question 7\n",
        "\n",
        "You are given the `head` of a linked list with `n` nodes.\n",
        "\n",
        "For each node in the list, find the value of the **next greater node**. That is, for each node, find the value of the first node that is next to it and has a **strictly larger** value than it.\n",
        "\n",
        "Return an integer array `answer` where `answer[i]` is the value of the next greater node of the `ith` node (**1-indexed**). If the `ith` node does not have a next greater node, set `answer[i] = 0`.\n",
        "\n",
        "**Example 1:**\n",
        "\n",
        "!https://assets.leetcode.com/uploads/2021/08/05/linkedlistnext1.jpg\n",
        "\n",
        "```\n",
        "Input: head = [2,1,5]\n",
        "Output: [5,5,0]\n",
        "\n",
        "```\n",
        "\n",
        "**Example 2:**\n",
        "Input: head = [2,7,4,3,5]\n",
        "Output: [7,0,5,5,0]\n",
        "</aside>"
      ],
      "metadata": {
        "id": "cDrZPEwh4i1z"
      }
    },
    {
      "cell_type": "code",
      "source": [
        "class ListNode:\n",
        "    def __init__(self, val=0, next=None):\n",
        "        self.val = val\n",
        "        self.next = next\n",
        "\n",
        "def nextGreaterNodes(head):\n",
        "    # Step 1: Traverse the linked list and store values in an array\n",
        "    values = []\n",
        "    current = head\n",
        "    while current:\n",
        "        values.append(current.val)\n",
        "        current = current.next\n",
        "\n",
        "    n = len(values)\n",
        "    result = [0] * n\n",
        "    stack = []\n",
        "\n",
        "    # Step 2 and 3\n",
        "    for i in range(n):\n",
        "        while stack and values[i] > values[stack[-1]]:\n",
        "            index = stack.pop()\n",
        "            result[index] = values[i]\n",
        "        stack.append(i)\n",
        "\n",
        "    return result\n",
        "\n",
        "\n",
        "# Example 1:\n",
        "head1 = ListNode(2)\n",
        "head1.next = ListNode(1)\n",
        "head1.next.next = ListNode(5)\n",
        "print(nextGreaterNodes(head1))  # Output: [5, 5, 0]\n",
        "\n",
        "# Example 2:\n",
        "head2 = ListNode(2)\n",
        "head2.next = ListNode(7)\n",
        "head2.next.next = ListNode(4)\n",
        "head2.next.next.next = ListNode(3)\n",
        "head2.next.next.next.next = ListNode(5)\n",
        "print(nextGreaterNodes(head2))\n"
      ],
      "metadata": {
        "colab": {
          "base_uri": "https://localhost:8080/"
        },
        "id": "TefALPdX4spb",
        "outputId": "5ab9d777-8192-4d8e-84b9-4504067335f8"
      },
      "execution_count": null,
      "outputs": [
        {
          "output_type": "stream",
          "name": "stdout",
          "text": [
            "[5, 5, 0]\n",
            "[7, 0, 5, 5, 0]\n"
          ]
        }
      ]
    },
    {
      "cell_type": "code",
      "source": [],
      "metadata": {
        "id": "SNyEgPMD4-bZ"
      },
      "execution_count": null,
      "outputs": []
    },
    {
      "cell_type": "markdown",
      "source": [
        "#Question 8\n",
        "\n",
        "Given the `head` of a linked list, we repeatedly delete consecutive sequences of nodes that sum to `0` until there are no such sequences.\n",
        "\n",
        "After doing so, return the head of the final linked list.  You may return any such answer.\n",
        "\n",
        "(Note that in the examples below, all sequences are serializations of `ListNode` objects.)\n",
        "\n",
        "**Example 1:**\n",
        "Input: head = [1,2,-3,3,1]\n",
        "Output: [3,1]\n",
        "Note: The answer [1,2,1] would also be accepted.\n",
        "</aside>"
      ],
      "metadata": {
        "id": "DakiXqX75AVQ"
      }
    },
    {
      "cell_type": "code",
      "source": [
        "class ListNode:\n",
        "    def __init__(self, val=0, next=None):\n",
        "        self.val = val\n",
        "        self.next = next\n",
        "\n",
        "\n",
        "def removeZeroSumSublists(head):\n",
        "    dummy = ListNode(0)\n",
        "    dummy.next = head\n",
        "\n",
        "    prefix_sum = 0\n",
        "    node_map = {0: dummy}  # Store prefix sums and their corresponding nodes\n",
        "\n",
        "    # Calculate prefix sums and store them in the map\n",
        "    while head:\n",
        "        prefix_sum += head.val\n",
        "        node_map[prefix_sum] = head\n",
        "        head = head.next\n",
        "\n",
        "    # Reset prefix sum and iterate through the linked list again\n",
        "    prefix_sum = 0\n",
        "    head = dummy\n",
        "\n",
        "    while head:\n",
        "        prefix_sum += head.val\n",
        "\n",
        "        # If a prefix sum is found in the map, update the pointers to remove the subsequence\n",
        "        if prefix_sum in node_map:\n",
        "            head.next = node_map[prefix_sum].next\n",
        "\n",
        "        head = head.next\n",
        "\n",
        "    return dummy.next\n",
        "\n",
        "\n",
        "# Example 1:\n",
        "head = ListNode(1)\n",
        "head.next = ListNode(2)\n",
        "head.next.next = ListNode(-3)\n",
        "head.next.next.next = ListNode(3)\n",
        "head.next.next.next.next = ListNode(1)\n",
        "\n",
        "new_head = removeZeroSumSublists(head)\n",
        "while new_head:\n",
        "    print(new_head.val, end=\" \")\n",
        "    new_head = new_head.next"
      ],
      "metadata": {
        "colab": {
          "base_uri": "https://localhost:8080/"
        },
        "id": "O14t_h975CUO",
        "outputId": "8284a0a8-d3bc-4703-c43c-e5425b941d42"
      },
      "execution_count": null,
      "outputs": [
        {
          "output_type": "stream",
          "name": "stdout",
          "text": [
            "3 1 "
          ]
        }
      ]
    },
    {
      "cell_type": "code",
      "source": [],
      "metadata": {
        "id": "78uDIn1z5N7V"
      },
      "execution_count": null,
      "outputs": []
    }
  ]
}
{
  "nbformat": 4,
  "nbformat_minor": 0,
  "metadata": {
    "colab": {
      "provenance": []
    },
    "kernelspec": {
      "name": "python3",
      "display_name": "Python 3"
    },
    "language_info": {
      "name": "python"
    }
  },
  "cells": [
    {
      "cell_type": "code",
      "execution_count": null,
      "metadata": {
        "id": "-OGPQm5Q3SUc"
      },
      "outputs": [],
      "source": []
    },
    {
      "cell_type": "markdown",
      "source": [
        "#Question 1**\n",
        "\n",
        "Given an array, for each element find the value of the nearest element to the right which is having a frequency greater than that of the current element. If there does not exist an answer for a position, then make the value ‘-1’.\n",
        "\n",
        "**Examples:**\n",
        "\n",
        "Input: a[] = [1, 1, 2, 3, 4, 2, 1]\n",
        "Output : [-1, -1, 1, 2, 2, 1, -1]\n",
        "\n",
        "Explanation:\n",
        "Given array a[] = [1, 1, 2, 3, 4, 2, 1]\n",
        "Frequency of each element is: 3, 3, 2, 1, 1, 2, 3\n",
        "\n",
        "Lets calls Next Greater Frequency element as NGF\n",
        "1. For element a[0] = 1 which has a frequency = 3,\n",
        "   As it has frequency of 3 and no other next element\n",
        "   has frequency more than 3 so  '-1'\n",
        "2. For element a[1] = 1 it will be -1 same logic\n",
        "   like a[0]\n",
        "3. For element a[2] = 2 which has frequency = 2,\n",
        "   NGF element is 1 at position = 6  with frequency\n",
        "   of 3 > 2\n",
        "4. For element a[3] = 3 which has frequency = 1,\n",
        "   NGF element is 2 at position = 5 with frequency\n",
        "   of 2 > 1\n",
        "5. For element a[4] = 4 which has frequency = 1,\n",
        "   NGF element is 2 at position = 5 with frequency\n",
        "   of 2 > 1\n",
        "6. For element a[5] = 2 which has frequency = 2,\n",
        "   NGF element is 1 at position = 6 with frequency\n",
        "   of 3 > 2\n",
        "7. For element a[6] = 1 there is no element to its\n",
        "   right, hence -1"
      ],
      "metadata": {
        "id": "OvPeCOyg3aWn"
      }
    },
    {
      "cell_type": "code",
      "source": [
        "def nearestGreaterFrequency(arr):\n",
        "    stack = []\n",
        "    frequencies = {}\n",
        "    result = [-1] * len(arr)\n",
        "\n",
        "    for i in range(len(arr) - 1, -1, -1):\n",
        "        frequencies[arr[i]] = frequencies.get(arr[i], 0) + 1\n",
        "\n",
        "        while stack and frequencies[arr[i]] >= frequencies[stack[-1]]:\n",
        "            stack.pop()\n",
        "\n",
        "        if stack:\n",
        "            result[i] = stack[-1]\n",
        "\n",
        "        stack.append(arr[i])\n",
        "\n",
        "    return result\n"
      ],
      "metadata": {
        "id": "1UhC6Hj03b3Z"
      },
      "execution_count": 1,
      "outputs": []
    },
    {
      "cell_type": "code",
      "source": [
        "arr = [1, 1, 2, 3, 4, 2, 1]\n",
        "print(nearestGreaterFrequency(arr))  # Output: [-1, -1, 1, 2, 2, 1, -1]\n"
      ],
      "metadata": {
        "colab": {
          "base_uri": "https://localhost:8080/"
        },
        "id": "rfYHlAs53fcx",
        "outputId": "e104a442-b478-48d1-aefa-dd20964206d9"
      },
      "execution_count": 2,
      "outputs": [
        {
          "output_type": "stream",
          "name": "stdout",
          "text": [
            "[-1, -1, -1, -1, -1, -1, -1]\n"
          ]
        }
      ]
    },
    {
      "cell_type": "markdown",
      "source": [
        "#Question 2**\n",
        "\n",
        "Given a stack of integers, sort it in ascending order using another temporary stack.\n",
        "\n",
        "**Examples:**\n",
        "\n",
        "Input : [34, 3, 31, 98, 92, 23]\n",
        "Output : [3, 23, 31, 34, 92, 98]\n",
        "\n",
        "Input : [3, 5, 1, 4, 2, 8]\n",
        "Output : [1, 2, 3, 4, 5, 8]"
      ],
      "metadata": {
        "id": "gZ9J4dQI3nQw"
      }
    },
    {
      "cell_type": "code",
      "source": [
        "def sortStack(stack):\n",
        "    tempStack = []\n",
        "\n",
        "    while stack:\n",
        "        temp = stack.pop()\n",
        "\n",
        "        while tempStack and tempStack[-1] > temp:\n",
        "            stack.append(tempStack.pop())\n",
        "\n",
        "        tempStack.append(temp)\n",
        "\n",
        "    # Copy the elements back to the original stack\n",
        "    while tempStack:\n",
        "        stack.append(tempStack.pop())\n",
        "\n",
        "    return stack\n"
      ],
      "metadata": {
        "id": "rZm41hKE3g_d"
      },
      "execution_count": 3,
      "outputs": []
    },
    {
      "cell_type": "code",
      "source": [
        "stack1 = [34, 3, 31, 98, 92, 23]\n",
        "print(sortStack(stack1))  # Output: [3, 23, 31, 34, 92, 98]\n",
        "\n",
        "stack2 = [3, 5, 1, 4, 2, 8]\n",
        "print(sortStack(stack2))  # Output: [1, 2, 3, 4, 5, 8]\n"
      ],
      "metadata": {
        "colab": {
          "base_uri": "https://localhost:8080/"
        },
        "id": "dTeZKH4l3qA1",
        "outputId": "e9e2d92d-9015-4c88-dc17-1dd9db98697c"
      },
      "execution_count": 4,
      "outputs": [
        {
          "output_type": "stream",
          "name": "stdout",
          "text": [
            "[98, 92, 34, 31, 23, 3]\n",
            "[8, 5, 4, 3, 2, 1]\n"
          ]
        }
      ]
    },
    {
      "cell_type": "markdown",
      "source": [
        "#Question 3**\n",
        "\n",
        "Given a stack with **push()**, **pop()**, and **empty()** operations, The task is to delete the **middle** element ****of it without using any additional data structure.\n",
        "\n",
        "Input  : Stack[] = [1, 2, 3, 4, 5]\n",
        "\n",
        "Output : Stack[] = [1, 2, 4, 5]\n",
        "\n",
        "Input  : Stack[] = [1, 2, 3, 4, 5, 6]\n",
        "\n",
        "Output : Stack[] = [1, 2, 4, 5, 6]\n",
        "\n",
        "</aside>"
      ],
      "metadata": {
        "id": "_3Vx7TKB3sXp"
      }
    },
    {
      "cell_type": "code",
      "source": [
        "def deleteMiddle(stack):\n",
        "    if len(stack) == 0 or len(stack) == 1:\n",
        "        return stack\n",
        "\n",
        "    temp = stack.pop()\n",
        "\n",
        "    stack = deleteMiddle(stack)\n",
        "\n",
        "    if len(stack) % 2 == 1:\n",
        "        stack.append(temp)\n",
        "\n",
        "    return stack\n"
      ],
      "metadata": {
        "id": "aeGzadIH3rch"
      },
      "execution_count": 5,
      "outputs": []
    },
    {
      "cell_type": "code",
      "source": [
        "stack1 = [1, 2, 3, 4, 5]\n",
        "print(deleteMiddle(stack1))  # Output: [1, 2, 4, 5]\n",
        "\n",
        "stack2 = [1, 2, 3, 4, 5, 6]\n",
        "print(deleteMiddle(stack2))  # Output: [1, 2, 4, 5, 6]\n"
      ],
      "metadata": {
        "colab": {
          "base_uri": "https://localhost:8080/"
        },
        "id": "oVDga5l33y2h",
        "outputId": "a5d5cd90-8d2b-4f13-e1ed-22362b2ecddd"
      },
      "execution_count": 6,
      "outputs": [
        {
          "output_type": "stream",
          "name": "stdout",
          "text": [
            "[1, 2]\n",
            "[1, 2]\n"
          ]
        }
      ]
    },
    {
      "cell_type": "markdown",
      "source": [
        "#Question 4**\n",
        "\n",
        "Given a Queue consisting of first **n** natural numbers (in random order). The task is to check whether the given Queue elements can be arranged in increasing order in another Queue using a stack. The operation allowed are:\n",
        "\n",
        "1. Push and pop elements from the stack\n",
        "2. Pop (Or Dequeue) from the given Queue.\n",
        "3. Push (Or Enqueue) in the another Queue.\n",
        "\n",
        "**Examples :**\n",
        "\n",
        "Input : Queue[] = { 5, 1, 2, 3, 4 }\n",
        "\n",
        "Output : Yes\n",
        "\n",
        "Pop the first element of the given Queue\n",
        "\n",
        "i.e 5. Push 5 into the stack.\n",
        "\n",
        "Now, pop all the elements of the given Queue and push them to second Queue.\n",
        "\n",
        "Now, pop element 5 in the stack and push it to the second Queue.\n",
        "\n",
        "Input : Queue[] = { 5, 1, 2, 6, 3, 4 }\n",
        "\n",
        "Output : No\n",
        "\n",
        "Push 5 to stack.\n",
        "\n",
        "Pop 1, 2 from given Queue and push it to another Queue.\n",
        "\n",
        "Pop 6 from given Queue and push to stack.\n",
        "\n",
        "Pop 3, 4 from given Queue and push to second Queue.\n",
        "\n",
        "Now, from using any of above operation, we cannot push 5 into the second Queue because it is below the 6 in the stack.\n",
        "\n",
        "</aside>"
      ],
      "metadata": {
        "id": "9rL-ICQH35DM"
      }
    },
    {
      "cell_type": "code",
      "source": [
        "from queue import Queue\n",
        "\n",
        "\n",
        "def checkIncreasingOrder(queue):\n",
        "    stack = []\n",
        "    secondQueue = Queue()\n",
        "\n",
        "    while not queue.empty():\n",
        "        current = queue.get()\n",
        "\n",
        "        if secondQueue.empty() or current > secondQueue.queue[-1]:\n",
        "            secondQueue.put(current)\n",
        "        else:\n",
        "            if stack and stack[-1] > current:\n",
        "                return \"No\"\n",
        "            stack.append(current)\n",
        "\n",
        "    while stack:\n",
        "        secondQueue.put(stack.pop())\n",
        "\n",
        "    prev = float(\"-inf\")\n",
        "    while not secondQueue.empty():\n",
        "        current = secondQueue.get()\n",
        "        if current < prev:\n",
        "            return \"No\"\n",
        "        prev = current\n",
        "\n",
        "    return \"Yes\"\n"
      ],
      "metadata": {
        "id": "xxiiKqoq30PC"
      },
      "execution_count": 7,
      "outputs": []
    },
    {
      "cell_type": "code",
      "source": [
        "queue1 = Queue()\n",
        "queue1.put(5)\n",
        "queue1.put(1)\n",
        "queue1.put(2)\n",
        "queue1.put(3)\n",
        "queue1.put(4)\n",
        "print(checkIncreasingOrder(queue1))  # Output: Yes\n",
        "\n",
        "queue2 = Queue()\n",
        "queue2.put(5)\n",
        "queue2.put(1)\n",
        "queue2.put(2)\n",
        "queue2.put(6)\n",
        "queue2.put(3)\n",
        "queue2.put(4)\n",
        "print(checkIncreasingOrder(queue2))  # Output: No\n"
      ],
      "metadata": {
        "colab": {
          "base_uri": "https://localhost:8080/"
        },
        "id": "-rgIwAoD38WF",
        "outputId": "c60b8e1c-4f75-4ba3-adbe-f851a2cb7fed"
      },
      "execution_count": 8,
      "outputs": [
        {
          "output_type": "stream",
          "name": "stdout",
          "text": [
            "No\n",
            "No\n"
          ]
        }
      ]
    },
    {
      "cell_type": "markdown",
      "source": [
        "#Question 5**\n",
        "\n",
        "Given a number , write a program to reverse this number using stack.\n",
        "\n",
        "**Examples:**\n",
        "Input : 365\n",
        "Output : 563\n",
        "\n",
        "Input : 6899\n",
        "Output : 9986"
      ],
      "metadata": {
        "id": "BuM6O_-t4DNS"
      }
    },
    {
      "cell_type": "code",
      "source": [
        "def reverseNumber(num):\n",
        "    num_str = str(num)\n",
        "    stack = []\n",
        "\n",
        "    for digit in num_str:\n",
        "        stack.append(digit)\n",
        "\n",
        "    reversed_str = \"\"\n",
        "    while stack:\n",
        "        reversed_str += stack.pop()\n",
        "\n",
        "    reversed_num = int(reversed_str)\n",
        "    return reversed_num\n"
      ],
      "metadata": {
        "id": "cUOHYl-r395R"
      },
      "execution_count": 9,
      "outputs": []
    },
    {
      "cell_type": "code",
      "source": [
        "num1 = 365\n",
        "print(reverseNumber(num1))  # Output: 563\n",
        "\n",
        "num2 = 6899\n",
        "print(reverseNumber(num2))  # Output: 9986\n"
      ],
      "metadata": {
        "colab": {
          "base_uri": "https://localhost:8080/"
        },
        "id": "rk9oX6r_4GSB",
        "outputId": "e52a3c97-e3d6-4e6b-c1b4-f24ee28aabf3"
      },
      "execution_count": 10,
      "outputs": [
        {
          "output_type": "stream",
          "name": "stdout",
          "text": [
            "563\n",
            "9986\n"
          ]
        }
      ]
    },
    {
      "cell_type": "markdown",
      "source": [
        "#Question 6**\n",
        "\n",
        "Given an integer k and a **[queue](https://www.geeksforgeeks.org/queue-data-structure/)** of integers, The task is to reverse the order of the first **k** elements of the queue, leaving the other elements in the same relative order.\n",
        "\n",
        "Only following standard operations are allowed on queue.\n",
        "\n",
        "- **enqueue(x) :** Add an item x to rear of queue\n",
        "- **dequeue() :** Remove an item from front of queue\n",
        "- **size() :** Returns number of elements in queue.\n",
        "- **front() :** Finds front item.\n",
        "</aside>"
      ],
      "metadata": {
        "id": "YNXf1jC84IuH"
      }
    },
    {
      "cell_type": "code",
      "source": [
        "from queue import Queue\n",
        "\n",
        "def reverseK(queue, k):\n",
        "    if queue.empty() or k <= 0 or k > queue.qsize():\n",
        "        return queue\n",
        "\n",
        "    stack = []\n",
        "\n",
        "    # Enqueue the first k elements back into the queue\n",
        "    for _ in range(k):\n",
        "        queue.put(queue.get())\n",
        "\n",
        "    # Enqueue the remaining elements into the stack\n",
        "    while not queue.empty():\n",
        "        stack.append(queue.get())\n",
        "\n",
        "    # Enqueue the elements from the stack back into the queue\n",
        "    while stack:\n",
        "        queue.put(stack.pop())\n",
        "\n",
        "    return queue\n"
      ],
      "metadata": {
        "id": "UnsZreCu4Hl0"
      },
      "execution_count": 11,
      "outputs": []
    },
    {
      "cell_type": "code",
      "source": [
        "queue = Queue()\n",
        "queue.put(1)\n",
        "queue.put(2)\n",
        "queue.put(3)\n",
        "queue.put(4)\n",
        "queue.put(5)\n",
        "\n",
        "k = 3\n",
        "\n",
        "reversed_queue = reverseK(queue, k)\n",
        "\n",
        "while not reversed_queue.empty():\n",
        "    print(reversed_queue.get(), end=\" \")\n"
      ],
      "metadata": {
        "colab": {
          "base_uri": "https://localhost:8080/"
        },
        "id": "zmjSHuWw4S48",
        "outputId": "8877c7b8-33be-41f4-ac69-e6f73e3b4bd1"
      },
      "execution_count": 12,
      "outputs": [
        {
          "output_type": "stream",
          "name": "stdout",
          "text": [
            "3 2 1 5 4 "
          ]
        }
      ]
    },
    {
      "cell_type": "markdown",
      "source": [
        "#Question 7**\n",
        "\n",
        "Given a sequence of n strings, the task is to check if any two similar words come together and then destroy each other then print the number of words left in the sequence after this pairwise destruction.\n",
        "\n",
        "**Examples:**\n",
        "\n",
        "Input : ab aa aa bcd ab\n",
        "\n",
        "Output : 3\n",
        "\n",
        "*As aa, aa destroys each other so,*\n",
        "\n",
        "*ab bcd ab is the new sequence.*\n",
        "\n",
        "Input :  tom jerry jerry tom\n",
        "\n",
        "Output : 0\n",
        "\n",
        "*As first both jerry will destroy each other.*\n",
        "\n",
        "*Then sequence will be tom, tom they will also destroy*\n",
        "\n",
        "*each other. So, the final sequence doesn’t contain any*\n",
        "\n",
        "*word.*\n",
        "\n",
        "</aside>"
      ],
      "metadata": {
        "id": "ftPZbVhF4ZoT"
      }
    },
    {
      "cell_type": "code",
      "source": [
        "def countWordsLeft(sequence):\n",
        "    stack = []\n",
        "\n",
        "    for word in sequence:\n",
        "        if not stack:\n",
        "            stack.append(word)\n",
        "        elif stack[-1] == word:\n",
        "            stack.pop()\n",
        "        else:\n",
        "            stack.append(word)\n",
        "\n",
        "    return len(stack)\n"
      ],
      "metadata": {
        "id": "KCAH8EQi4U1z"
      },
      "execution_count": 13,
      "outputs": []
    },
    {
      "cell_type": "code",
      "source": [
        "sequence1 = ['ab', 'aa', 'aa', 'bcd', 'ab']\n",
        "result1 = countWordsLeft(sequence1)\n",
        "print(result1)  # Output: 3\n",
        "\n",
        "sequence2 = ['tom', 'jerry', 'jerry', 'tom']\n",
        "result2 = countWordsLeft(sequence2)\n",
        "print(result2)  # Output: 0\n"
      ],
      "metadata": {
        "colab": {
          "base_uri": "https://localhost:8080/"
        },
        "id": "9trZ05Yx4e71",
        "outputId": "06a937bc-fb30-43fb-d559-1b5b832b8499"
      },
      "execution_count": 14,
      "outputs": [
        {
          "output_type": "stream",
          "name": "stdout",
          "text": [
            "3\n",
            "0\n"
          ]
        }
      ]
    },
    {
      "cell_type": "code",
      "source": [],
      "metadata": {
        "id": "DrMfytFs4mOQ"
      },
      "execution_count": null,
      "outputs": []
    },
    {
      "cell_type": "markdown",
      "source": [
        "#Question 8**\n",
        "\n",
        "Given an array of integers, the task is to find the maximum absolute difference between the nearest left and the right smaller element of every element in the array.\n",
        "\n",
        "**Note:** If there is no smaller element on right side or left side of any element then we take zero as the smaller element. For example for the leftmost element, the nearest smaller element on the left side is considered as 0. Similarly, for rightmost elements, the smaller element on the right side is considered as 0.\n",
        "\n",
        "**Examples:**\n",
        "\n",
        "Input : arr[] = {2, 1, 8}\n",
        "Output : 1\n",
        "Left smaller  LS[] {0, 0, 1}\n",
        "Right smaller RS[] {1, 0, 0}\n",
        "Maximum Diff of abs(LS[i] - RS[i]) = 1\n",
        "\n",
        "Input  : arr[] = {2, 4, 8, 7, 7, 9, 3}\n",
        "Output : 4\n",
        "Left smaller   LS[] = {0, 2, 4, 4, 4, 7, 2}\n",
        "Right smaller  RS[] = {0, 3, 7, 3, 3, 3, 0}\n",
        "Maximum Diff of abs(LS[i] - RS[i]) = 7 - 3 = 4\n",
        "\n",
        "Input : arr[] = {5, 1, 9, 2, 5, 1, 7}\n",
        "Output : 1"
      ],
      "metadata": {
        "id": "iKgIQFiW4mVf"
      }
    },
    {
      "cell_type": "code",
      "source": [
        "def maxAbsDifference(arr):\n",
        "    n = len(arr)\n",
        "    leftSmaller = [0] * n\n",
        "    rightSmaller = [0] * n\n",
        "    maxDiff = 0\n",
        "\n",
        "    # Fill leftSmaller array\n",
        "    stack = []\n",
        "    for i in range(n):\n",
        "        while stack and stack[-1] >= arr[i]:\n",
        "            stack.pop()\n",
        "        if stack:\n",
        "            leftSmaller[i] = stack[-1]\n",
        "        stack.append(arr[i])\n",
        "\n",
        "    # Clear the stack\n",
        "    stack.clear()\n",
        "\n",
        "    # Fill rightSmaller array\n",
        "    for i in range(n - 1, -1, -1):\n",
        "        while stack and stack[-1] >= arr[i]:\n",
        "            stack.pop()\n",
        "        if stack:\n",
        "            rightSmaller[i] = stack[-1]\n",
        "        stack.append(arr[i])\n",
        "\n",
        "    # Calculate maxDiff\n",
        "    for i in range(n):\n",
        "        diff = abs(leftSmaller[i] - rightSmaller[i])\n",
        "        maxDiff = max(maxDiff, diff)\n",
        "\n",
        "    return maxDiff\n"
      ],
      "metadata": {
        "id": "POPkgVQx4gEq"
      },
      "execution_count": 15,
      "outputs": []
    },
    {
      "cell_type": "code",
      "source": [
        "arr1 = [2, 1, 8]\n",
        "result1 = maxAbsDifference(arr1)\n",
        "print(result1)  # Output: 1\n",
        "\n",
        "arr2 = [2, 4, 8, 7, 7, 9, 3]\n",
        "result2 = maxAbsDifference(arr2)\n",
        "print(result2)  # Output: 4\n",
        "\n",
        "arr3 = [5, 1, 9, 2, 5, 1, 7]\n",
        "result3 = maxAbsDifference(arr3)\n",
        "print(result3)  # Output: 1\n"
      ],
      "metadata": {
        "colab": {
          "base_uri": "https://localhost:8080/"
        },
        "id": "eZ34-yMI4qJP",
        "outputId": "34ab1757-9ad9-4924-9f26-9577118b5eb9"
      },
      "execution_count": 16,
      "outputs": [
        {
          "output_type": "stream",
          "name": "stdout",
          "text": [
            "1\n",
            "4\n",
            "1\n"
          ]
        }
      ]
    },
    {
      "cell_type": "code",
      "source": [],
      "metadata": {
        "id": "0Owpc1Bq4rhu"
      },
      "execution_count": null,
      "outputs": []
    }
  ]
}
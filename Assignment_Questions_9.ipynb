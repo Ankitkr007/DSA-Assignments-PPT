{
  "nbformat": 4,
  "nbformat_minor": 0,
  "metadata": {
    "colab": {
      "provenance": []
    },
    "kernelspec": {
      "name": "python3",
      "display_name": "Python 3"
    },
    "language_info": {
      "name": "python"
    }
  },
  "cells": [
    {
      "cell_type": "code",
      "execution_count": null,
      "metadata": {
        "id": "1fq-KrFKd309"
      },
      "outputs": [],
      "source": []
    },
    {
      "cell_type": "markdown",
      "source": [
        "#Question 1\n",
        "\n",
        "Given an integer `n`, return *`true` if it is a power of two. Otherwise, return `false`*.\n",
        "\n",
        "An integer `n` is a power of two, if there exists an integer `x` such that `n == 2x`.\n",
        "\n",
        "**Example 1:**\n",
        "Input: n = 1\n",
        "\n",
        "Output: true\n",
        "\n",
        "**Example 2:**\n",
        "Input: n = 16\n",
        "\n",
        "Output: true\n",
        "\n",
        "**Example 3:**\n",
        "Input: n = 3\n",
        "\n",
        "Output: false\n",
        "\n",
        "</aside>"
      ],
      "metadata": {
        "id": "JMsbrv3Md82v"
      }
    },
    {
      "cell_type": "code",
      "source": [
        "def isPowerOfTwo(n):\n",
        "    if n <= 0:\n",
        "        return False\n",
        "\n",
        "    while n % 2 == 0:\n",
        "        n //= 2\n",
        "\n",
        "    return n == 1\n"
      ],
      "metadata": {
        "id": "oyYuH6EieBsj"
      },
      "execution_count": null,
      "outputs": []
    },
    {
      "cell_type": "code",
      "source": [
        "print(isPowerOfTwo(1))\n",
        "print(isPowerOfTwo(16))\n",
        "print(isPowerOfTwo(3))\n"
      ],
      "metadata": {
        "colab": {
          "base_uri": "https://localhost:8080/"
        },
        "id": "EpjjJr-LeM4g",
        "outputId": "ef162fea-630a-4bac-a231-6b0c1052db6d"
      },
      "execution_count": null,
      "outputs": [
        {
          "output_type": "stream",
          "name": "stdout",
          "text": [
            "True\n",
            "True\n",
            "False\n"
          ]
        }
      ]
    },
    {
      "cell_type": "code",
      "source": [],
      "metadata": {
        "id": "uHkqsJdgeQAs"
      },
      "execution_count": null,
      "outputs": []
    },
    {
      "cell_type": "markdown",
      "source": [
        "#Question 2\n",
        "\n",
        "Given a number n, find the sum of the first natural numbers.\n",
        "\n",
        "**Example 1:**\n",
        "\n",
        "Input: n = 3\n",
        "\n",
        "Output: 6\n",
        "\n",
        "**Example 2:**\n",
        "\n",
        "Input  : 5\n",
        "\n",
        "Output : 15\n",
        "\n",
        "</aside>"
      ],
      "metadata": {
        "id": "R79CmXNSeV9h"
      }
    },
    {
      "cell_type": "code",
      "source": [
        "def sumOfFirstNNumbers(n):\n",
        "    return (n * (n + 1)) // 2\n"
      ],
      "metadata": {
        "id": "7RFRQdcneYI9"
      },
      "execution_count": null,
      "outputs": []
    },
    {
      "cell_type": "code",
      "source": [
        "print(sumOfFirstNNumbers(3))\n",
        "print(sumOfFirstNNumbers(5))\n"
      ],
      "metadata": {
        "colab": {
          "base_uri": "https://localhost:8080/"
        },
        "id": "3Y-1P3bWegMV",
        "outputId": "fec20fb3-15ab-4b21-cb54-fb8e848ecf31"
      },
      "execution_count": null,
      "outputs": [
        {
          "output_type": "stream",
          "name": "stdout",
          "text": [
            "6\n",
            "15\n"
          ]
        }
      ]
    },
    {
      "cell_type": "code",
      "source": [],
      "metadata": {
        "id": "SWy3P4B4ehoY"
      },
      "execution_count": null,
      "outputs": []
    },
    {
      "cell_type": "markdown",
      "source": [
        "#Question 3\n",
        "\n",
        "****Given a positive integer, N. Find the factorial of N.\n",
        "\n",
        "**Example 1:**\n",
        "\n",
        "Input: N = 5\n",
        "\n",
        "Output: 120\n",
        "\n",
        "**Example 2:**\n",
        "\n",
        "Input: N = 4\n",
        "\n",
        "Output: 24\n",
        "\n",
        "</aside>"
      ],
      "metadata": {
        "id": "nft2srLTekWH"
      }
    },
    {
      "cell_type": "code",
      "source": [
        "def factorial(N):\n",
        "    result = 1\n",
        "    for i in range(1, N+1):\n",
        "        result *= i\n",
        "    return result\n"
      ],
      "metadata": {
        "id": "f6_uzmuCenQW"
      },
      "execution_count": null,
      "outputs": []
    },
    {
      "cell_type": "code",
      "source": [
        "print(factorial(5))\n",
        "print(factorial(4))\n"
      ],
      "metadata": {
        "colab": {
          "base_uri": "https://localhost:8080/"
        },
        "id": "WjLeU9dyeqwG",
        "outputId": "f2b20fcc-f2bf-4265-e9a1-1022cf0fe900"
      },
      "execution_count": null,
      "outputs": [
        {
          "output_type": "stream",
          "name": "stdout",
          "text": [
            "120\n",
            "24\n"
          ]
        }
      ]
    },
    {
      "cell_type": "code",
      "source": [],
      "metadata": {
        "id": "asEk2NLXesHY"
      },
      "execution_count": null,
      "outputs": []
    },
    {
      "cell_type": "markdown",
      "source": [
        "#Question 4\n",
        "\n",
        "Given a number N and a power P, the task is to find the exponent of this number raised to the given power, i.e. N^P.\n",
        "\n",
        "**Example 1 :**\n",
        "\n",
        "Input: N = 5, P = 2\n",
        "\n",
        "Output: 25\n",
        "\n",
        "**Example 2 :**\n",
        "Input: N = 2, P = 5\n",
        "\n",
        "Output: 32\n",
        "\n",
        "</aside>"
      ],
      "metadata": {
        "id": "Xa8GLxPjetms"
      }
    },
    {
      "cell_type": "code",
      "source": [
        "def calculateExponentiation(N, P):\n",
        "    result = N ** P\n",
        "    return result\n"
      ],
      "metadata": {
        "id": "mmOEjOftexeW"
      },
      "execution_count": null,
      "outputs": []
    },
    {
      "cell_type": "code",
      "source": [
        "print(calculateExponentiation(5, 2))\n",
        "print(calculateExponentiation(2, 5))\n"
      ],
      "metadata": {
        "colab": {
          "base_uri": "https://localhost:8080/"
        },
        "id": "WZbKE_5pe4gf",
        "outputId": "e34bc3ce-4fab-43d7-a159-136d09b31fc7"
      },
      "execution_count": null,
      "outputs": [
        {
          "output_type": "stream",
          "name": "stdout",
          "text": [
            "25\n",
            "32\n"
          ]
        }
      ]
    },
    {
      "cell_type": "code",
      "source": [],
      "metadata": {
        "id": "QHHwTdCEe6Zd"
      },
      "execution_count": null,
      "outputs": []
    },
    {
      "cell_type": "markdown",
      "source": [
        "#Question 5\n",
        "\n",
        "Given an array of integers **arr**, the task is to find maximum element of that array using recursion.\n",
        "\n",
        "**Example 1:**\n",
        "\n",
        "Input: arr = {1, 4, 3, -5, -4, 8, 6};\n",
        "Output: 8\n",
        "\n",
        "**Example 2:**\n",
        "\n",
        "Input: arr = {1, 4, 45, 6, 10, -8};\n",
        "Output: 45\n",
        "\n",
        "</aside>"
      ],
      "metadata": {
        "id": "ap9YxoIBe77T"
      }
    },
    {
      "cell_type": "code",
      "source": [
        "def findMax(arr, index):\n",
        "    # Base case: if index reaches the end of the array\n",
        "    if index == len(arr) - 1:\n",
        "        return arr[index]\n",
        "\n",
        "    # Recursive case: compare current element with the maximum of the rest of the array\n",
        "    return max(arr[index], findMax(arr, index + 1))\n",
        "\n",
        "# Test the function\n",
        "arr = [1, 4, 3, -5, -4, 8, 6]\n",
        "print(findMax(arr, 0))  # Output: 8\n",
        "\n",
        "arr = [1, 4, 45, 6, 10, -8]\n",
        "print(findMax(arr, 0))  # Output: 45\n"
      ],
      "metadata": {
        "colab": {
          "base_uri": "https://localhost:8080/"
        },
        "id": "E0li2KsNe_2e",
        "outputId": "4c67f481-eaf6-45f2-e0c0-89b38315578c"
      },
      "execution_count": null,
      "outputs": [
        {
          "output_type": "stream",
          "name": "stdout",
          "text": [
            "8\n",
            "45\n"
          ]
        }
      ]
    },
    {
      "cell_type": "code",
      "source": [],
      "metadata": {
        "id": "LkI3aGIPfGYU"
      },
      "execution_count": null,
      "outputs": []
    },
    {
      "cell_type": "markdown",
      "source": [
        "#Question 6\n",
        "\n",
        "Given first term (a), common difference (d) and a integer N of the Arithmetic Progression series, the task is to find Nth term of the series.\n",
        "\n",
        "**Example 1:**\n",
        "\n",
        "Input : a = 2 d = 1 N = 5\n",
        "Output : 6\n",
        "The 5th term of the series is : 6\n",
        "\n",
        "**Example 2:**\n",
        "\n",
        "Input : a = 5 d = 2 N = 10\n",
        "Output : 23\n",
        "The 10th term of the series is : 23"
      ],
      "metadata": {
        "id": "5YJqkTIAfNFB"
      }
    },
    {
      "cell_type": "code",
      "source": [
        "def findNthTerm(a, d, N):\n",
        "    Nth_term = a + (N - 1) * d\n",
        "    return Nth_term\n",
        "\n",
        "# Test the function\n",
        "a = 2\n",
        "d = 1\n",
        "N = 5\n",
        "print(findNthTerm(a, d, N))\n",
        "\n",
        "a = 5\n",
        "d = 2\n",
        "N = 10\n",
        "print(findNthTerm(a, d, N))"
      ],
      "metadata": {
        "colab": {
          "base_uri": "https://localhost:8080/"
        },
        "id": "_9J7adz-fQ6G",
        "outputId": "9001ab85-9b4c-45f1-cf48-8f8768e1be58"
      },
      "execution_count": null,
      "outputs": [
        {
          "output_type": "stream",
          "name": "stdout",
          "text": [
            "6\n",
            "23\n"
          ]
        }
      ]
    },
    {
      "cell_type": "markdown",
      "source": [
        "#Question 7\n",
        "\n",
        "Given a string S, the task is to write a program to print all permutations of a given string.\n",
        "\n",
        "**Example 1:**\n",
        "\n",
        "***Input:***\n",
        "\n",
        "*S = “ABC”*\n",
        "\n",
        "***Output:***\n",
        "\n",
        "*“ABC”, “ACB”, “BAC”, “BCA”, “CBA”, “CAB”*\n",
        "\n",
        "**Example 2:**\n",
        "\n",
        "***Input:***\n",
        "\n",
        "*S = “XY”*\n",
        "\n",
        "***Output:***\n",
        "\n",
        "*“XY”, “YX”*\n",
        "\n",
        "</aside>"
      ],
      "metadata": {
        "id": "cXwC1M4TfmGo"
      }
    },
    {
      "cell_type": "code",
      "source": [
        "def permute(s, l, r):\n",
        "    if l == r:\n",
        "        print(\"\".join(s))\n",
        "    else:\n",
        "        for i in range(l, r + 1):\n",
        "            s[l], s[i] = s[i], s[l]  # Swap characters\n",
        "            permute(s, l + 1, r)  # Recursively generate permutations\n",
        "            s[l], s[i] = s[i], s[l]  # Backtrack, undo the swap\n",
        "\n",
        "# Function to generate permutations of a given string\n",
        "def generatePermutations(s):\n",
        "    n = len(s)\n",
        "    s = list(s)  # Convert string to a list for easier swapping\n",
        "    permute(s, 0, n - 1)\n",
        "\n",
        "# Test the function\n",
        "S = \"ABC\"\n",
        "generatePermutations(S)\n",
        "\n",
        "S = \"XY\"\n",
        "generatePermutations(S)\n"
      ],
      "metadata": {
        "colab": {
          "base_uri": "https://localhost:8080/"
        },
        "id": "lf3NAzrhfYj4",
        "outputId": "f0eca442-1031-4be7-d9f3-094048ed352f"
      },
      "execution_count": null,
      "outputs": [
        {
          "output_type": "stream",
          "name": "stdout",
          "text": [
            "ABC\n",
            "ACB\n",
            "BAC\n",
            "BCA\n",
            "CBA\n",
            "CAB\n",
            "XY\n",
            "YX\n"
          ]
        }
      ]
    },
    {
      "cell_type": "code",
      "source": [],
      "metadata": {
        "id": "vuNpTMUkf8zy"
      },
      "execution_count": null,
      "outputs": []
    },
    {
      "cell_type": "markdown",
      "source": [
        "#Question 8\n",
        "\n",
        "Given an array, find a product of all array elements.\n",
        "\n",
        "**Example 1:**\n",
        "\n",
        "Input  : arr[] = {1, 2, 3, 4, 5}\n",
        "Output : 120\n",
        "**Example 2:**\n",
        "\n",
        "Input  : arr[] = {1, 6, 3}\n",
        "Output : 18\n",
        "\n",
        "</aside>"
      ],
      "metadata": {
        "id": "xY99TLQGf-EW"
      }
    },
    {
      "cell_type": "code",
      "source": [
        "def productOfArray(arr):\n",
        "    product = 1\n",
        "    for num in arr:\n",
        "        product *= num\n",
        "    return product\n",
        "\n",
        "# Test the function\n",
        "arr = [1, 2, 3, 4, 5]\n",
        "print(productOfArray(arr))\n",
        "\n",
        "arr = [1, 6, 3]\n",
        "print(productOfArray(arr))\n"
      ],
      "metadata": {
        "colab": {
          "base_uri": "https://localhost:8080/"
        },
        "id": "9olOMww8gAAz",
        "outputId": "01d9fe7a-9119-4878-a5f4-f58b577508cc"
      },
      "execution_count": null,
      "outputs": [
        {
          "output_type": "stream",
          "name": "stdout",
          "text": [
            "120\n",
            "18\n"
          ]
        }
      ]
    },
    {
      "cell_type": "code",
      "source": [],
      "metadata": {
        "id": "zuXdT7qygGLq"
      },
      "execution_count": null,
      "outputs": []
    }
  ]
}